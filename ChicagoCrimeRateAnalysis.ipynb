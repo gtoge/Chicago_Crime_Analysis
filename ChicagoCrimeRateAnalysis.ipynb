{
  "nbformat": 4,
  "nbformat_minor": 0,
  "metadata": {
    "kernelspec": {
      "display_name": "Python 3",
      "language": "python",
      "name": "python3"
    },
    "language_info": {
      "codemirror_mode": {
        "name": "ipython",
        "version": 3
      },
      "file_extension": ".py",
      "mimetype": "text/x-python",
      "name": "python",
      "nbconvert_exporter": "python",
      "pygments_lexer": "ipython3",
      "version": "3.7.3"
    },
    "colab": {
      "name": "ChicagoCrimeRateAnalysis.ipynb",
      "provenance": [],
      "include_colab_link": true
    },
    "accelerator": "GPU"
  },
  "cells": [
    {
      "cell_type": "markdown",
      "metadata": {
        "id": "view-in-github",
        "colab_type": "text"
      },
      "source": [
        "<a href=\"https://colab.research.google.com/github/gtoge/Chicago_Crime_Analysis/blob/master/ChicagoCrimeRateAnalysis.ipynb\" target=\"_parent\"><img src=\"https://colab.research.google.com/assets/colab-badge.svg\" alt=\"Open In Colab\"/></a>"
      ]
    },
    {
      "cell_type": "markdown",
      "metadata": {
        "id": "5iVGu1Nj2_a8",
        "colab_type": "text"
      },
      "source": [
        "# Chicago crime dataset analysis\n",
        "  Listerning to the news about the high crime rate in Chicago[As well as other cities in the world] raises a lot of concern.We intern to use data science to get valuable insight from the city of Chicago crime datathat can help improve safety and reduce crime rate.\n",
        "  we will be using data from the city of chicago portal[https://data.cityofchicago.org/].\n",
        "We will follow the following steps\n",
        "- Problem Statement\n",
        "- Setup a pyspark environment\n",
        "- Download Aquisition\n",
        "- Data Preprocessing\n",
        "- Exploratory Analysis\n",
        "- Data Modeling\n",
        "- Decision Making\n",
        "- Prediction\n"
      ]
    },
    {
      "cell_type": "markdown",
      "metadata": {
        "id": "wuITujQPgbPl",
        "colab_type": "text"
      },
      "source": [
        "## Problem Statement\n",
        "To have an overall view on crimes in Chicago we will try to answer the following questions using Data Analysis\n",
        "- How has the number of crimes change over the years?\n",
        "- How has the number of some specific crimes varied across the years?\n",
        "- Are there any particular trends in the crimes being committed?\n",
        "-Which crimes are the most frequent?\n",
        "- What percentage of reported crimes that leads to an arrest ?\n",
        "- where are certain crimes common?\n",
        "- Are there certain locations for certain crimes( eg theft,battery etc)?\n",
        "- How has the number of arrest corrsponding tie crimes change over time in chicago?\n",
        "- - When is the peak of crimal activities? (day,month,year)\n",
        "- Which Communities have the highest crime?\n",
        "- Which crimes are predominant in each community?\n",
        "\n",
        "\n"
      ]
    },
    {
      "cell_type": "markdown",
      "metadata": {
        "id": "fn7FuHtI2_a_",
        "colab_type": "text"
      },
      "source": [
        "## Setting PySpark Environment\n",
        "- We need to install the following dependencies:\n",
        "- Apache Spark \n",
        "- hadoop \n",
        "- java \n",
        "- Findspark[for testing the environment]"
      ]
    },
    {
      "cell_type": "code",
      "metadata": {
        "id": "cRaCe49a2_bB",
        "colab_type": "code",
        "colab": {}
      },
      "source": [
        "#Apache spark dependencies download\n",
        "!apt-get install openjdk-8-jdk-headless -qq > /dev/null\n",
        "!wget -q https://www-us.apache.org/dist/spark/spark-2.4.5/spark-2.4.5-bin-hadoop2.7.tgz\n",
        "!tar xf spark-2.4.5-bin-hadoop2.7.tgz\n",
        "!pip install -q findspark"
      ],
      "execution_count": 0,
      "outputs": []
    },
    {
      "cell_type": "code",
      "metadata": {
        "id": "-NO-R4bM2_bh",
        "colab_type": "code",
        "colab": {}
      },
      "source": [
        "#Setting up the environment path\n",
        "import os\n",
        "os.environ[\"JAVA_HOME\"] = \"/usr/lib/jvm/java-8-openjdk-amd64\"\n",
        "os.environ[\"SPARK_HOME\"] = \"/content/spark-2.4.5-bin-hadoop2.7\""
      ],
      "execution_count": 0,
      "outputs": []
    },
    {
      "cell_type": "code",
      "metadata": {
        "id": "tfB8CmyE2_bq",
        "colab_type": "code",
        "colab": {}
      },
      "source": [
        "#testing our environment\n",
        "import findspark\n",
        "findspark.init()\n",
        "from pyspark.sql import SparkSession\n",
        "spark = SparkSession.builder.master(\"local[*]\").getOrCreate()"
      ],
      "execution_count": 0,
      "outputs": []
    },
    {
      "cell_type": "code",
      "metadata": {
        "id": "ConXuDlS3295",
        "colab_type": "code",
        "outputId": "199901ec-1f15-4a2e-dcc4-530399e837a3",
        "colab": {
          "base_uri": "https://localhost:8080/",
          "height": 35
        }
      },
      "source": [
        "# Checking the installation of spark\n",
        "!ls"
      ],
      "execution_count": 4,
      "outputs": [
        {
          "output_type": "stream",
          "text": [
            "sample_data  spark-2.4.5-bin-hadoop2.7\tspark-2.4.5-bin-hadoop2.7.tgz\n"
          ],
          "name": "stdout"
        }
      ]
    },
    {
      "cell_type": "markdown",
      "metadata": {
        "id": "9jEFeqas2_cD",
        "colab_type": "text"
      },
      "source": [
        "## Data Aquisition\n",
        "-Download data from [https://data.cityofchicago.org/Public-Safety/Chicago-Police-Department-Illinois-Uniform-Crime-R/c7ck-438e]"
      ]
    },
    {
      "cell_type": "code",
      "metadata": {
        "id": "30hTCfvJ2_cF",
        "colab_type": "code",
        "outputId": "dc3ab7d1-95ee-470f-8739-aebf65ff4064",
        "colab": {
          "base_uri": "https://localhost:8080/",
          "height": 208
        }
      },
      "source": [
        "#Downloading Data\n",
        "!wget https://data.cityofchicago.org/api/views/ijzp-q8t2/rows.csv?accessType=DOWNLOAD"
      ],
      "execution_count": 5,
      "outputs": [
        {
          "output_type": "stream",
          "text": [
            "--2020-04-27 00:34:13--  https://data.cityofchicago.org/api/views/ijzp-q8t2/rows.csv?accessType=DOWNLOAD\n",
            "Resolving data.cityofchicago.org (data.cityofchicago.org)... 52.206.140.199, 52.206.68.26, 52.206.140.205\n",
            "Connecting to data.cityofchicago.org (data.cityofchicago.org)|52.206.140.199|:443... connected.\n",
            "HTTP request sent, awaiting response... 200 OK\n",
            "Length: unspecified [text/csv]\n",
            "Saving to: ‘rows.csv?accessType=DOWNLOAD’\n",
            "\n",
            "rows.csv?accessType     [  <=>               ]   1.56G  3.20MB/s    in 8m 34s  \n",
            "\n",
            "2020-04-27 00:42:47 (3.11 MB/s) - ‘rows.csv?accessType=DOWNLOAD’ saved [1676102257]\n",
            "\n"
          ],
          "name": "stdout"
        }
      ]
    },
    {
      "cell_type": "code",
      "metadata": {
        "id": "vzWTyRTI2_cP",
        "colab_type": "code",
        "outputId": "5e543230-e501-4fdc-842c-28726693cd08",
        "colab": {
          "base_uri": "https://localhost:8080/",
          "height": 52
        }
      },
      "source": [
        "#Checking my downloaded files\n",
        " !ls"
      ],
      "execution_count": 6,
      "outputs": [
        {
          "output_type": "stream",
          "text": [
            "'rows.csv?accessType=DOWNLOAD'\t spark-2.4.5-bin-hadoop2.7\n",
            " sample_data\t\t\t spark-2.4.5-bin-hadoop2.7.tgz\n"
          ],
          "name": "stdout"
        }
      ]
    },
    {
      "cell_type": "code",
      "metadata": {
        "id": "2Z9-yPRP2_cW",
        "colab_type": "code",
        "colab": {}
      },
      "source": [
        "# renaming our file\n",
        "!mv rows.csv\\?accessType\\=DOWNLOAD reported-crimes.csv"
      ],
      "execution_count": 0,
      "outputs": []
    },
    {
      "cell_type": "code",
      "metadata": {
        "id": "UfhKmY6W4Nzc",
        "colab_type": "code",
        "outputId": "91448c5a-4cba-4fd3-c3e9-1b9bcad7ac44",
        "colab": {
          "base_uri": "https://localhost:8080/",
          "height": 52
        }
      },
      "source": [
        "# Checking if file wa updated\n",
        "!ls"
      ],
      "execution_count": 8,
      "outputs": [
        {
          "output_type": "stream",
          "text": [
            "reported-crimes.csv  spark-2.4.5-bin-hadoop2.7\n",
            "sample_data\t     spark-2.4.5-bin-hadoop2.7.tgz\n"
          ],
          "name": "stdout"
        }
      ]
    },
    {
      "cell_type": "markdown",
      "metadata": {
        "id": "GiIo2komzI9v",
        "colab_type": "text"
      },
      "source": [
        "## Data Preperation\n",
        "We will do data cleaning\n",
        "- Replacing Community Area with Area Name\n",
        "- Check for duplicates\n",
        "- Check for missing data\n",
        "- Checking for Outliers[Due to the nature of the data and the analysis involve,this will not be necessary]\n"
      ]
    },
    {
      "cell_type": "markdown",
      "metadata": {
        "id": "65Us5m5B2_cd",
        "colab_type": "text"
      },
      "source": [
        "### Creating  a parkSession"
      ]
    },
    {
      "cell_type": "code",
      "metadata": {
        "id": "WjxMXuYf2_ce",
        "colab_type": "code",
        "colab": {}
      },
      "source": [
        "#import and create sparksession object\n",
        "from pyspark.sql import SparkSession \n",
        "spark=SparkSession.builder.appName('rc').getOrCreate()"
      ],
      "execution_count": 0,
      "outputs": []
    },
    {
      "cell_type": "markdown",
      "metadata": {
        "id": "pYWVAkwK2_cn",
        "colab_type": "text"
      },
      "source": [
        "### Displaying a data sample"
      ]
    },
    {
      "cell_type": "code",
      "metadata": {
        "id": "5rExyRyn2_cp",
        "colab_type": "code",
        "outputId": "71e776d5-a574-4a44-87be-2bb7544a6222",
        "colab": {
          "base_uri": "https://localhost:8080/",
          "height": 228
        }
      },
      "source": [
        "#import the required functions and libraries\n",
        "from pyspark.sql.functions import  to_timestamp,col,lit\n",
        "#load the dataset and create sprk dataframe\n",
        "df=spark.read.csv('reported-crimes.csv',inferSchema=True,header=True)\n",
        "df.show(5)"
      ],
      "execution_count": 10,
      "outputs": [
        {
          "output_type": "stream",
          "text": [
            "+--------+-----------+--------------------+--------------------+----+-------------------+--------------------+--------------------+------+--------+----+--------+----+--------------+--------+------------+------------+----+--------------------+--------+---------+--------+\n",
            "|      ID|Case Number|                Date|               Block|IUCR|       Primary Type|         Description|Location Description|Arrest|Domestic|Beat|District|Ward|Community Area|FBI Code|X Coordinate|Y Coordinate|Year|          Updated On|Latitude|Longitude|Location|\n",
            "+--------+-----------+--------------------+--------------------+----+-------------------+--------------------+--------------------+------+--------+----+--------+----+--------------+--------+------------+------------+----+--------------------+--------+---------+--------+\n",
            "|11034701|   JA366925|01/01/2001 11:00:...|     016XX E 86TH PL|1153| DECEPTIVE PRACTICE|FINANCIAL IDENTIT...|           RESIDENCE| false|   false| 412|       4|   8|            45|      11|        null|        null|2001|08/05/2017 03:50:...|    null|     null|    null|\n",
            "|11227287|   JB147188|10/08/2017 03:00:...|  092XX S RACINE AVE|0281|CRIM SEXUAL ASSAULT|      NON-AGGRAVATED|           RESIDENCE| false|   false|2222|      22|  21|            73|      02|        null|        null|2017|02/11/2018 03:57:...|    null|     null|    null|\n",
            "|11227583|   JB147595|03/28/2017 02:00:...|     026XX W 79TH ST|0620|           BURGLARY|      UNLAWFUL ENTRY|               OTHER| false|   false| 835|       8|  18|            70|      05|        null|        null|2017|02/11/2018 03:57:...|    null|     null|    null|\n",
            "|11227293|   JB147230|09/09/2017 08:17:...|060XX S EBERHART AVE|0810|              THEFT|           OVER $500|           RESIDENCE| false|   false| 313|       3|  20|            42|      06|        null|        null|2017|02/11/2018 03:57:...|    null|     null|    null|\n",
            "|11227634|   JB147599|08/26/2017 10:00:...| 001XX W RANDOLPH ST|0281|CRIM SEXUAL ASSAULT|      NON-AGGRAVATED|         HOTEL/MOTEL| false|   false| 122|       1|  42|            32|      02|        null|        null|2017|02/11/2018 03:57:...|    null|     null|    null|\n",
            "+--------+-----------+--------------------+--------------------+----+-------------------+--------------------+--------------------+------+--------+----+--------+----+--------------+--------+------------+------------+----+--------------------+--------+---------+--------+\n",
            "only showing top 5 rows\n",
            "\n"
          ],
          "name": "stdout"
        }
      ]
    },
    {
      "cell_type": "markdown",
      "metadata": {
        "id": "VJNwMAqJ89Qb",
        "colab_type": "text"
      },
      "source": [
        "### Comunity Area names\n",
        "- comunity area columns is intergers. \n",
        "- we will source and add the real names instead.\n",
        "- Sourced from Chicago Tribune at http://www.chicagotribune.com/chi-community-areas-htmlstory.html"
      ]
    },
    {
      "cell_type": "code",
      "metadata": {
        "id": "B25y5uFV88C3",
        "colab_type": "code",
        "colab": {}
      },
      "source": [
        "areaNames = \"\"\"\n",
        "01\tRogers Park\t\n",
        "40\tWashington Park\n",
        "02\tWest Ridge\t\n",
        "41\tHyde Park\n",
        "03\tUptown\t\n",
        "42\tWoodlawn\n",
        "04\tLincoln Square\t\n",
        "43\tSouth Shore\n",
        "05\tNorth Center\t\n",
        "44\tChatham\n",
        "06\tLakeview\t\n",
        "45\tAvalon Park\n",
        "07\tLincoln Park\t\n",
        "46\tSouth Chicago\n",
        "08\tNear North Side\t\n",
        "47\tBurnside\n",
        "09\tEdison Park\t\n",
        "48\tCalumet Heights\n",
        "10\tNorwood Park\t\n",
        "49\tRoseland\n",
        "11\tJefferson Park\t\n",
        "50\tPullman\n",
        "12\tForest Glen\t\n",
        "51\tSouth Deering\n",
        "13\tNorth Park\t\n",
        "52\tEast Side\n",
        "14\tAlbany Park\t\n",
        "53\tWest Pullman\n",
        "15\tPortage Park\t\n",
        "54\tRiverdale\n",
        "16\tIrving Park\t\n",
        "55\tHegewisch\n",
        "17\tDunning\t\n",
        "56\tGarfield Ridge\n",
        "18\tMontclare\t\n",
        "57\tArcher Heights\n",
        "19\tBelmont Cragin\t\n",
        "58\tBrighton Park\n",
        "20\tHermosa\t\n",
        "59\tMcKinley Park\n",
        "21\tAvondale\t\n",
        "60\tBridgeport\n",
        "22\tLogan Square\t\n",
        "61\tNew City\n",
        "23\tHumboldt Park\t\n",
        "62\tWest Elsdon\n",
        "24\tWest Town\t\n",
        "63\tGage Park\n",
        "25\tAustin\t\n",
        "64\tClearing\n",
        "26\tWest Garfield Park \t\n",
        "65\tWest Lawn\n",
        "27\tEast Garfield Park\t\n",
        "66\tChicago Lawn\n",
        "28\tNear West Side\t\n",
        "67\tWest Englewood\n",
        "29\tNorth Lawndale\t\n",
        "68\tEnglewood\n",
        "30\tSouth Lawndale\t\n",
        "69\tGreater Grand Crossing\n",
        "31\tLower West Side\t\n",
        "70\tAshburn\n",
        "32\tLoop\t\n",
        "71\tAuburn Gresham\t\n",
        "33\tNear South Side\t\n",
        "72\tBeverly\n",
        "34\tArmour Square\t\n",
        "73\tWashington Heights\n",
        "35\tDouglas\t\n",
        "74\tMount Greenwood\n",
        "36\tOakland\t\n",
        "75\tMorgan Park\n",
        "37\tFuller Park\t\n",
        "76\tO'Hare\n",
        "38\tGrand Boulevard\t\n",
        "77\tEdgewater\n",
        "39\tKenwood\t\n",
        "\"\"\""
      ],
      "execution_count": 0,
      "outputs": []
    },
    {
      "cell_type": "code",
      "metadata": {
        "id": "V5jY8e3E-OQ_",
        "colab_type": "code",
        "outputId": "6dcbd443-d7ab-4c60-8c2c-a3ade0874b8c",
        "colab": {
          "base_uri": "https://localhost:8080/",
          "height": 104
        }
      },
      "source": [
        "## Splitting data into community area and area name\n",
        "ComArea_AreaName = [[float(p[0]), p[1]] for p in [pair.strip().split('\\t') for pair in areaNames.strip().split('\\n')]]\n",
        "# displaying the 5 rows\n",
        "ComArea_AreaName[:5]"
      ],
      "execution_count": 12,
      "outputs": [
        {
          "output_type": "execute_result",
          "data": {
            "text/plain": [
              "[[1.0, 'Rogers Park'],\n",
              " [40.0, 'Washington Park'],\n",
              " [2.0, 'West Ridge'],\n",
              " [41.0, 'Hyde Park'],\n",
              " [3.0, 'Uptown']]"
            ]
          },
          "metadata": {
            "tags": []
          },
          "execution_count": 12
        }
      ]
    },
    {
      "cell_type": "code",
      "metadata": {
        "id": "aNWwpvVZKB2a",
        "colab_type": "code",
        "colab": {}
      },
      "source": [
        "# Coverting our ComArea_AreaName data to a dataframe\n",
        "ComArea_AreaName_df=spark.createDataFrame(ComArea_AreaName, ['Community Area', 'Area Name'])"
      ],
      "execution_count": 0,
      "outputs": []
    },
    {
      "cell_type": "code",
      "metadata": {
        "id": "LJ9cELcCKfaJ",
        "colab_type": "code",
        "outputId": "848261f3-a194-4d55-875a-62caaec12167",
        "colab": {
          "base_uri": "https://localhost:8080/",
          "height": 315
        }
      },
      "source": [
        "#Join the community area to our main data frame\n",
        "PrepData = ComArea_AreaName_df.join(df, on='Community Area', how='right')\n",
        "PrepData.show(10)"
      ],
      "execution_count": 14,
      "outputs": [
        {
          "output_type": "stream",
          "text": [
            "+--------------+---------------+--------+-----------+--------------------+--------------------+----+------------------+--------------------+--------------------+------+--------+----+--------+----+--------+------------+------------+----+--------------------+--------+---------+--------+\n",
            "|Community Area|      Area Name|      ID|Case Number|                Date|               Block|IUCR|      Primary Type|         Description|Location Description|Arrest|Domestic|Beat|District|Ward|FBI Code|X Coordinate|Y Coordinate|Year|          Updated On|Latitude|Longitude|Location|\n",
            "+--------------+---------------+--------+-----------+--------------------+--------------------+----+------------------+--------------------+--------------------+------+--------+----+--------+----+--------+------------+------------+----+--------------------+--------+---------+--------+\n",
            "|             8|Near North Side|11227495|   JB147292|03/20/2014 09:00:...|     003XX E ERIE ST|1154|DECEPTIVE PRACTICE|FINANCIAL IDENTIT...|           RESIDENCE| false|   false|1834|      18|  42|      11|        null|        null|2014|02/11/2018 03:57:...|    null|     null|    null|\n",
            "|             8|Near North Side|11037549|   JA371812|07/30/2017 04:00:...| 004XX N DEARBORN ST|0870|             THEFT|      POCKET-PICKING|               ALLEY| false|   false|1831|      18|  42|      06|        null|        null|2017|08/06/2017 03:53:...|    null|     null|    null|\n",
            "|             8|Near North Side|11043823|   JA378025|08/11/2013 05:00:...|    004XX N CLARK ST|0820|             THEFT|      $500 AND UNDER|          RESTAURANT| false|   false|1831|      18|  42|      06|        null|        null|2013|08/06/2017 03:53:...|    null|     null|    null|\n",
            "|             8|Near North Side|11225457|   JB144550|02/05/2018 06:00:...| 013XX N LA SALLE DR|0890|             THEFT|       FROM BUILDING|    RESIDENCE-GARAGE| false|   false|1821|      18|  43|      06|        null|        null|2018|02/12/2018 03:49:...|    null|     null|    null|\n",
            "|             8|Near North Side|11037536|   JA371293|07/31/2017 08:05:...| 004XX N MC CLURG CT|1310|   CRIMINAL DAMAGE|         TO PROPERTY|     BOAT/WATERCRAFT| false|   false|1834|      18|  42|      14|        null|        null|2017|08/07/2017 03:52:...|    null|     null|    null|\n",
            "|             8|Near North Side|11030881|   JA362444|07/08/2017 06:00:...|     003XX E OHIO ST|0890|             THEFT|       FROM BUILDING|          RESTAURANT| false|   false|1834|      18|  42|      06|        null|        null|2017|07/26/2017 03:56:...|    null|     null|    null|\n",
            "|             8|Near North Side|11229204|   JB149993|04/01/2016 12:00:...|005XX N KINGSBURY ST|1153|DECEPTIVE PRACTICE|FINANCIAL IDENTIT...|           RESIDENCE| false|   false|1831|      18|  42|      11|        null|        null|2016|02/17/2018 03:52:...|    null|     null|    null|\n",
            "|             8|Near North Side|11047839|   JA382325|07/13/2011 09:00:...|  002XX E ONTARIO ST|1153|DECEPTIVE PRACTICE|FINANCIAL IDENTIT...|                null| false|   false|1834|      18|  42|      11|        null|        null|2011|08/09/2017 03:51:...|    null|     null|    null|\n",
            "|             8|Near North Side|11232906|   JB154854|11/20/2017 08:00:...|     004XX E OHIO ST|1150|DECEPTIVE PRACTICE|   CREDIT CARD FRAUD|              STREET| false|   false|1834|      18|  42|      11|        null|        null|2017|02/17/2018 03:55:...|    null|     null|    null|\n",
            "|             8|Near North Side|11231204|   JB152754|11/27/2017 08:00:...|   001XX W NORTH AVE|1153|DECEPTIVE PRACTICE|FINANCIAL IDENTIT...|    DEPARTMENT STORE| false|   false|1821|      18|  42|      11|        null|        null|2017|02/15/2018 03:50:...|    null|     null|    null|\n",
            "+--------------+---------------+--------+-----------+--------------------+--------------------+----+------------------+--------------------+--------------------+------+--------+----+--------+----+--------+------------+------------+----+--------------------+--------+---------+--------+\n",
            "only showing top 10 rows\n",
            "\n"
          ],
          "name": "stdout"
        }
      ]
    },
    {
      "cell_type": "markdown",
      "metadata": {
        "id": "qwsjRygeMss5",
        "colab_type": "text"
      },
      "source": [
        "### Checking and Handling duplicates"
      ]
    },
    {
      "cell_type": "code",
      "metadata": {
        "id": "OJ6Y1We_06A9",
        "colab_type": "code",
        "outputId": "2c6409ba-c979-4261-aabb-d1a01db9f040",
        "colab": {
          "base_uri": "https://localhost:8080/",
          "height": 52
        }
      },
      "source": [
        "#Checking for Duplicates\n",
        "print('Count of rows: {0}'.format(PrepData.count()))\n",
        "print('Count of distinct rows: {0}'.format(PrepData.distinct().count()))"
      ],
      "execution_count": 15,
      "outputs": [
        {
          "output_type": "stream",
          "text": [
            "Count of rows: 7107558\n",
            "Count of distinct rows: 7107558\n"
          ],
          "name": "stdout"
        }
      ]
    },
    {
      "cell_type": "markdown",
      "metadata": {
        "id": "Y7T-zw391652",
        "colab_type": "text"
      },
      "source": [
        "There are no duplcates  based on ID"
      ]
    },
    {
      "cell_type": "markdown",
      "metadata": {
        "id": "6wnvvApmM24H",
        "colab_type": "text"
      },
      "source": [
        "### Checking For/dropping Missing Data"
      ]
    },
    {
      "cell_type": "code",
      "metadata": {
        "id": "ciQ4f8uJ2opy",
        "colab_type": "code",
        "outputId": "90611952-832c-4165-fa3d-99bc26e608b0",
        "colab": {
          "base_uri": "https://localhost:8080/",
          "height": 117
        }
      },
      "source": [
        "## Checking for Missing Data\n",
        "## This code check for missing Data per row\n",
        "from pyspark.sql.functions import isnull, when, count, col\n",
        "missData = PrepData.select([count(when(isnull(c), c)).alias(c) for c in PrepData.columns]).toPandas()\n",
        "missData"
      ],
      "execution_count": 16,
      "outputs": [
        {
          "output_type": "execute_result",
          "data": {
            "text/html": [
              "<div>\n",
              "<style scoped>\n",
              "    .dataframe tbody tr th:only-of-type {\n",
              "        vertical-align: middle;\n",
              "    }\n",
              "\n",
              "    .dataframe tbody tr th {\n",
              "        vertical-align: top;\n",
              "    }\n",
              "\n",
              "    .dataframe thead th {\n",
              "        text-align: right;\n",
              "    }\n",
              "</style>\n",
              "<table border=\"1\" class=\"dataframe\">\n",
              "  <thead>\n",
              "    <tr style=\"text-align: right;\">\n",
              "      <th></th>\n",
              "      <th>Community Area</th>\n",
              "      <th>Area Name</th>\n",
              "      <th>ID</th>\n",
              "      <th>Case Number</th>\n",
              "      <th>Date</th>\n",
              "      <th>Block</th>\n",
              "      <th>IUCR</th>\n",
              "      <th>Primary Type</th>\n",
              "      <th>Description</th>\n",
              "      <th>Location Description</th>\n",
              "      <th>Arrest</th>\n",
              "      <th>Domestic</th>\n",
              "      <th>Beat</th>\n",
              "      <th>District</th>\n",
              "      <th>Ward</th>\n",
              "      <th>FBI Code</th>\n",
              "      <th>X Coordinate</th>\n",
              "      <th>Y Coordinate</th>\n",
              "      <th>Year</th>\n",
              "      <th>Updated On</th>\n",
              "      <th>Latitude</th>\n",
              "      <th>Longitude</th>\n",
              "      <th>Location</th>\n",
              "    </tr>\n",
              "  </thead>\n",
              "  <tbody>\n",
              "    <tr>\n",
              "      <th>0</th>\n",
              "      <td>613493</td>\n",
              "      <td>613586</td>\n",
              "      <td>0</td>\n",
              "      <td>4</td>\n",
              "      <td>0</td>\n",
              "      <td>0</td>\n",
              "      <td>0</td>\n",
              "      <td>0</td>\n",
              "      <td>0</td>\n",
              "      <td>6536</td>\n",
              "      <td>0</td>\n",
              "      <td>0</td>\n",
              "      <td>0</td>\n",
              "      <td>47</td>\n",
              "      <td>614827</td>\n",
              "      <td>0</td>\n",
              "      <td>68288</td>\n",
              "      <td>68288</td>\n",
              "      <td>0</td>\n",
              "      <td>0</td>\n",
              "      <td>68288</td>\n",
              "      <td>68288</td>\n",
              "      <td>68288</td>\n",
              "    </tr>\n",
              "  </tbody>\n",
              "</table>\n",
              "</div>"
            ],
            "text/plain": [
              "   Community Area  Area Name  ID  ...  Latitude  Longitude  Location\n",
              "0          613493     613586   0  ...     68288      68288     68288\n",
              "\n",
              "[1 rows x 23 columns]"
            ]
          },
          "metadata": {
            "tags": []
          },
          "execution_count": 16
        }
      ]
    },
    {
      "cell_type": "code",
      "metadata": {
        "id": "NHOboaMRCA9i",
        "colab_type": "code",
        "colab": {}
      },
      "source": [
        "# droping the null values\n",
        "df = PrepData.dropna()"
      ],
      "execution_count": 0,
      "outputs": []
    },
    {
      "cell_type": "code",
      "metadata": {
        "id": "f5Y3qccBCQXR",
        "colab_type": "code",
        "outputId": "42b30785-302b-4bd1-930f-fdf6bba2e14f",
        "colab": {
          "base_uri": "https://localhost:8080/",
          "height": 117
        }
      },
      "source": [
        "# Verifying our data for null\n",
        "missData = df.select([count(when(isnull(c), c)).alias(c) for c in df.columns]).toPandas()\n",
        "missData"
      ],
      "execution_count": 19,
      "outputs": [
        {
          "output_type": "execute_result",
          "data": {
            "text/html": [
              "<div>\n",
              "<style scoped>\n",
              "    .dataframe tbody tr th:only-of-type {\n",
              "        vertical-align: middle;\n",
              "    }\n",
              "\n",
              "    .dataframe tbody tr th {\n",
              "        vertical-align: top;\n",
              "    }\n",
              "\n",
              "    .dataframe thead th {\n",
              "        text-align: right;\n",
              "    }\n",
              "</style>\n",
              "<table border=\"1\" class=\"dataframe\">\n",
              "  <thead>\n",
              "    <tr style=\"text-align: right;\">\n",
              "      <th></th>\n",
              "      <th>Community Area</th>\n",
              "      <th>Area Name</th>\n",
              "      <th>ID</th>\n",
              "      <th>Case Number</th>\n",
              "      <th>Date</th>\n",
              "      <th>Block</th>\n",
              "      <th>IUCR</th>\n",
              "      <th>Primary Type</th>\n",
              "      <th>Description</th>\n",
              "      <th>Location Description</th>\n",
              "      <th>Arrest</th>\n",
              "      <th>Domestic</th>\n",
              "      <th>Beat</th>\n",
              "      <th>District</th>\n",
              "      <th>Ward</th>\n",
              "      <th>FBI Code</th>\n",
              "      <th>X Coordinate</th>\n",
              "      <th>Y Coordinate</th>\n",
              "      <th>Year</th>\n",
              "      <th>Updated On</th>\n",
              "      <th>Latitude</th>\n",
              "      <th>Longitude</th>\n",
              "      <th>Location</th>\n",
              "    </tr>\n",
              "  </thead>\n",
              "  <tbody>\n",
              "    <tr>\n",
              "      <th>0</th>\n",
              "      <td>0</td>\n",
              "      <td>0</td>\n",
              "      <td>0</td>\n",
              "      <td>0</td>\n",
              "      <td>0</td>\n",
              "      <td>0</td>\n",
              "      <td>0</td>\n",
              "      <td>0</td>\n",
              "      <td>0</td>\n",
              "      <td>0</td>\n",
              "      <td>0</td>\n",
              "      <td>0</td>\n",
              "      <td>0</td>\n",
              "      <td>0</td>\n",
              "      <td>0</td>\n",
              "      <td>0</td>\n",
              "      <td>0</td>\n",
              "      <td>0</td>\n",
              "      <td>0</td>\n",
              "      <td>0</td>\n",
              "      <td>0</td>\n",
              "      <td>0</td>\n",
              "      <td>0</td>\n",
              "    </tr>\n",
              "  </tbody>\n",
              "</table>\n",
              "</div>"
            ],
            "text/plain": [
              "   Community Area  Area Name  ID  ...  Latitude  Longitude  Location\n",
              "0               0          0   0  ...         0          0         0\n",
              "\n",
              "[1 rows x 23 columns]"
            ]
          },
          "metadata": {
            "tags": []
          },
          "execution_count": 19
        }
      ]
    },
    {
      "cell_type": "markdown",
      "metadata": {
        "id": "p0z_GmGQ2_cx",
        "colab_type": "text"
      },
      "source": [
        "### Data Exploration"
      ]
    },
    {
      "cell_type": "code",
      "metadata": {
        "id": "4seGEL392_dD",
        "colab_type": "code",
        "outputId": "3d84db98-b256-43b8-9a50-e2b3df006fbc",
        "colab": {
          "base_uri": "https://localhost:8080/",
          "height": 35
        }
      },
      "source": [
        "#Getting the shape of the data \n",
        "print((df.count(),len(df.columns)))"
      ],
      "execution_count": 20,
      "outputs": [
        {
          "output_type": "stream",
          "text": [
            "(6428153, 23)\n"
          ],
          "name": "stdout"
        }
      ]
    },
    {
      "cell_type": "code",
      "metadata": {
        "id": "g7RaZw4d2_dN",
        "colab_type": "code",
        "outputId": "972b6c03-66ab-4a60-c15a-3125ad95c24f",
        "colab": {
          "base_uri": "https://localhost:8080/",
          "height": 451
        }
      },
      "source": [
        "#display columns and columns type in dataframe\n",
        "# NB advisable to manual construct schemas\n",
        "df.printSchema()"
      ],
      "execution_count": 21,
      "outputs": [
        {
          "output_type": "stream",
          "text": [
            "root\n",
            " |-- Community Area: integer (nullable = true)\n",
            " |-- Area Name: string (nullable = true)\n",
            " |-- ID: integer (nullable = true)\n",
            " |-- Case Number: string (nullable = true)\n",
            " |-- Date: string (nullable = true)\n",
            " |-- Block: string (nullable = true)\n",
            " |-- IUCR: string (nullable = true)\n",
            " |-- Primary Type: string (nullable = true)\n",
            " |-- Description: string (nullable = true)\n",
            " |-- Location Description: string (nullable = true)\n",
            " |-- Arrest: boolean (nullable = true)\n",
            " |-- Domestic: boolean (nullable = true)\n",
            " |-- Beat: integer (nullable = true)\n",
            " |-- District: integer (nullable = true)\n",
            " |-- Ward: integer (nullable = true)\n",
            " |-- FBI Code: string (nullable = true)\n",
            " |-- X Coordinate: integer (nullable = true)\n",
            " |-- Y Coordinate: integer (nullable = true)\n",
            " |-- Year: integer (nullable = true)\n",
            " |-- Updated On: string (nullable = true)\n",
            " |-- Latitude: double (nullable = true)\n",
            " |-- Longitude: double (nullable = true)\n",
            " |-- Location: string (nullable = true)\n",
            "\n"
          ],
          "name": "stdout"
        }
      ]
    },
    {
      "cell_type": "code",
      "metadata": {
        "id": "nLL_N9WR_ps2",
        "colab_type": "code",
        "outputId": "f7a53ea6-c547-492c-ea06-3bf57a4b6b1a",
        "colab": {
          "base_uri": "https://localhost:8080/",
          "height": 191
        }
      },
      "source": [
        "#Descriptive Statistics\n",
        "# We will look into the statistics of numerical data,Ward,Community Area\n",
        "\n",
        "df.describe('Beat','District','Community Area','Ward').show()\n"
      ],
      "execution_count": 22,
      "outputs": [
        {
          "output_type": "stream",
          "text": [
            "+-------+------------------+-----------------+------------------+------------------+\n",
            "|summary|              Beat|         District|    Community Area|              Ward|\n",
            "+-------+------------------+-----------------+------------------+------------------+\n",
            "|  count|           6428153|          6428153|           6428153|           6428153|\n",
            "|   mean|1185.3028958707112|11.28633808187204| 37.55103697749571|22.700465903658486|\n",
            "| stddev| 702.2528265077336|6.939369978499845|21.524689080902142| 13.83203613378033|\n",
            "|    min|               111|                1|                 1|                 1|\n",
            "|    max|              2535|               31|                77|                50|\n",
            "+-------+------------------+-----------------+------------------+------------------+\n",
            "\n"
          ],
          "name": "stdout"
        }
      ]
    },
    {
      "cell_type": "markdown",
      "metadata": {
        "id": "k_a9UQSnwQne",
        "colab_type": "text"
      },
      "source": [
        "\n",
        "\n",
        "\n",
        "\n",
        "### Data Range\n",
        "- The span of our data"
      ]
    },
    {
      "cell_type": "code",
      "metadata": {
        "id": "iv0ZqgQrwPQj",
        "colab_type": "code",
        "outputId": "3e44b840-5393-46ef-b90f-503b813f13f4",
        "colab": {
          "base_uri": "https://localhost:8080/",
          "height": 121
        }
      },
      "source": [
        "import datetime\n",
        "from pyspark.sql.functions import *\n",
        "df.select(min('date').alias('first_record_date'), max('date').alias('latest_record_date')).show(truncate=False)"
      ],
      "execution_count": 23,
      "outputs": [
        {
          "output_type": "stream",
          "text": [
            "+----------------------+----------------------+\n",
            "|first_record_date     |latest_record_date    |\n",
            "+----------------------+----------------------+\n",
            "|01/01/2001 01:00:00 AM|12/31/2019 12:58:00 AM|\n",
            "+----------------------+----------------------+\n",
            "\n"
          ],
          "name": "stdout"
        }
      ]
    },
    {
      "cell_type": "markdown",
      "metadata": {
        "id": "Bl8-2V3Rw3-f",
        "colab_type": "text"
      },
      "source": [
        "### Converting our dates to a timestamp type"
      ]
    },
    {
      "cell_type": "code",
      "metadata": {
        "id": "se3C0QNzw0LF",
        "colab_type": "code",
        "colab": {}
      },
      "source": [
        "df = df.withColumn('date_time', to_timestamp('date', 'MM/dd/yyyy hh:mm:ss a'))\\\n",
        "       .withColumn('month', trunc('date_time', 'YYYY')) #adding a month column to be able to view stats on a monthly basis"
      ],
      "execution_count": 0,
      "outputs": []
    },
    {
      "cell_type": "code",
      "metadata": {
        "id": "h7c0jt7vwpJf",
        "colab_type": "code",
        "outputId": "52043e53-2349-4fb4-e95e-5172541efc52",
        "colab": {
          "base_uri": "https://localhost:8080/",
          "height": 208
        }
      },
      "source": [
        "df.select(['date','date_time', 'month'])\\\n",
        "  .show(n=5, truncate=False)"
      ],
      "execution_count": 25,
      "outputs": [
        {
          "output_type": "stream",
          "text": [
            "+----------------------+-------------------+----------+\n",
            "|date                  |date_time          |month     |\n",
            "+----------------------+-------------------+----------+\n",
            "|05/04/2019 02:00:00 PM|2019-05-04 14:00:00|2019-01-01|\n",
            "|05/22/2019 01:30:00 AM|2019-05-22 01:30:00|2019-01-01|\n",
            "|05/22/2019 01:42:00 AM|2019-05-22 01:42:00|2019-01-01|\n",
            "|05/23/2019 03:30:00 PM|2019-05-23 15:30:00|2019-01-01|\n",
            "|05/24/2019 06:00:00 PM|2019-05-24 18:00:00|2019-01-01|\n",
            "+----------------------+-------------------+----------+\n",
            "only showing top 5 rows\n",
            "\n"
          ],
          "name": "stdout"
        }
      ]
    },
    {
      "cell_type": "markdown",
      "metadata": {
        "id": "13Fazno6tkoY",
        "colab_type": "text"
      },
      "source": [
        "### Crime Types\n",
        "- ranking the various crimes\n",
        "- Answering the question , which crimes are the most frequent?\n",
        "\n"
      ]
    },
    {
      "cell_type": "code",
      "metadata": {
        "id": "wNlJBkg9kXRL",
        "colab_type": "code",
        "outputId": "13e44a02-8b91-463d-9843-2f38321e417a",
        "colab": {
          "base_uri": "https://localhost:8080/",
          "height": 468
        }
      },
      "source": [
        "# Quantitative look into Crime Types\n",
        "crime_type= df.groupBy('primary Type').count().orderBy('count', ascending=False)\n",
        "crime_type.show()\n"
      ],
      "execution_count": 30,
      "outputs": [
        {
          "output_type": "stream",
          "text": [
            "+--------------------+-------+\n",
            "|        primary Type|  count|\n",
            "+--------------------+-------+\n",
            "|               THEFT|1364733|\n",
            "|             BATTERY|1177504|\n",
            "|     CRIMINAL DAMAGE| 733527|\n",
            "|           NARCOTICS| 654423|\n",
            "|             ASSAULT| 405477|\n",
            "|       OTHER OFFENSE| 399396|\n",
            "|            BURGLARY| 367610|\n",
            "| MOTOR VEHICLE THEFT| 291387|\n",
            "|  DECEPTIVE PRACTICE| 256760|\n",
            "|             ROBBERY| 242787|\n",
            "|   CRIMINAL TRESPASS| 184452|\n",
            "|   WEAPONS VIOLATION|  73511|\n",
            "|        PROSTITUTION|  60692|\n",
            "|PUBLIC PEACE VIOL...|  46192|\n",
            "|OFFENSE INVOLVING...|  43774|\n",
            "| CRIM SEXUAL ASSAULT|  25347|\n",
            "|         SEX OFFENSE|  23118|\n",
            "|INTERFERENCE WITH...|  16603|\n",
            "|            GAMBLING|  13362|\n",
            "|LIQUOR LAW VIOLATION|  12250|\n",
            "+--------------------+-------+\n",
            "only showing top 20 rows\n",
            "\n"
          ],
          "name": "stdout"
        }
      ]
    },
    {
      "cell_type": "code",
      "metadata": {
        "id": "_kHzKr3pqB0S",
        "colab_type": "code",
        "colab": {
          "base_uri": "https://localhost:8080/",
          "height": 72
        },
        "outputId": "ee602c03-490a-4cff-b1e5-0a66356ae142"
      },
      "source": [
        "#Plot\n",
        "#We transform crimeType to pd datadrame to plot\n",
        "# imports\n",
        "import numpy as np\n",
        "import pandas as pd\n",
        "import seaborn as sns\n",
        "import matplotlib.pyplot as plt\n"
      ],
      "execution_count": 26,
      "outputs": [
        {
          "output_type": "stream",
          "text": [
            "/usr/local/lib/python3.6/dist-packages/statsmodels/tools/_testing.py:19: FutureWarning: pandas.util.testing is deprecated. Use the functions in the public API at pandas.testing instead.\n",
            "  import pandas.util.testing as tm\n"
          ],
          "name": "stderr"
        }
      ]
    },
    {
      "cell_type": "code",
      "metadata": {
        "id": "jVGLvAtuqaJy",
        "colab_type": "code",
        "outputId": "55317653-4652-42fc-bdf7-36d939b075b8",
        "colab": {
          "base_uri": "https://localhost:8080/",
          "height": 202
        }
      },
      "source": [
        "#Converting data to panda\n",
        "crime_type_df= crime_type.toPandas()\n",
        "crime_type_df.head(5)"
      ],
      "execution_count": 31,
      "outputs": [
        {
          "output_type": "execute_result",
          "data": {
            "text/html": [
              "<div>\n",
              "<style scoped>\n",
              "    .dataframe tbody tr th:only-of-type {\n",
              "        vertical-align: middle;\n",
              "    }\n",
              "\n",
              "    .dataframe tbody tr th {\n",
              "        vertical-align: top;\n",
              "    }\n",
              "\n",
              "    .dataframe thead th {\n",
              "        text-align: right;\n",
              "    }\n",
              "</style>\n",
              "<table border=\"1\" class=\"dataframe\">\n",
              "  <thead>\n",
              "    <tr style=\"text-align: right;\">\n",
              "      <th></th>\n",
              "      <th>primary Type</th>\n",
              "      <th>count</th>\n",
              "    </tr>\n",
              "  </thead>\n",
              "  <tbody>\n",
              "    <tr>\n",
              "      <th>0</th>\n",
              "      <td>THEFT</td>\n",
              "      <td>1364733</td>\n",
              "    </tr>\n",
              "    <tr>\n",
              "      <th>1</th>\n",
              "      <td>BATTERY</td>\n",
              "      <td>1177504</td>\n",
              "    </tr>\n",
              "    <tr>\n",
              "      <th>2</th>\n",
              "      <td>CRIMINAL DAMAGE</td>\n",
              "      <td>733527</td>\n",
              "    </tr>\n",
              "    <tr>\n",
              "      <th>3</th>\n",
              "      <td>NARCOTICS</td>\n",
              "      <td>654423</td>\n",
              "    </tr>\n",
              "    <tr>\n",
              "      <th>4</th>\n",
              "      <td>ASSAULT</td>\n",
              "      <td>405477</td>\n",
              "    </tr>\n",
              "  </tbody>\n",
              "</table>\n",
              "</div>"
            ],
            "text/plain": [
              "      primary Type    count\n",
              "0            THEFT  1364733\n",
              "1          BATTERY  1177504\n",
              "2  CRIMINAL DAMAGE   733527\n",
              "3        NARCOTICS   654423\n",
              "4          ASSAULT   405477"
            ]
          },
          "metadata": {
            "tags": []
          },
          "execution_count": 31
        }
      ]
    },
    {
      "cell_type": "code",
      "metadata": {
        "id": "rtFvjZZiqozF",
        "colab_type": "code",
        "outputId": "74b08c1b-26cd-4836-f580-19ae216d9327",
        "colab": {
          "base_uri": "https://localhost:8080/",
          "height": 442
        }
      },
      "source": [
        "#plots\n",
        "plt.rcParams[\"figure.figsize\"] = [20, 8]\n",
        "\n",
        "sns.set(style=\"whitegrid\")\n",
        "sns.set_color_codes(\"pastel\")\n",
        "\n",
        "#sns.despine(left=True, bottom=True)\n",
        "type_graph = sns.barplot(x='count', y='primary Type',data= crime_type_df)\n",
        "type_graph.set(ylabel=\"Primary Type\", xlabel=\"Crimes Record Count\")"
      ],
      "execution_count": 35,
      "outputs": [
        {
          "output_type": "execute_result",
          "data": {
            "text/plain": [
              "[Text(0, 0.5, 'Primary Type'), Text(0.5, 0, 'Crimes Record Count')]"
            ]
          },
          "metadata": {
            "tags": []
          },
          "execution_count": 35
        },
        {
          "output_type": "display_data",
          "data": {
            "image/png": "[encoded data removed]",
            "text/plain": [
              "<Figure size 1440x576 with 1 Axes>"
            ]
          },
          "metadata": {
            "tags": []
          }
        }
      ]
    },
    {
      "cell_type": "markdown",
      "metadata": {
        "id": "WsQDaV0Ox0xx",
        "colab_type": "text"
      },
      "source": [
        "### Percentage of reported crimes that results to an arrest\n",
        "- We answer the question\n",
        "-  What percentage of reported crimes that leads to an arrest ?"
      ]
    },
    {
      "cell_type": "code",
      "metadata": {
        "id": "BSFGzldxyAK8",
        "colab_type": "code",
        "outputId": "1c6a5b74-ec0e-47fd-fd21-282869ad259a",
        "colab": {
          "base_uri": "https://localhost:8080/",
          "height": 139
        }
      },
      "source": [
        "# Boolean count of Arrests\n",
        "df.groupBy('Arrest').count().show()"
      ],
      "execution_count": 36,
      "outputs": [
        {
          "output_type": "stream",
          "text": [
            "+------+-------+\n",
            "|Arrest|  count|\n",
            "+------+-------+\n",
            "|  true|1750050|\n",
            "| false|4678103|\n",
            "+------+-------+\n",
            "\n"
          ],
          "name": "stdout"
        }
      ]
    },
    {
      "cell_type": "code",
      "metadata": {
        "id": "R3YXTfA5zUzg",
        "colab_type": "code",
        "outputId": "0471c1a7-72bb-4454-b0a1-1865eabbe323",
        "colab": {
          "base_uri": "https://localhost:8080/",
          "height": 35
        }
      },
      "source": [
        "# Percentage Of Aresst\n",
        "# succesfull arrest divided total arrest\n",
        "PerArrest=(df.filter(col('Arrest') == 'true').count() / df.select('Arrest').count())*100\n",
        "PerArrest"
      ],
      "execution_count": 37,
      "outputs": [
        {
          "output_type": "execute_result",
          "data": {
            "text/plain": [
              "27.2247720301617"
            ]
          },
          "metadata": {
            "tags": []
          },
          "execution_count": 37
        }
      ]
    },
    {
      "cell_type": "markdown",
      "metadata": {
        "id": "ylNF-cKm1Qsq",
        "colab_type": "text"
      },
      "source": [
        "### Location With Highest Number of repoported crimes\n",
        "- where are certain crimes common?"
      ]
    },
    {
      "cell_type": "code",
      "metadata": {
        "id": "C9_DXWYPcjPf",
        "colab_type": "code",
        "colab": {
          "base_uri": "https://localhost:8080/",
          "height": 35
        },
        "outputId": "3620d06e-0a9f-4172-952c-5829636890b4"
      },
      "source": [
        "# Number of location recorded in the dataset\n",
        "df.select('location description').distinct().count()"
      ],
      "execution_count": 58,
      "outputs": [
        {
          "output_type": "execute_result",
          "data": {
            "text/plain": [
              "212"
            ]
          },
          "metadata": {
            "tags": []
          },
          "execution_count": 58
        }
      ]
    },
    {
      "cell_type": "code",
      "metadata": {
        "id": "6ZSCv6r_1iCx",
        "colab_type": "code",
        "outputId": "f81fca70-a237-4120-e8fd-7fc7c9f616ea",
        "colab": {
          "base_uri": "https://localhost:8080/",
          "height": 468
        }
      },
      "source": [
        "df.groupby('Location Description').count().orderBy('count', ascending=False).show(20)"
      ],
      "execution_count": 38,
      "outputs": [
        {
          "output_type": "stream",
          "text": [
            "+--------------------+-------+\n",
            "|Location Description|  count|\n",
            "+--------------------+-------+\n",
            "|              STREET|1647995|\n",
            "|           RESIDENCE|1067712|\n",
            "|           APARTMENT| 704206|\n",
            "|            SIDEWALK| 650812|\n",
            "|               OTHER| 239444|\n",
            "|PARKING LOT/GARAG...| 181909|\n",
            "|               ALLEY| 143580|\n",
            "|SCHOOL, PUBLIC, B...| 131438|\n",
            "|    RESIDENCE-GARAGE| 122226|\n",
            "|  SMALL RETAIL STORE| 118487|\n",
            "|RESIDENCE PORCH/H...| 112373|\n",
            "|VEHICLE NON-COMME...| 107814|\n",
            "|          RESTAURANT| 105455|\n",
            "|    DEPARTMENT STORE|  81630|\n",
            "|  GROCERY FOOD STORE|  80884|\n",
            "|RESIDENTIAL YARD ...|  74902|\n",
            "|         GAS STATION|  71031|\n",
            "|       PARK PROPERTY|  49422|\n",
            "|CHA PARKING LOT/G...|  44938|\n",
            "|COMMERCIAL / BUSI...|  44088|\n",
            "+--------------------+-------+\n",
            "only showing top 20 rows\n",
            "\n"
          ],
          "name": "stdout"
        }
      ]
    },
    {
      "cell_type": "markdown",
      "metadata": {
        "id": "p-aqujJcN4UX",
        "colab_type": "text"
      },
      "source": [
        "### Crime Location for certain crimes\n",
        "- Are there certain locations for certain crimes( eg theft,battery etc)?"
      ]
    },
    {
      "cell_type": "code",
      "metadata": {
        "colab_type": "code",
        "outputId": "b053aaf3-aa85-467b-ac21-523ce99b730c",
        "id": "Q-cWKRKkPQKZ",
        "colab": {
          "base_uri": "https://localhost:8080/",
          "height": 468
        }
      },
      "source": [
        "df.groupby('primary Type','Location Description').count().orderBy('count', ascending=False).show(20)"
      ],
      "execution_count": 42,
      "outputs": [
        {
          "output_type": "stream",
          "text": [
            "+-------------------+--------------------+------+\n",
            "|       primary Type|Location Description| count|\n",
            "+-------------------+--------------------+------+\n",
            "|              THEFT|              STREET|369244|\n",
            "|    CRIMINAL DAMAGE|              STREET|261956|\n",
            "|            BATTERY|           APARTMENT|246734|\n",
            "|            BATTERY|           RESIDENCE|239758|\n",
            "|MOTOR VEHICLE THEFT|              STREET|229853|\n",
            "|          NARCOTICS|              STREET|226153|\n",
            "|          NARCOTICS|            SIDEWALK|213085|\n",
            "|            BATTERY|              STREET|197744|\n",
            "|            BATTERY|            SIDEWALK|178834|\n",
            "|      OTHER OFFENSE|           RESIDENCE|178829|\n",
            "|    CRIMINAL DAMAGE|           RESIDENCE|137205|\n",
            "|              THEFT|           RESIDENCE|137093|\n",
            "|           BURGLARY|           RESIDENCE|124723|\n",
            "|           BURGLARY|           APARTMENT|110111|\n",
            "|            ASSAULT|              STREET| 80909|\n",
            "|    CRIMINAL DAMAGE|           APARTMENT| 80107|\n",
            "|            ROBBERY|            SIDEWALK| 77414|\n",
            "|              THEFT|               OTHER| 74880|\n",
            "| DECEPTIVE PRACTICE|           RESIDENCE| 72874|\n",
            "|            ROBBERY|              STREET| 71858|\n",
            "+-------------------+--------------------+------+\n",
            "only showing top 20 rows\n",
            "\n"
          ],
          "name": "stdout"
        }
      ]
    },
    {
      "cell_type": "markdown",
      "metadata": {
        "id": "rFW3MNVYQ8gH",
        "colab_type": "text"
      },
      "source": [
        "### Arrest over the years\n",
        "- How has the number of arrest corrsponding tie crimes change over time in chicago?"
      ]
    },
    {
      "cell_type": "code",
      "metadata": {
        "id": "1TegmS2NRXOA",
        "colab_type": "code",
        "colab": {
          "base_uri": "https://localhost:8080/",
          "height": 208
        },
        "outputId": "5aa7dc00-9235-4038-8901-5f7e8cb99fcd"
      },
      "source": [
        "# arrest over years:\n",
        "arrest_date = df.groupBy(['arrest', 'month'])\\\n",
        "                     .count()\\\n",
        "                     .orderBy(['month', 'count'], ascending=[True, False])\n",
        "arrest_date.show(5)"
      ],
      "execution_count": 44,
      "outputs": [
        {
          "output_type": "stream",
          "text": [
            "+------+----------+------+\n",
            "|arrest|     month| count|\n",
            "+------+----------+------+\n",
            "| false|2001-01-01|  3167|\n",
            "|  true|2001-01-01|   715|\n",
            "| false|2002-01-01|248853|\n",
            "|  true|2002-01-01| 96165|\n",
            "| false|2003-01-01|331551|\n",
            "+------+----------+------+\n",
            "only showing top 5 rows\n",
            "\n"
          ],
          "name": "stdout"
        }
      ]
    },
    {
      "cell_type": "code",
      "metadata": {
        "id": "TlpKlsIIU7Cb",
        "colab_type": "code",
        "colab": {}
      },
      "source": [
        "arrest_date_df=arrest_date.toPandas()"
      ],
      "execution_count": 0,
      "outputs": []
    },
    {
      "cell_type": "code",
      "metadata": {
        "id": "mJgQyhaeUDjw",
        "colab_type": "code",
        "colab": {
          "base_uri": "https://localhost:8080/",
          "height": 519
        },
        "outputId": "7c24d717-65ef-4f20-a712-ab873387ce2e"
      },
      "source": [
        "# Data for plotting\n",
        "arrested = arrest_date_df[arrest_date_df['arrest'] == True]\n",
        "not_arrested = arrest_date_df[arrest_date_df['arrest'] == False]\n",
        "\n",
        "# Note that using plt.subplots below is equivalent to using\n",
        "# fig = plt.figure() and then ax = fig.add_subplot(111)\n",
        "fig, ax = plt.subplots()\n",
        "ax.plot(arrested['month'], arrested['count'], label='Arrested')\n",
        "ax.plot(not_arrested['month'], not_arrested['count'], label='Not Arrested')\n",
        "\n",
        "ax.set(xlabel='Year - 2001-2019', ylabel='Total records',\n",
        "       title='Year-on-year crime records')\n",
        "ax.grid(b=True, which='both', axis='y')\n",
        "ax.legend()"
      ],
      "execution_count": 49,
      "outputs": [
        {
          "output_type": "execute_result",
          "data": {
            "text/plain": [
              "<matplotlib.legend.Legend at 0x7f81a0c41588>"
            ]
          },
          "metadata": {
            "tags": []
          },
          "execution_count": 49
        },
        {
          "output_type": "display_data",
          "data": {
            "image/png": "[encoded data removed]",
            "text/plain": [
              "<Figure size 1440x576 with 1 Axes>"
            ]
          },
          "metadata": {
            "tags": []
          }
        }
      ]
    },
    {
      "cell_type": "markdown",
      "metadata": {
        "id": "2kZO_WQt4w01",
        "colab_type": "text"
      },
      "source": [
        "### Time of the day with the highest crime rate\n",
        "- what time of the day are criminals busiest?"
      ]
    },
    {
      "cell_type": "code",
      "metadata": {
        "id": "HW_t64cr5CWd",
        "colab_type": "code",
        "colab": {}
      },
      "source": [
        "# Extract the \"hour\" field from the date into a separate column called \"hour\"\n",
        "df_hour = df.withColumn('hour', hour(df['date_time']))"
      ],
      "execution_count": 0,
      "outputs": []
    },
    {
      "cell_type": "code",
      "metadata": {
        "id": "IXuYAaG64vIX",
        "colab_type": "code",
        "colab": {}
      },
      "source": [
        "# Derive a data frame with crime counts per hour of the day:\n",
        "hourly_count = df_hour.groupBy(['primary type', 'hour']).count().cache()\n",
        "hourly_total_count = hourly_count.groupBy('hour').sum('count')"
      ],
      "execution_count": 0,
      "outputs": []
    },
    {
      "cell_type": "code",
      "metadata": {
        "id": "7ho6NhP-Bvgk",
        "colab_type": "code",
        "colab": {}
      },
      "source": [
        "hourly_count_pddf = pd.DataFrame(hourly_total_count.select(hourly_total_count['hour'], hourly_total_count['sum(count)'].alias('count'))\\\n",
        "                                .rdd.map(lambda l: l.asDict())\\\n",
        "                                 .collect())"
      ],
      "execution_count": 0,
      "outputs": []
    },
    {
      "cell_type": "code",
      "metadata": {
        "id": "ibt-jfXGB7Mq",
        "colab_type": "code",
        "outputId": "b5f4f770-0a24-4db5-c8dd-8c287eb65cbd",
        "colab": {
          "base_uri": "https://localhost:8080/",
          "height": 785
        }
      },
      "source": [
        "hourly_count_pddf = hourly_count_pddf.sort_values(by='hour')\n",
        "hourly_count_pddf "
      ],
      "execution_count": 53,
      "outputs": [
        {
          "output_type": "execute_result",
          "data": {
            "text/html": [
              "<div>\n",
              "<style scoped>\n",
              "    .dataframe tbody tr th:only-of-type {\n",
              "        vertical-align: middle;\n",
              "    }\n",
              "\n",
              "    .dataframe tbody tr th {\n",
              "        vertical-align: top;\n",
              "    }\n",
              "\n",
              "    .dataframe thead th {\n",
              "        text-align: right;\n",
              "    }\n",
              "</style>\n",
              "<table border=\"1\" class=\"dataframe\">\n",
              "  <thead>\n",
              "    <tr style=\"text-align: right;\">\n",
              "      <th></th>\n",
              "      <th>hour</th>\n",
              "      <th>count</th>\n",
              "    </tr>\n",
              "  </thead>\n",
              "  <tbody>\n",
              "    <tr>\n",
              "      <th>22</th>\n",
              "      <td>0</td>\n",
              "      <td>350517</td>\n",
              "    </tr>\n",
              "    <tr>\n",
              "      <th>2</th>\n",
              "      <td>1</td>\n",
              "      <td>203655</td>\n",
              "    </tr>\n",
              "    <tr>\n",
              "      <th>21</th>\n",
              "      <td>2</td>\n",
              "      <td>171470</td>\n",
              "    </tr>\n",
              "    <tr>\n",
              "      <th>6</th>\n",
              "      <td>3</td>\n",
              "      <td>138579</td>\n",
              "    </tr>\n",
              "    <tr>\n",
              "      <th>13</th>\n",
              "      <td>4</td>\n",
              "      <td>104505</td>\n",
              "    </tr>\n",
              "    <tr>\n",
              "      <th>8</th>\n",
              "      <td>5</td>\n",
              "      <td>87272</td>\n",
              "    </tr>\n",
              "    <tr>\n",
              "      <th>4</th>\n",
              "      <td>6</td>\n",
              "      <td>103043</td>\n",
              "    </tr>\n",
              "    <tr>\n",
              "      <th>16</th>\n",
              "      <td>7</td>\n",
              "      <td>147831</td>\n",
              "    </tr>\n",
              "    <tr>\n",
              "      <th>14</th>\n",
              "      <td>8</td>\n",
              "      <td>218220</td>\n",
              "    </tr>\n",
              "    <tr>\n",
              "      <th>11</th>\n",
              "      <td>9</td>\n",
              "      <td>276515</td>\n",
              "    </tr>\n",
              "    <tr>\n",
              "      <th>17</th>\n",
              "      <td>10</td>\n",
              "      <td>271075</td>\n",
              "    </tr>\n",
              "    <tr>\n",
              "      <th>19</th>\n",
              "      <td>11</td>\n",
              "      <td>285658</td>\n",
              "    </tr>\n",
              "    <tr>\n",
              "      <th>0</th>\n",
              "      <td>12</td>\n",
              "      <td>366428</td>\n",
              "    </tr>\n",
              "    <tr>\n",
              "      <th>3</th>\n",
              "      <td>13</td>\n",
              "      <td>306162</td>\n",
              "    </tr>\n",
              "    <tr>\n",
              "      <th>20</th>\n",
              "      <td>14</td>\n",
              "      <td>325931</td>\n",
              "    </tr>\n",
              "    <tr>\n",
              "      <th>10</th>\n",
              "      <td>15</td>\n",
              "      <td>343264</td>\n",
              "    </tr>\n",
              "    <tr>\n",
              "      <th>5</th>\n",
              "      <td>16</td>\n",
              "      <td>324412</td>\n",
              "    </tr>\n",
              "    <tr>\n",
              "      <th>12</th>\n",
              "      <td>17</td>\n",
              "      <td>329178</td>\n",
              "    </tr>\n",
              "    <tr>\n",
              "      <th>23</th>\n",
              "      <td>18</td>\n",
              "      <td>352604</td>\n",
              "    </tr>\n",
              "    <tr>\n",
              "      <th>9</th>\n",
              "      <td>19</td>\n",
              "      <td>366013</td>\n",
              "    </tr>\n",
              "    <tr>\n",
              "      <th>7</th>\n",
              "      <td>20</td>\n",
              "      <td>363735</td>\n",
              "    </tr>\n",
              "    <tr>\n",
              "      <th>18</th>\n",
              "      <td>21</td>\n",
              "      <td>354242</td>\n",
              "    </tr>\n",
              "    <tr>\n",
              "      <th>1</th>\n",
              "      <td>22</td>\n",
              "      <td>349141</td>\n",
              "    </tr>\n",
              "    <tr>\n",
              "      <th>15</th>\n",
              "      <td>23</td>\n",
              "      <td>288703</td>\n",
              "    </tr>\n",
              "  </tbody>\n",
              "</table>\n",
              "</div>"
            ],
            "text/plain": [
              "    hour   count\n",
              "22     0  350517\n",
              "2      1  203655\n",
              "21     2  171470\n",
              "6      3  138579\n",
              "13     4  104505\n",
              "8      5   87272\n",
              "4      6  103043\n",
              "16     7  147831\n",
              "14     8  218220\n",
              "11     9  276515\n",
              "17    10  271075\n",
              "19    11  285658\n",
              "0     12  366428\n",
              "3     13  306162\n",
              "20    14  325931\n",
              "10    15  343264\n",
              "5     16  324412\n",
              "12    17  329178\n",
              "23    18  352604\n",
              "9     19  366013\n",
              "7     20  363735\n",
              "18    21  354242\n",
              "1     22  349141\n",
              "15    23  288703"
            ]
          },
          "metadata": {
            "tags": []
          },
          "execution_count": 53
        }
      ]
    },
    {
      "cell_type": "code",
      "metadata": {
        "id": "6iX-rMt8CZEk",
        "colab_type": "code",
        "outputId": "47c30e0c-4161-4a33-85cd-133d45a94f8a",
        "colab": {
          "base_uri": "https://localhost:8080/",
          "height": 519
        }
      },
      "source": [
        "#Plot\n",
        "fig, ax = plt.subplots()\n",
        "ax.plot(hourly_count_pddf['hour'], hourly_count_pddf['count'], label='Hourly Count')\n",
        "\n",
        "ax.set(xlabel='Hour of Day', ylabel='Total records',\n",
        "       title='Overall hourly crime numbers')\n",
        "ax.grid(b=True, which='both', axis='y')\n",
        "ax.legend()\n"
      ],
      "execution_count": 54,
      "outputs": [
        {
          "output_type": "execute_result",
          "data": {
            "text/plain": [
              "<matplotlib.legend.Legend at 0x7f81a0beee80>"
            ]
          },
          "metadata": {
            "tags": []
          },
          "execution_count": 54
        },
        {
          "output_type": "display_data",
          "data": {
            "image/png": "[encoded data removed]",
            "text/plain": [
              "<Figure size 1440x576 with 1 Axes>"
            ]
          },
          "metadata": {
            "tags": []
          }
        }
      ]
    },
    {
      "cell_type": "markdown",
      "metadata": {
        "id": "4ccvruQ-ErQ7",
        "colab_type": "text"
      },
      "source": [
        "### Critical View in crime date and time\n",
        "- When is the peak of crimal activities?"
      ]
    },
    {
      "cell_type": "code",
      "metadata": {
        "id": "tMGpTDhTFUCl",
        "colab_type": "code",
        "colab": {}
      },
      "source": [
        "df_dates = df_hour.withColumn('week_day', dayofweek(df_hour['date_time']))\\\n",
        "                 .withColumn('year_month', month(df_hour['date_time']))\\\n",
        "                 .withColumn('month_day', dayofmonth(df_hour['date_time']))\\\n",
        "                 .withColumn('date_number', datediff(df['date_time'], to_date(lit('2001-01-01'), format='yyyy-MM-dd')))\\\n",
        "                 .cache()"
      ],
      "execution_count": 0,
      "outputs": []
    },
    {
      "cell_type": "code",
      "metadata": {
        "id": "9Pd9JntsFci4",
        "colab_type": "code",
        "outputId": "d8b90fd8-e2b5-4cb8-868b-3d47ffe6455f",
        "colab": {
          "base_uri": "https://localhost:8080/",
          "height": 468
        }
      },
      "source": [
        "\n",
        "df_dates.select(['date', 'month', 'hour', 'week_day', 'year', 'year_month', 'month_day', 'date_number']).show(20, truncate=False)"
      ],
      "execution_count": 60,
      "outputs": [
        {
          "output_type": "stream",
          "text": [
            "+----------------------+----------+----+--------+----+----------+---------+-----------+\n",
            "|date                  |month     |hour|week_day|year|year_month|month_day|date_number|\n",
            "+----------------------+----------+----+--------+----+----------+---------+-----------+\n",
            "|05/04/2019 02:00:00 PM|2019-01-01|14  |7       |2019|5         |4        |6697       |\n",
            "|05/22/2019 01:30:00 AM|2019-01-01|1   |4       |2019|5         |22       |6715       |\n",
            "|05/22/2019 01:42:00 AM|2019-01-01|1   |4       |2019|5         |22       |6715       |\n",
            "|05/23/2019 03:30:00 PM|2019-01-01|15  |5       |2019|5         |23       |6716       |\n",
            "|05/24/2019 06:00:00 PM|2019-01-01|18  |6       |2019|5         |24       |6717       |\n",
            "|06/01/2019 03:00:00 PM|2019-01-01|15  |7       |2019|6         |1        |6725       |\n",
            "|05/24/2019 03:00:00 AM|2019-01-01|3   |6       |2019|5         |24       |6717       |\n",
            "|05/24/2019 12:52:00 AM|2019-01-01|0   |6       |2019|5         |24       |6717       |\n",
            "|05/24/2019 05:00:00 PM|2019-01-01|17  |6       |2019|5         |24       |6717       |\n",
            "|03/24/2015 07:30:00 PM|2015-01-01|19  |3       |2015|3         |24       |5195       |\n",
            "|05/21/2019 04:27:00 PM|2019-01-01|16  |3       |2019|5         |21       |6714       |\n",
            "|05/10/2019 02:00:00 PM|2019-01-01|14  |6       |2019|5         |10       |6703       |\n",
            "|05/21/2019 06:30:00 PM|2019-01-01|18  |3       |2019|5         |21       |6714       |\n",
            "|04/29/2019 02:47:00 PM|2019-01-01|14  |2       |2019|4         |29       |6692       |\n",
            "|05/21/2019 05:30:00 PM|2019-01-01|17  |3       |2019|5         |21       |6714       |\n",
            "|05/21/2019 01:19:00 PM|2019-01-01|13  |3       |2019|5         |21       |6714       |\n",
            "|04/30/2019 02:30:00 PM|2019-01-01|14  |3       |2019|4         |30       |6693       |\n",
            "|05/21/2019 12:00:00 PM|2019-01-01|12  |3       |2019|5         |21       |6714       |\n",
            "|05/14/2019 08:00:00 PM|2019-01-01|20  |3       |2019|5         |14       |6707       |\n",
            "|05/21/2019 07:30:00 PM|2019-01-01|19  |3       |2019|5         |21       |6714       |\n",
            "+----------------------+----------+----+--------+----+----------+---------+-----------+\n",
            "only showing top 20 rows\n",
            "\n"
          ],
          "name": "stdout"
        }
      ]
    },
    {
      "cell_type": "code",
      "metadata": {
        "id": "w2d1hoFpFuwp",
        "colab_type": "code",
        "outputId": "cf01d899-6d14-424a-d19f-c3b5343ec629",
        "colab": {
          "base_uri": "https://localhost:8080/",
          "height": 530
        }
      },
      "source": [
        "#Ploting the crime count accros days of the week\n",
        "week_day_crime_counts = df_dates.groupBy('week_day').count()\n",
        "week_day_crime_counts_pddf = pd.DataFrame(week_day_crime_counts.orderBy('week_day').rdd.map(lambda e: e.asDict()).collect())\n",
        "sns.barplot(data=week_day_crime_counts_pddf, x='week_day', y='count')"
      ],
      "execution_count": 0,
      "outputs": [
        {
          "output_type": "execute_result",
          "data": {
            "text/plain": [
              "<matplotlib.axes._subplots.AxesSubplot at 0x7f7b2e6b65f8>"
            ]
          },
          "metadata": {
            "tags": []
          },
          "execution_count": 59
        },
        {
          "output_type": "display_data",
          "data": {
            "image/png": "[encoded data removed]",
            "text/plain": [
              "<Figure size 1440x576 with 1 Axes>"
            ]
          },
          "metadata": {
            "tags": []
          }
        }
      ]
    },
    {
      "cell_type": "code",
      "metadata": {
        "id": "1nuIcjJSKDBT",
        "colab_type": "code",
        "outputId": "cc31f74c-4108-4baa-bf23-a53909e81d84",
        "colab": {
          "base_uri": "https://localhost:8080/",
          "height": 355
        }
      },
      "source": [
        "# Ploting crime count across days of the month\n",
        "month_day_crime_counts = df_dates.groupBy('month_day').count()\n",
        "\n",
        "month_day_crime_counts_pddf = pd.DataFrame(month_day_crime_counts.orderBy('month_day').rdd.map(lambda e: e.asDict()).collect())\n",
        "month_day_crime_counts_pddf.sort_values(by='count', ascending=False).head(10)"
      ],
      "execution_count": 61,
      "outputs": [
        {
          "output_type": "execute_result",
          "data": {
            "text/html": [
              "<div>\n",
              "<style scoped>\n",
              "    .dataframe tbody tr th:only-of-type {\n",
              "        vertical-align: middle;\n",
              "    }\n",
              "\n",
              "    .dataframe tbody tr th {\n",
              "        vertical-align: top;\n",
              "    }\n",
              "\n",
              "    .dataframe thead th {\n",
              "        text-align: right;\n",
              "    }\n",
              "</style>\n",
              "<table border=\"1\" class=\"dataframe\">\n",
              "  <thead>\n",
              "    <tr style=\"text-align: right;\">\n",
              "      <th></th>\n",
              "      <th>month_day</th>\n",
              "      <th>count</th>\n",
              "    </tr>\n",
              "  </thead>\n",
              "  <tbody>\n",
              "    <tr>\n",
              "      <th>0</th>\n",
              "      <td>1</td>\n",
              "      <td>245720</td>\n",
              "    </tr>\n",
              "    <tr>\n",
              "      <th>14</th>\n",
              "      <td>15</td>\n",
              "      <td>217948</td>\n",
              "    </tr>\n",
              "    <tr>\n",
              "      <th>19</th>\n",
              "      <td>20</td>\n",
              "      <td>214331</td>\n",
              "    </tr>\n",
              "    <tr>\n",
              "      <th>16</th>\n",
              "      <td>17</td>\n",
              "      <td>212903</td>\n",
              "    </tr>\n",
              "    <tr>\n",
              "      <th>9</th>\n",
              "      <td>10</td>\n",
              "      <td>212159</td>\n",
              "    </tr>\n",
              "    <tr>\n",
              "      <th>13</th>\n",
              "      <td>14</td>\n",
              "      <td>211626</td>\n",
              "    </tr>\n",
              "    <tr>\n",
              "      <th>15</th>\n",
              "      <td>16</td>\n",
              "      <td>211375</td>\n",
              "    </tr>\n",
              "    <tr>\n",
              "      <th>17</th>\n",
              "      <td>18</td>\n",
              "      <td>210472</td>\n",
              "    </tr>\n",
              "    <tr>\n",
              "      <th>11</th>\n",
              "      <td>12</td>\n",
              "      <td>210150</td>\n",
              "    </tr>\n",
              "    <tr>\n",
              "      <th>20</th>\n",
              "      <td>21</td>\n",
              "      <td>210130</td>\n",
              "    </tr>\n",
              "  </tbody>\n",
              "</table>\n",
              "</div>"
            ],
            "text/plain": [
              "    month_day   count\n",
              "0           1  245720\n",
              "14         15  217948\n",
              "19         20  214331\n",
              "16         17  212903\n",
              "9          10  212159\n",
              "13         14  211626\n",
              "15         16  211375\n",
              "17         18  210472\n",
              "11         12  210150\n",
              "20         21  210130"
            ]
          },
          "metadata": {
            "tags": []
          },
          "execution_count": 61
        }
      ]
    },
    {
      "cell_type": "code",
      "metadata": {
        "id": "Hz9RkiiZKopP",
        "colab_type": "code",
        "outputId": "be207fe2-4efc-42bf-f3d6-e7077c248fbf",
        "colab": {
          "base_uri": "https://localhost:8080/",
          "height": 493
        }
      },
      "source": [
        "#Plot\n",
        "month_day_crime_counts_pddf = month_day_crime_counts_pddf.sort_values(by='month_day', ascending=True)\n",
        "fg, ax = plt.subplots()\n",
        "\n",
        "ax.plot(month_day_crime_counts_pddf['month_day'], month_day_crime_counts_pddf['count'], label='Crimes over the month')\n",
        "\n",
        "ax.grid(b=True, which='both')\n",
        "ax.legend()"
      ],
      "execution_count": 62,
      "outputs": [
        {
          "output_type": "execute_result",
          "data": {
            "text/plain": [
              "<matplotlib.legend.Legend at 0x7f81a0b08d30>"
            ]
          },
          "metadata": {
            "tags": []
          },
          "execution_count": 62
        },
        {
          "output_type": "display_data",
          "data": {
            "image/png": "[encoded data removed]",
            "text/plain": [
              "<Figure size 1440x576 with 1 Axes>"
            ]
          },
          "metadata": {
            "tags": []
          }
        }
      ]
    },
    {
      "cell_type": "code",
      "metadata": {
        "id": "BqmPhVN6IUBp",
        "colab_type": "code",
        "outputId": "a8726283-a762-4f9b-fd07-9b160baff5df",
        "colab": {
          "base_uri": "https://localhost:8080/",
          "height": 417
        }
      },
      "source": [
        "# Ploting the crime count accros the months of the year\n",
        "year_month_crime_counts = df_dates.groupBy('year_month').count()\n",
        "year_month_crime_counts_pddf = pd.DataFrame(year_month_crime_counts.orderBy('year_month').rdd.map(lambda e: e.asDict()).collect())\n",
        "year_month_crime_counts_pddf"
      ],
      "execution_count": 63,
      "outputs": [
        {
          "output_type": "execute_result",
          "data": {
            "text/html": [
              "<div>\n",
              "<style scoped>\n",
              "    .dataframe tbody tr th:only-of-type {\n",
              "        vertical-align: middle;\n",
              "    }\n",
              "\n",
              "    .dataframe tbody tr th {\n",
              "        vertical-align: top;\n",
              "    }\n",
              "\n",
              "    .dataframe thead th {\n",
              "        text-align: right;\n",
              "    }\n",
              "</style>\n",
              "<table border=\"1\" class=\"dataframe\">\n",
              "  <thead>\n",
              "    <tr style=\"text-align: right;\">\n",
              "      <th></th>\n",
              "      <th>year_month</th>\n",
              "      <th>count</th>\n",
              "    </tr>\n",
              "  </thead>\n",
              "  <tbody>\n",
              "    <tr>\n",
              "      <th>0</th>\n",
              "      <td>1</td>\n",
              "      <td>486632</td>\n",
              "    </tr>\n",
              "    <tr>\n",
              "      <th>1</th>\n",
              "      <td>2</td>\n",
              "      <td>429887</td>\n",
              "    </tr>\n",
              "    <tr>\n",
              "      <th>2</th>\n",
              "      <td>3</td>\n",
              "      <td>513373</td>\n",
              "    </tr>\n",
              "    <tr>\n",
              "      <th>3</th>\n",
              "      <td>4</td>\n",
              "      <td>517462</td>\n",
              "    </tr>\n",
              "    <tr>\n",
              "      <th>4</th>\n",
              "      <td>5</td>\n",
              "      <td>581020</td>\n",
              "    </tr>\n",
              "    <tr>\n",
              "      <th>5</th>\n",
              "      <td>6</td>\n",
              "      <td>577011</td>\n",
              "    </tr>\n",
              "    <tr>\n",
              "      <th>6</th>\n",
              "      <td>7</td>\n",
              "      <td>605743</td>\n",
              "    </tr>\n",
              "    <tr>\n",
              "      <th>7</th>\n",
              "      <td>8</td>\n",
              "      <td>599321</td>\n",
              "    </tr>\n",
              "    <tr>\n",
              "      <th>8</th>\n",
              "      <td>9</td>\n",
              "      <td>561537</td>\n",
              "    </tr>\n",
              "    <tr>\n",
              "      <th>9</th>\n",
              "      <td>10</td>\n",
              "      <td>565134</td>\n",
              "    </tr>\n",
              "    <tr>\n",
              "      <th>10</th>\n",
              "      <td>11</td>\n",
              "      <td>508115</td>\n",
              "    </tr>\n",
              "    <tr>\n",
              "      <th>11</th>\n",
              "      <td>12</td>\n",
              "      <td>482918</td>\n",
              "    </tr>\n",
              "  </tbody>\n",
              "</table>\n",
              "</div>"
            ],
            "text/plain": [
              "    year_month   count\n",
              "0            1  486632\n",
              "1            2  429887\n",
              "2            3  513373\n",
              "3            4  517462\n",
              "4            5  581020\n",
              "5            6  577011\n",
              "6            7  605743\n",
              "7            8  599321\n",
              "8            9  561537\n",
              "9           10  565134\n",
              "10          11  508115\n",
              "11          12  482918"
            ]
          },
          "metadata": {
            "tags": []
          },
          "execution_count": 63
        }
      ]
    },
    {
      "cell_type": "code",
      "metadata": {
        "id": "FcrFJxU5I_Jq",
        "colab_type": "code",
        "outputId": "cae56a93-e078-42e2-b5fa-a511d0760dc1",
        "colab": {
          "base_uri": "https://localhost:8080/",
          "height": 503
        }
      },
      "source": [
        "#Plot\n",
        "sns.barplot(data=year_month_crime_counts_pddf, y='count', x='year_month')"
      ],
      "execution_count": 64,
      "outputs": [
        {
          "output_type": "execute_result",
          "data": {
            "text/plain": [
              "<matplotlib.axes._subplots.AxesSubplot at 0x7f81a0acde10>"
            ]
          },
          "metadata": {
            "tags": []
          },
          "execution_count": 64
        },
        {
          "output_type": "display_data",
          "data": {
            "image/png": "[encoded data removed]",
            "text/plain": [
              "<Figure size 1440x576 with 1 Axes>"
            ]
          },
          "metadata": {
            "tags": []
          }
        }
      ]
    },
    {
      "cell_type": "markdown",
      "metadata": {
        "id": "WqjCd6osMBC-",
        "colab_type": "text"
      },
      "source": [
        "### Comparing Chicago Community Areas\n",
        "- chicago has 77 community areas\n",
        "- we will use a count plot\n",
        "- Given that we added the area names we wil use to\n",
        "- Which Communities have the highest crime?\n",
        "- Which crimes are predominant in each community?\n"
      ]
    },
    {
      "cell_type": "code",
      "metadata": {
        "id": "0TXx2NBnL_xg",
        "colab_type": "code",
        "outputId": "34b2768e-1b4d-432e-f3b7-dac502a2ac14",
        "colab": {
          "base_uri": "https://localhost:8080/",
          "height": 295
        }
      },
      "source": [
        "# Community Areas with highest crimes\n",
        "df_dates_community_areas = df.groupBy('community area','Area Name').count().orderBy('count', ascending=False).show(10)\n"
      ],
      "execution_count": 66,
      "outputs": [
        {
          "output_type": "stream",
          "text": [
            "+--------------+---------------+------+\n",
            "|community area|      Area Name| count|\n",
            "+--------------+---------------+------+\n",
            "|            25|         Austin|407512|\n",
            "|             8|Near North Side|222954|\n",
            "|            43|    South Shore|210670|\n",
            "|            23|  Humboldt Park|203042|\n",
            "|            28| Near West Side|190707|\n",
            "|            24|      West Town|188990|\n",
            "|            67| West Englewood|188062|\n",
            "|            29| North Lawndale|186674|\n",
            "|            71| Auburn Gresham|182646|\n",
            "|            49|       Roseland|171499|\n",
            "+--------------+---------------+------+\n",
            "only showing top 10 rows\n",
            "\n"
          ],
          "name": "stdout"
        }
      ]
    },
    {
      "cell_type": "code",
      "metadata": {
        "colab_type": "code",
        "outputId": "c48847d4-2220-4bc3-f050-ed5232ee6880",
        "id": "iym22Bv4ZRai",
        "colab": {
          "base_uri": "https://localhost:8080/",
          "height": 468
        }
      },
      "source": [
        "#Comparing community areas and their crime type\n",
        "crime_per_Area = df.groupBy('primary Type','community area','Area Name').count().sort('primary Type','community area','Area Name')\n",
        "crime_per_Area_counts = crime_per_Area.orderBy('count', ascending=False)\n",
        "crime_per_Area_counts.show(truncate=False)"
      ],
      "execution_count": 67,
      "outputs": [
        {
          "output_type": "stream",
          "text": [
            "+---------------+--------------+---------------+-----+\n",
            "|primary Type   |community area|Area Name      |count|\n",
            "+---------------+--------------+---------------+-----+\n",
            "|THEFT          |8             |Near North Side|93454|\n",
            "|NARCOTICS      |25            |Austin         |90875|\n",
            "|BATTERY        |25            |Austin         |82301|\n",
            "|THEFT          |32            |Loop           |81435|\n",
            "|THEFT          |28            |Near West Side |63150|\n",
            "|THEFT          |24            |West Town      |61732|\n",
            "|THEFT          |25            |Austin         |53366|\n",
            "|THEFT          |6             |Lakeview       |47721|\n",
            "|NARCOTICS      |23            |Humboldt Park  |47164|\n",
            "|BATTERY        |43            |South Shore    |46558|\n",
            "|THEFT          |7             |Lincoln Park   |45214|\n",
            "|BATTERY        |67            |West Englewood |44758|\n",
            "|BATTERY        |68            |Englewood      |42809|\n",
            "|NARCOTICS      |29            |North Lawndale |42434|\n",
            "|BATTERY        |29            |North Lawndale |41119|\n",
            "|BATTERY        |23            |Humboldt Park  |40396|\n",
            "|BATTERY        |71            |Auburn Gresham |39047|\n",
            "|THEFT          |22            |Logan Square   |38922|\n",
            "|BATTERY        |49            |Roseland       |36489|\n",
            "|CRIMINAL DAMAGE|25            |Austin         |36208|\n",
            "+---------------+--------------+---------------+-----+\n",
            "only showing top 20 rows\n",
            "\n"
          ],
          "name": "stdout"
        }
      ]
    },
    {
      "cell_type": "code",
      "metadata": {
        "id": "A9o2FFPRXA6P",
        "colab_type": "code",
        "outputId": "dc687a73-aa71-422a-8d62-3d25bedf43ff",
        "colab": {
          "base_uri": "https://localhost:8080/",
          "height": 459
        }
      },
      "source": [
        "# Comparing crime type in each location\n",
        "crime_per_location = df.groupBy('primary Type','Location Description').count().sort('primary Type','Location description')\n",
        "crime_per_location_counts = crime_per_location.orderBy('count', ascending=False)\n",
        "crime_per_location_counts.show(truncate=False)"
      ],
      "execution_count": 0,
      "outputs": [
        {
          "output_type": "stream",
          "text": [
            "+-------------------+--------------------+------+\n",
            "|primary Type       |Location Description|count |\n",
            "+-------------------+--------------------+------+\n",
            "|THEFT              |STREET              |369221|\n",
            "|CRIMINAL DAMAGE    |STREET              |261941|\n",
            "|BATTERY            |APARTMENT           |246702|\n",
            "|BATTERY            |RESIDENCE           |239743|\n",
            "|MOTOR VEHICLE THEFT|STREET              |229844|\n",
            "|NARCOTICS          |STREET              |226152|\n",
            "|NARCOTICS          |SIDEWALK            |213084|\n",
            "|BATTERY            |STREET              |197739|\n",
            "|OTHER OFFENSE      |RESIDENCE           |178826|\n",
            "|BATTERY            |SIDEWALK            |178817|\n",
            "|CRIMINAL DAMAGE    |RESIDENCE           |137195|\n",
            "|THEFT              |RESIDENCE           |137086|\n",
            "|BURGLARY           |RESIDENCE           |124717|\n",
            "|BURGLARY           |APARTMENT           |110098|\n",
            "|ASSAULT            |STREET              |80897 |\n",
            "|CRIMINAL DAMAGE    |APARTMENT           |80089 |\n",
            "|ROBBERY            |SIDEWALK            |77411 |\n",
            "|THEFT              |OTHER               |74883 |\n",
            "|DECEPTIVE PRACTICE |RESIDENCE           |72860 |\n",
            "|ROBBERY            |STREET              |71855 |\n",
            "+-------------------+--------------------+------+\n",
            "only showing top 20 rows\n",
            "\n"
          ],
          "name": "stdout"
        }
      ]
    },
    {
      "cell_type": "markdown",
      "metadata": {
        "id": "sk_GovJFoJEj",
        "colab_type": "text"
      },
      "source": [
        "### Domestic Crimes\n",
        "- How does domestic crime compare with other crimes?"
      ]
    },
    {
      "cell_type": "code",
      "metadata": {
        "id": "0lyGN0nXo8iD",
        "colab_type": "code",
        "colab": {
          "base_uri": "https://localhost:8080/",
          "height": 139
        },
        "outputId": "3678926a-4796-4a38-be17-8ac96ab9713f"
      },
      "source": [
        "# Boolean count of Domestic Crimes\n",
        "df.groupBy('Domestic').count().show()"
      ],
      "execution_count": 68,
      "outputs": [
        {
          "output_type": "stream",
          "text": [
            "+--------+-------+\n",
            "|Domestic|  count|\n",
            "+--------+-------+\n",
            "|    true| 865249|\n",
            "|   false|5562904|\n",
            "+--------+-------+\n",
            "\n"
          ],
          "name": "stdout"
        }
      ]
    },
    {
      "cell_type": "markdown",
      "metadata": {
        "id": "5AK40R9unDAN",
        "colab_type": "text"
      },
      "source": [
        "### Amount Of Theft each Year"
      ]
    },
    {
      "cell_type": "code",
      "metadata": {
        "id": "y70UOo0jrn5y",
        "colab_type": "code",
        "colab": {
          "base_uri": "https://localhost:8080/",
          "height": 488
        },
        "outputId": "ddedf0ee-d0bc-44d8-91b3-ffaa88f6d7b8"
      },
      "source": [
        "# Select DataFrame approach\n",
        "new_df=df.filter(col('primary Type') == 'THEFT')\n",
        "new_df.show()"
      ],
      "execution_count": 81,
      "outputs": [
        {
          "output_type": "stream",
          "text": [
            "+--------------+---------------+--------+-----------+--------------------+--------------------+----+------------+---------------+--------------------+------+--------+----+--------+----+--------+------------+------------+----+--------------------+------------+-------------+--------------------+-------------------+----------+\n",
            "|Community Area|      Area Name|      ID|Case Number|                Date|               Block|IUCR|Primary Type|    Description|Location Description|Arrest|Domestic|Beat|District|Ward|FBI Code|X Coordinate|Y Coordinate|Year|          Updated On|    Latitude|    Longitude|            Location|          date_time|     month|\n",
            "+--------------+---------------+--------+-----------+--------------------+--------------------+----+------------+---------------+--------------------+------+--------+----+--------+----+--------+------------+------------+----+--------------------+------------+-------------+--------------------+-------------------+----------+\n",
            "|             8|Near North Side|11676085|   JC249714|05/04/2019 02:00:...|  001XX E PEARSON ST|0820|       THEFT| $500 AND UNDER|         HOTEL/MOTEL| false|   false|1833|      18|   2|      06|     1177578|     1906074|2019|06/30/2019 03:56:...|41.897596067|-87.623218373|(41.897596067, -8...|2019-05-04 14:00:00|2019-01-01|\n",
            "|             8|Near North Side|11697227|   JC275463|05/23/2019 03:30:...|    011XX N CLARK ST|0870|       THEFT| POCKET-PICKING|            SIDEWALK| false|   false|1824|      18|   2|      06|     1175324|     1908199|2019|06/30/2019 03:56:...|41.903478069|-87.631433102|(41.903478069, -8...|2019-05-23 15:30:00|2019-01-01|\n",
            "|             8|Near North Side|11708333|   JC288899|06/01/2019 03:00:...|    004XX N WELLS ST|0810|       THEFT|      OVER $500|PARKING LOT/GARAG...| false|   false|1831|      18|  42|      06|     1174661|     1903052|2019|06/30/2019 03:56:...|41.889369287|-87.634022523|(41.889369287, -8...|2019-06-01 15:00:00|2019-01-01|\n",
            "|             8|Near North Side|11698150|   JC276486|05/24/2019 03:00:...|  001XX W HUBBARD ST|0820|       THEFT| $500 AND UNDER|              STREET| false|   false|1831|      18|  42|      06|     1175301|     1903292|2019|06/30/2019 03:56:...|41.890013524|-87.631664996|(41.890013524, -8...|2019-05-24 03:00:00|2019-01-01|\n",
            "|             8|Near North Side|11698725|   JC277265|05/24/2019 05:00:...|  001XX E ONTARIO ST|0890|       THEFT|  FROM BUILDING|       BAR OR TAVERN| false|   false|1834|      18|  42|      06|     1177497|     1904525|2019|06/30/2019 03:56:...|41.893347377|-87.623562938|(41.893347377, -8...|2019-05-24 17:00:00|2019-01-01|\n",
            "|             8|Near North Side|10007497|   HY197249|03/24/2015 07:30:...|005XX N KINGSBURY ST|0820|       THEFT| $500 AND UNDER|               OTHER| false|   false|1831|      18|  42|      06|     1173193|     1903598|2015|02/10/2018 03:50:...|41.890900247|-87.639397357|(41.890900247, -8...|2015-03-24 19:30:00|2015-01-01|\n",
            "|             8|Near North Side|11694987|   JC272523|05/21/2019 04:27:...| 004XX E ILLINOIS ST|0860|       THEFT|   RETAIL THEFT|  SMALL RETAIL STORE|  true|   false|1834|      18|  42|      06|     1179279|     1903707|2019|06/30/2019 03:56:...|41.891062111|-87.617043461|(41.891062111, -8...|2019-05-21 16:27:00|2019-01-01|\n",
            "|             8|Near North Side|11695077|   JC272901|05/21/2019 06:30:...| 001XX W ILLINOIS ST|0820|       THEFT| $500 AND UNDER|          RESTAURANT| false|   false|1831|      18|  42|      06|     1175294|     1903583|2019|06/30/2019 03:56:...|41.890812201|-87.631681964|(41.890812201, -8...|2019-05-21 18:30:00|2019-01-01|\n",
            "|             8|Near North Side|11670774|   JC242950|04/29/2019 02:47:...|    002XX E HURON ST|0880|       THEFT|PURSE-SNATCHING|              STREET| false|   false|1834|      18|  42|      06|     1177877|     1905128|2019|06/30/2019 03:56:...|41.894993403|-87.622148996|(41.894993403, -8...|2019-04-29 14:47:00|2019-01-01|\n",
            "|             8|Near North Side|11694495|   JC272151|04/30/2019 02:30:...|011XX W BLACKHAWK ST|0890|       THEFT|  FROM BUILDING|FACTORY/MANUFACTU...| false|   false|1822|      18|  27|      06|     1168387|     1909481|2019|06/30/2019 03:56:...|41.907148882|-87.656876923|(41.907148882, -8...|2019-04-30 14:30:00|2019-01-01|\n",
            "|             8|Near North Side|11695242|   JC273027|05/21/2019 07:30:...|    002XX E HURON ST|0820|       THEFT| $500 AND UNDER|PARKING LOT/GARAG...| false|   false|1834|      18|  42|      06|     1177951|     1905130|2019|06/30/2019 03:56:...|41.894997208|-87.621877156|(41.894997208, -8...|2019-05-21 19:30:00|2019-01-01|\n",
            "|             8|Near North Side|11694466|   JC272001|05/20/2019 09:30:...|    0000X E HURON ST|0820|       THEFT| $500 AND UNDER|              STREET| false|   false|1834|      18|  42|      06|     1176420|     1905077|2019|06/30/2019 03:56:...|41.894886472|-87.627501647|(41.894886472, -8...|2019-05-20 09:30:00|2019-01-01|\n",
            "|             8|Near North Side|11688302|   JC263817|04/01/2019 08:45:...| 001XX W DIVISION ST|0870|       THEFT| POCKET-PICKING|           CTA TRAIN| false|   false|1821|      18|   2|      06|     1175219|     1908350|2019|06/30/2019 03:56:...|41.903894777|-87.631814251|(41.903894777, -8...|2019-04-01 08:45:00|2019-01-01|\n",
            "|             8|Near North Side|11694597|   JC272082|05/19/2019 06:00:...| 014XX N SEDGWICK ST|0810|       THEFT|      OVER $500|           RESIDENCE| false|   false|1821|      18|  27|      06|     1173383|     1909988|2019|06/30/2019 03:56:...|41.908430535|-87.638509526|(41.908430535, -8...|2019-05-19 18:00:00|2019-01-01|\n",
            "|             8|Near North Side|11695073|   JC272888|05/21/2019 12:00:...|015XX N CLYBOURN AVE|0820|       THEFT| $500 AND UNDER|           CTA TRAIN| false|   false|1822|      18|   2|      06|     1170470|     1910783|2019|06/30/2019 03:56:...|41.910676312|-87.649187069|(41.910676312, -8...|2019-05-21 12:00:00|2019-01-01|\n",
            "|             8|Near North Side|11694696|   JC272385|05/21/2019 04:00:...|    002XX E HURON ST|0890|       THEFT|  FROM BUILDING|HOSPITAL BUILDING...| false|   false|1834|      18|  42|      06|     1178066|     1905133|2019|06/30/2019 03:56:...|41.895002822|-87.621454706|(41.895002822, -8...|2019-05-21 04:00:00|2019-01-01|\n",
            "|             8|Near North Side|11696189|   JC274105|05/21/2019 04:00:...| 004XX E ILLINOIS ST|0870|       THEFT| POCKET-PICKING|            SIDEWALK| false|   false|1834|      18|  42|      06|     1179279|     1903707|2019|06/30/2019 03:56:...|41.891062111|-87.617043461|(41.891062111, -8...|2019-05-21 16:00:00|2019-01-01|\n",
            "|             8|Near North Side|11695502|   JC273336|05/21/2019 06:00:...|006XX N MICHIGAN AVE|0890|       THEFT|  FROM BUILDING|  SMALL RETAIL STORE| false|   false|1834|      18|  42|      06|     1177327|     1904307|2019|06/30/2019 03:56:...|41.892753031|-87.624193896|(41.892753031, -8...|2019-05-21 18:00:00|2019-01-01|\n",
            "|             8|Near North Side|11695880|   JC273772|05/17/2019 08:50:...|    002XX E HURON ST|0890|       THEFT|  FROM BUILDING|HOSPITAL BUILDING...| false|   false|1834|      18|  42|      06|     1178066|     1905133|2019|06/30/2019 03:56:...|41.895002822|-87.621454706|(41.895002822, -8...|2019-05-17 20:50:00|2019-01-01|\n",
            "|             8|Near North Side|11696176|   JC273813|05/22/2019 02:15:...| 006XX N LA SALLE DR|0810|       THEFT|      OVER $500|         GAS STATION| false|   false|1832|      18|  42|      06|     1175023|     1904549|2019|06/30/2019 03:56:...|41.893469034|-87.632648229|(41.893469034, -8...|2019-05-22 14:15:00|2019-01-01|\n",
            "+--------------+---------------+--------+-----------+--------------------+--------------------+----+------------+---------------+--------------------+------+--------+----+--------+----+--------+------------+------------+----+--------------------+------------+-------------+--------------------+-------------------+----------+\n",
            "only showing top 20 rows\n",
            "\n"
          ],
          "name": "stdout"
        }
      ]
    },
    {
      "cell_type": "code",
      "metadata": {
        "id": "QJX4XHsNnQPR",
        "colab_type": "code",
        "outputId": "eab1a118-ad20-4572-9636-f478c256cd61",
        "colab": {
          "base_uri": "https://localhost:8080/",
          "height": 451
        }
      },
      "source": [
        "# Amount of Theft each Year\n",
        "Theft_per_year = new_df.groupBy('primary Type','Year').count().sort('primary Type','Year')\n",
        "Theft_per_year_counts = Theft_per_year.orderBy('count', ascending=False)\n",
        "Theft_per_year_counts.show(truncate=False)"
      ],
      "execution_count": 82,
      "outputs": [
        {
          "output_type": "stream",
          "text": [
            "+------------+----+-----+\n",
            "|primary Type|Year|count|\n",
            "+------------+----+-----+\n",
            "|THEFT       |2003|97795|\n",
            "|THEFT       |2004|94631|\n",
            "|THEFT       |2008|86340|\n",
            "|THEFT       |2006|85222|\n",
            "|THEFT       |2007|84557|\n",
            "|THEFT       |2005|84298|\n",
            "|THEFT       |2009|79246|\n",
            "|THEFT       |2010|76684|\n",
            "|THEFT       |2012|75115|\n",
            "|THEFT       |2011|74853|\n",
            "|THEFT       |2002|71726|\n",
            "|THEFT       |2013|71457|\n",
            "|THEFT       |2018|64024|\n",
            "|THEFT       |2017|63584|\n",
            "|THEFT       |2019|61613|\n",
            "|THEFT       |2014|61350|\n",
            "|THEFT       |2016|61039|\n",
            "|THEFT       |2015|56696|\n",
            "|THEFT       |2020|13271|\n",
            "|THEFT       |2001|1232 |\n",
            "+------------+----+-----+\n",
            "\n"
          ],
          "name": "stdout"
        }
      ]
    },
    {
      "cell_type": "code",
      "metadata": {
        "id": "m1QhrYah3A_y",
        "colab_type": "code",
        "colab": {
          "base_uri": "https://localhost:8080/",
          "height": 326
        },
        "outputId": "3bbb506f-533c-4552-b2f3-45d938777b59"
      },
      "source": [
        "# Plotting\n",
        "Theft_Year_df=Theft_per_year_counts.toPandas()\n",
        "\n",
        "plt.rcParams[\"figure.figsize\"] = [64, 16]\n",
        "sns.barplot(data=Theft_Year_df, x='Year', y='count', hue='primary Type', palette='pastel')\n",
        "\n"
      ],
      "execution_count": 83,
      "outputs": [
        {
          "output_type": "execute_result",
          "data": {
            "text/plain": [
              "<matplotlib.axes._subplots.AxesSubplot at 0x7f81a09dc668>"
            ]
          },
          "metadata": {
            "tags": []
          },
          "execution_count": 83
        },
        {
          "output_type": "display_data",
          "data": {
            "image/png": "[encoded data removed]",
            "text/plain": [
              "<Figure size 4608x1152 with 1 Axes>"
            ]
          },
          "metadata": {
            "tags": []
          }
        }
      ]
    },
    {
      "cell_type": "markdown",
      "metadata": {
        "id": "TXOwVwY9EYW-",
        "colab_type": "text"
      },
      "source": [
        "### References\n",
        "- https://chrispfchung.github.io/import%20data/pyspark-by-example/\n",
        "- https://github.com/ernest-kiwele/chicago-crime-analysis-apache-spark/blob/master/spark-ml/chicago-crime-data-on-spark.ipynb\n",
        "- https://medium.com/@stafa002/my-notes-on-chicago-crime-data-analysis-ed66915dbb20\n",
        "-https://hackingandslacking.com/pyspark-macro-dataframe-methods-join-and-groupby-477a57836ff\n",
        "-https://databricks-prod-cloudfront.cloud.databricks.com/public/4027ec902e239c93eaaa8714f173bcfc/6231273882341974/3878104757667614/987168565515839/latest.html"
      ]
    }
  ]
}