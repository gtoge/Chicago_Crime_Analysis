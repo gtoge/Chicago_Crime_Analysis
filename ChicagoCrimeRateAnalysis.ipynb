{
  "nbformat": 4,
  "nbformat_minor": 0,
  "metadata": {
    "kernelspec": {
      "display_name": "Python 3",
      "language": "python",
      "name": "python3"
    },
    "language_info": {
      "codemirror_mode": {
        "name": "ipython",
        "version": 3
      },
      "file_extension": ".py",
      "mimetype": "text/x-python",
      "name": "python",
      "nbconvert_exporter": "python",
      "pygments_lexer": "ipython3",
      "version": "3.7.3"
    },
    "colab": {
      "name": "ChicagoCrimeRateAnalysis.ipynb",
      "provenance": [],
      "collapsed_sections": [
        "pYWVAkwK2_cn",
        "VJNwMAqJ89Qb",
        "qwsjRygeMss5",
        "6wnvvApmM24H",
        "p0z_GmGQ2_cx",
        "k_a9UQSnwQne",
        "Bl8-2V3Rw3-f",
        "13Fazno6tkoY",
        "WsQDaV0Ox0xx",
        "ylNF-cKm1Qsq",
        "p-aqujJcN4UX",
        "rFW3MNVYQ8gH",
        "2kZO_WQt4w01",
        "4ccvruQ-ErQ7",
        "WqjCd6osMBC-",
        "sk_GovJFoJEj",
        "TXOwVwY9EYW-"
      ],
      "include_colab_link": true
    },
    "accelerator": "GPU"
  },
  "cells": [
    {
      "cell_type": "markdown",
      "metadata": {
        "id": "view-in-github",
        "colab_type": "text"
      },
      "source": [
        "<a href=\"https://colab.research.google.com/github/gtoge/Chicago_Crime_Analysis/blob/master/ChicagoCrimeRateAnalysis.ipynb\" target=\"_parent\"><img src=\"https://colab.research.google.com/assets/colab-badge.svg\" alt=\"Open In Colab\"/></a>"
      ]
    },
    {
      "cell_type": "markdown",
      "metadata": {
        "id": "5iVGu1Nj2_a8",
        "colab_type": "text"
      },
      "source": [
        "# Chicago crime dataset analysis\n",
        "  Listerning to the news about the high crime rate in Chicago[As well as other cities in the world] raises a lot of concern.We intern to use data science to get valuable insight from the city of Chicago crime datathat can help improve safety and reduce crime rate.\n",
        "  we will be using data from the city of chicago portal[https://data.cityofchicago.org/].\n",
        "We will follow the following steps\n",
        "- Problem Statement\n",
        "- Setup a pyspark environment\n",
        "- Data Aquisition\n",
        "- Data Preprocessing\n",
        "- Exploratory Analysis\n",
        "- Conclusion\n",
        "- Machine learning\n"
      ]
    },
    {
      "cell_type": "markdown",
      "metadata": {
        "id": "wuITujQPgbPl",
        "colab_type": "text"
      },
      "source": [
        "## Problem Statement\n",
        "To have an overall view on crimes in Chicago we will try to answer the following questions using Data Analysis\n",
        "- How has the number of crimes change over the years?\n",
        "- How has the number of some specific crimes varied across the years?\n",
        "- Are there any particular trends in the crimes being committed?\n",
        "-Which crimes are the most frequent?\n",
        "- What percentage of reported crimes that leads to an arrest ?\n",
        "- where are certain crimes common?\n",
        "- Are there certain locations for certain crimes( eg theft,battery etc)?\n",
        "- How has the number of arrest corrsponding tie crimes change over time in chicago?\n",
        "-  When is the peak of crimal activities? (day,month,year)\n",
        "- Which Communities have the highest crime?\n",
        "- Which crimes are predominant in each community?\n",
        "\n",
        "\n"
      ]
    },
    {
      "cell_type": "markdown",
      "metadata": {
        "id": "fn7FuHtI2_a_",
        "colab_type": "text"
      },
      "source": [
        "## Setting PySpark Environment\n",
        "- We need to install the following dependencies:\n",
        "- Apache Spark \n",
        "- hadoop \n",
        "- java \n",
        "- Findspark[for testing the environment]"
      ]
    },
    {
      "cell_type": "code",
      "metadata": {
        "id": "cRaCe49a2_bB",
        "colab_type": "code",
        "colab": {}
      },
      "source": [
        "#Apache spark dependencies download\n",
        "!apt-get install openjdk-8-jdk-headless -qq > /dev/null\n",
        "!wget -q https://www-us.apache.org/dist/spark/spark-2.4.5/spark-2.4.5-bin-hadoop2.7.tgz\n",
        "!tar xf spark-2.4.5-bin-hadoop2.7.tgz\n",
        "!pip install -q findspark"
      ],
      "execution_count": 0,
      "outputs": []
    },
    {
      "cell_type": "code",
      "metadata": {
        "id": "-NO-R4bM2_bh",
        "colab_type": "code",
        "colab": {}
      },
      "source": [
        "#Setting up the environment path\n",
        "import os\n",
        "os.environ[\"JAVA_HOME\"] = \"/usr/lib/jvm/java-8-openjdk-amd64\"\n",
        "os.environ[\"SPARK_HOME\"] = \"/content/spark-2.4.5-bin-hadoop2.7\""
      ],
      "execution_count": 0,
      "outputs": []
    },
    {
      "cell_type": "code",
      "metadata": {
        "id": "tfB8CmyE2_bq",
        "colab_type": "code",
        "colab": {}
      },
      "source": [
        "#testing our environment\n",
        "import findspark\n",
        "findspark.init()\n",
        "from pyspark.sql import SparkSession\n",
        "spark = SparkSession.builder.master(\"local[*]\").getOrCreate()"
      ],
      "execution_count": 0,
      "outputs": []
    },
    {
      "cell_type": "code",
      "metadata": {
        "id": "ConXuDlS3295",
        "colab_type": "code",
        "outputId": "7a43a8e9-709d-4bec-cb11-bbda7a90ef92",
        "colab": {
          "base_uri": "https://localhost:8080/",
          "height": 34
        }
      },
      "source": [
        "# Checking the installation of spark\n",
        "!ls"
      ],
      "execution_count": 0,
      "outputs": [
        {
          "output_type": "stream",
          "text": [
            "sample_data  spark-2.4.5-bin-hadoop2.7\tspark-2.4.5-bin-hadoop2.7.tgz\n"
          ],
          "name": "stdout"
        }
      ]
    },
    {
      "cell_type": "markdown",
      "metadata": {
        "id": "9jEFeqas2_cD",
        "colab_type": "text"
      },
      "source": [
        "## Data Aquisition\n",
        "-Download data from [https://data.cityofchicago.org/Public-Safety/Chicago-Police-Department-Illinois-Uniform-Crime-R/c7ck-438e]"
      ]
    },
    {
      "cell_type": "code",
      "metadata": {
        "id": "30hTCfvJ2_cF",
        "colab_type": "code",
        "outputId": "0b23d96e-efa0-49f7-8c7f-0cab3b1d1f2a",
        "colab": {
          "base_uri": "https://localhost:8080/",
          "height": 224
        }
      },
      "source": [
        "#Downloading Data\n",
        "!wget https://data.cityofchicago.org/api/views/ijzp-q8t2/rows.csv?accessType=DOWNLOAD"
      ],
      "execution_count": 4,
      "outputs": [
        {
          "output_type": "stream",
          "text": [
            "--2020-05-01 17:50:03--  https://data.cityofchicago.org/api/views/ijzp-q8t2/rows.csv?accessType=DOWNLOAD\n",
            "Resolving data.cityofchicago.org (data.cityofchicago.org)... 52.206.140.199, 52.206.68.26, 52.206.140.205\n",
            "Connecting to data.cityofchicago.org (data.cityofchicago.org)|52.206.140.199|:443... connected.\n",
            "HTTP request sent, awaiting response... 200 OK\n",
            "Length: unspecified [text/csv]\n",
            "Saving to: ‘rows.csv?accessType=DOWNLOAD’\n",
            "\n",
            "rows.csv?accessType     [      <=>           ]   1.56G  3.34MB/s    in 8m 10s  \n",
            "\n",
            "2020-05-01 17:58:19 (3.26 MB/s) - ‘rows.csv?accessType=DOWNLOAD’ saved [1676616584]\n",
            "\n"
          ],
          "name": "stdout"
        }
      ]
    },
    {
      "cell_type": "code",
      "metadata": {
        "id": "vzWTyRTI2_cP",
        "colab_type": "code",
        "outputId": "bda53b9a-c076-4c0f-9e72-ad3fccb58e0a",
        "colab": {
          "base_uri": "https://localhost:8080/",
          "height": 51
        }
      },
      "source": [
        "#Checking my downloaded files\n",
        " !ls"
      ],
      "execution_count": 0,
      "outputs": [
        {
          "output_type": "stream",
          "text": [
            "'rows.csv?accessType=DOWNLOAD'\t spark-2.4.5-bin-hadoop2.7\n",
            " sample_data\t\t\t spark-2.4.5-bin-hadoop2.7.tgz\n"
          ],
          "name": "stdout"
        }
      ]
    },
    {
      "cell_type": "code",
      "metadata": {
        "id": "2Z9-yPRP2_cW",
        "colab_type": "code",
        "colab": {}
      },
      "source": [
        "# renaming our file\n",
        "!mv rows.csv\\?accessType\\=DOWNLOAD reported-crimes.csv"
      ],
      "execution_count": 0,
      "outputs": []
    },
    {
      "cell_type": "code",
      "metadata": {
        "id": "UfhKmY6W4Nzc",
        "colab_type": "code",
        "outputId": "b4a4f69f-789c-427b-9796-7f05095fbdb2",
        "colab": {
          "base_uri": "https://localhost:8080/",
          "height": 51
        }
      },
      "source": [
        "# Checking if file wa updated\n",
        "!ls"
      ],
      "execution_count": 0,
      "outputs": [
        {
          "output_type": "stream",
          "text": [
            "reported-crimes.csv  spark-2.4.5-bin-hadoop2.7\n",
            "sample_data\t     spark-2.4.5-bin-hadoop2.7.tgz\n"
          ],
          "name": "stdout"
        }
      ]
    },
    {
      "cell_type": "markdown",
      "metadata": {
        "id": "GiIo2komzI9v",
        "colab_type": "text"
      },
      "source": [
        "## Data Preperation\n",
        "We will do data cleaning\n",
        "- Adding the area name column actual name of community area\n",
        "- Check for duplicates\n",
        "- Check for missing data\n",
        "- Checking for Outliers[Due to the nature of the data and the analysis involve,this will not be necessary]\n"
      ]
    },
    {
      "cell_type": "markdown",
      "metadata": {
        "id": "65Us5m5B2_cd",
        "colab_type": "text"
      },
      "source": [
        "### Creating  a parkSession"
      ]
    },
    {
      "cell_type": "code",
      "metadata": {
        "id": "WjxMXuYf2_ce",
        "colab_type": "code",
        "colab": {}
      },
      "source": [
        "#import and create sparksession object\n",
        "from pyspark.sql import SparkSession \n",
        "spark=SparkSession.builder.appName('rc').getOrCreate()"
      ],
      "execution_count": 0,
      "outputs": []
    },
    {
      "cell_type": "markdown",
      "metadata": {
        "id": "pYWVAkwK2_cn",
        "colab_type": "text"
      },
      "source": [
        "### Displaying a data sample"
      ]
    },
    {
      "cell_type": "code",
      "metadata": {
        "id": "5rExyRyn2_cp",
        "colab_type": "code",
        "outputId": "17d4d4c9-545d-428b-e94f-12bb748d6e41",
        "colab": {
          "base_uri": "https://localhost:8080/",
          "height": 224
        }
      },
      "source": [
        "#import the required functions and libraries\n",
        "from pyspark.sql.functions import  to_timestamp,col,lit\n",
        "#load the dataset and create sprk dataframe\n",
        "df=spark.read.csv('reported-crimes.csv',inferSchema=True,header=True)\n",
        "df.show(5)"
      ],
      "execution_count": 8,
      "outputs": [
        {
          "output_type": "stream",
          "text": [
            "+--------+-----------+--------------------+--------------------+----+-------------------+--------------------+--------------------+------+--------+----+--------+----+--------------+--------+------------+------------+----+--------------------+--------+---------+--------+\n",
            "|      ID|Case Number|                Date|               Block|IUCR|       Primary Type|         Description|Location Description|Arrest|Domestic|Beat|District|Ward|Community Area|FBI Code|X Coordinate|Y Coordinate|Year|          Updated On|Latitude|Longitude|Location|\n",
            "+--------+-----------+--------------------+--------------------+----+-------------------+--------------------+--------------------+------+--------+----+--------+----+--------------+--------+------------+------------+----+--------------------+--------+---------+--------+\n",
            "|11034701|   JA366925|01/01/2001 11:00:...|     016XX E 86TH PL|1153| DECEPTIVE PRACTICE|FINANCIAL IDENTIT...|           RESIDENCE| false|   false| 412|       4|   8|            45|      11|        null|        null|2001|08/05/2017 03:50:...|    null|     null|    null|\n",
            "|11227287|   JB147188|10/08/2017 03:00:...|  092XX S RACINE AVE|0281|CRIM SEXUAL ASSAULT|      NON-AGGRAVATED|           RESIDENCE| false|   false|2222|      22|  21|            73|      02|        null|        null|2017|02/11/2018 03:57:...|    null|     null|    null|\n",
            "|11227583|   JB147595|03/28/2017 02:00:...|     026XX W 79TH ST|0620|           BURGLARY|      UNLAWFUL ENTRY|               OTHER| false|   false| 835|       8|  18|            70|      05|        null|        null|2017|02/11/2018 03:57:...|    null|     null|    null|\n",
            "|11227293|   JB147230|09/09/2017 08:17:...|060XX S EBERHART AVE|0810|              THEFT|           OVER $500|           RESIDENCE| false|   false| 313|       3|  20|            42|      06|        null|        null|2017|02/11/2018 03:57:...|    null|     null|    null|\n",
            "|11227634|   JB147599|08/26/2017 10:00:...| 001XX W RANDOLPH ST|0281|CRIM SEXUAL ASSAULT|      NON-AGGRAVATED|         HOTEL/MOTEL| false|   false| 122|       1|  42|            32|      02|        null|        null|2017|02/11/2018 03:57:...|    null|     null|    null|\n",
            "+--------+-----------+--------------------+--------------------+----+-------------------+--------------------+--------------------+------+--------+----+--------+----+--------------+--------+------------+------------+----+--------------------+--------+---------+--------+\n",
            "only showing top 5 rows\n",
            "\n"
          ],
          "name": "stdout"
        }
      ]
    },
    {
      "cell_type": "markdown",
      "metadata": {
        "id": "VJNwMAqJ89Qb",
        "colab_type": "text"
      },
      "source": [
        "### Comunity Area names\n",
        "- comunity area columns is intergers. \n",
        "- we will source and add the real names instead.\n",
        "- Sourced from Chicago Tribune at http://www.chicagotribune.com/chi-community-areas-htmlstory.html"
      ]
    },
    {
      "cell_type": "code",
      "metadata": {
        "id": "B25y5uFV88C3",
        "colab_type": "code",
        "colab": {}
      },
      "source": [
        "areaNames = \"\"\"\n",
        "01\tRogers Park\t\n",
        "40\tWashington Park\n",
        "02\tWest Ridge\t\n",
        "41\tHyde Park\n",
        "03\tUptown\t\n",
        "42\tWoodlawn\n",
        "04\tLincoln Square\t\n",
        "43\tSouth Shore\n",
        "05\tNorth Center\t\n",
        "44\tChatham\n",
        "06\tLakeview\t\n",
        "45\tAvalon Park\n",
        "07\tLincoln Park\t\n",
        "46\tSouth Chicago\n",
        "08\tNear North Side\t\n",
        "47\tBurnside\n",
        "09\tEdison Park\t\n",
        "48\tCalumet Heights\n",
        "10\tNorwood Park\t\n",
        "49\tRoseland\n",
        "11\tJefferson Park\t\n",
        "50\tPullman\n",
        "12\tForest Glen\t\n",
        "51\tSouth Deering\n",
        "13\tNorth Park\t\n",
        "52\tEast Side\n",
        "14\tAlbany Park\t\n",
        "53\tWest Pullman\n",
        "15\tPortage Park\t\n",
        "54\tRiverdale\n",
        "16\tIrving Park\t\n",
        "55\tHegewisch\n",
        "17\tDunning\t\n",
        "56\tGarfield Ridge\n",
        "18\tMontclare\t\n",
        "57\tArcher Heights\n",
        "19\tBelmont Cragin\t\n",
        "58\tBrighton Park\n",
        "20\tHermosa\t\n",
        "59\tMcKinley Park\n",
        "21\tAvondale\t\n",
        "60\tBridgeport\n",
        "22\tLogan Square\t\n",
        "61\tNew City\n",
        "23\tHumboldt Park\t\n",
        "62\tWest Elsdon\n",
        "24\tWest Town\t\n",
        "63\tGage Park\n",
        "25\tAustin\t\n",
        "64\tClearing\n",
        "26\tWest Garfield Park \t\n",
        "65\tWest Lawn\n",
        "27\tEast Garfield Park\t\n",
        "66\tChicago Lawn\n",
        "28\tNear West Side\t\n",
        "67\tWest Englewood\n",
        "29\tNorth Lawndale\t\n",
        "68\tEnglewood\n",
        "30\tSouth Lawndale\t\n",
        "69\tGreater Grand Crossing\n",
        "31\tLower West Side\t\n",
        "70\tAshburn\n",
        "32\tLoop\t\n",
        "71\tAuburn Gresham\t\n",
        "33\tNear South Side\t\n",
        "72\tBeverly\n",
        "34\tArmour Square\t\n",
        "73\tWashington Heights\n",
        "35\tDouglas\t\n",
        "74\tMount Greenwood\n",
        "36\tOakland\t\n",
        "75\tMorgan Park\n",
        "37\tFuller Park\t\n",
        "76\tO'Hare\n",
        "38\tGrand Boulevard\t\n",
        "77\tEdgewater\n",
        "39\tKenwood\t\n",
        "\"\"\""
      ],
      "execution_count": 0,
      "outputs": []
    },
    {
      "cell_type": "code",
      "metadata": {
        "id": "V5jY8e3E-OQ_",
        "colab_type": "code",
        "outputId": "e29356f6-cb12-4264-f976-1b80365f2b8e",
        "colab": {
          "base_uri": "https://localhost:8080/",
          "height": 102
        }
      },
      "source": [
        "## Splitting data into community area and area name\n",
        "ComArea_AreaName = [[float(p[0]), p[1]] for p in [pair.strip().split('\\t') for pair in areaNames.strip().split('\\n')]]\n",
        "# displaying the 5 rows\n",
        "ComArea_AreaName[:5]"
      ],
      "execution_count": 10,
      "outputs": [
        {
          "output_type": "execute_result",
          "data": {
            "text/plain": [
              "[[1.0, 'Rogers Park'],\n",
              " [40.0, 'Washington Park'],\n",
              " [2.0, 'West Ridge'],\n",
              " [41.0, 'Hyde Park'],\n",
              " [3.0, 'Uptown']]"
            ]
          },
          "metadata": {
            "tags": []
          },
          "execution_count": 10
        }
      ]
    },
    {
      "cell_type": "code",
      "metadata": {
        "id": "aNWwpvVZKB2a",
        "colab_type": "code",
        "colab": {}
      },
      "source": [
        "# Coverting our ComArea_AreaName data to a dataframe\n",
        "ComArea_AreaName_df=spark.createDataFrame(ComArea_AreaName, ['Community Area', 'Area Name'])"
      ],
      "execution_count": 0,
      "outputs": []
    },
    {
      "cell_type": "code",
      "metadata": {
        "id": "LJ9cELcCKfaJ",
        "colab_type": "code",
        "outputId": "471f9024-e848-4907-b735-ef3bd60129b5",
        "colab": {
          "base_uri": "https://localhost:8080/",
          "height": 309
        }
      },
      "source": [
        "#Join the community area to our main data frame\n",
        "PrepData = ComArea_AreaName_df.join(df, on='Community Area', how='right')\n",
        "PrepData.show(10)"
      ],
      "execution_count": 12,
      "outputs": [
        {
          "output_type": "stream",
          "text": [
            "+--------------+---------------+--------+-----------+--------------------+--------------------+----+------------------+--------------------+--------------------+------+--------+----+--------+----+--------+------------+------------+----+--------------------+--------+---------+--------+\n",
            "|Community Area|      Area Name|      ID|Case Number|                Date|               Block|IUCR|      Primary Type|         Description|Location Description|Arrest|Domestic|Beat|District|Ward|FBI Code|X Coordinate|Y Coordinate|Year|          Updated On|Latitude|Longitude|Location|\n",
            "+--------------+---------------+--------+-----------+--------------------+--------------------+----+------------------+--------------------+--------------------+------+--------+----+--------+----+--------+------------+------------+----+--------------------+--------+---------+--------+\n",
            "|             8|Near North Side|11227495|   JB147292|03/20/2014 09:00:...|     003XX E ERIE ST|1154|DECEPTIVE PRACTICE|FINANCIAL IDENTIT...|           RESIDENCE| false|   false|1834|      18|  42|      11|        null|        null|2014|02/11/2018 03:57:...|    null|     null|    null|\n",
            "|             8|Near North Side|11037549|   JA371812|07/30/2017 04:00:...| 004XX N DEARBORN ST|0870|             THEFT|      POCKET-PICKING|               ALLEY| false|   false|1831|      18|  42|      06|        null|        null|2017|08/06/2017 03:53:...|    null|     null|    null|\n",
            "|             8|Near North Side|11043823|   JA378025|08/11/2013 05:00:...|    004XX N CLARK ST|0820|             THEFT|      $500 AND UNDER|          RESTAURANT| false|   false|1831|      18|  42|      06|        null|        null|2013|08/06/2017 03:53:...|    null|     null|    null|\n",
            "|             8|Near North Side|11225457|   JB144550|02/05/2018 06:00:...| 013XX N LA SALLE DR|0890|             THEFT|       FROM BUILDING|    RESIDENCE-GARAGE| false|   false|1821|      18|  43|      06|        null|        null|2018|02/12/2018 03:49:...|    null|     null|    null|\n",
            "|             8|Near North Side|11037536|   JA371293|07/31/2017 08:05:...| 004XX N MC CLURG CT|1310|   CRIMINAL DAMAGE|         TO PROPERTY|     BOAT/WATERCRAFT| false|   false|1834|      18|  42|      14|        null|        null|2017|08/07/2017 03:52:...|    null|     null|    null|\n",
            "|             8|Near North Side|11030881|   JA362444|07/08/2017 06:00:...|     003XX E OHIO ST|0890|             THEFT|       FROM BUILDING|          RESTAURANT| false|   false|1834|      18|  42|      06|        null|        null|2017|07/26/2017 03:56:...|    null|     null|    null|\n",
            "|             8|Near North Side|11229204|   JB149993|04/01/2016 12:00:...|005XX N KINGSBURY ST|1153|DECEPTIVE PRACTICE|FINANCIAL IDENTIT...|           RESIDENCE| false|   false|1831|      18|  42|      11|        null|        null|2016|02/17/2018 03:52:...|    null|     null|    null|\n",
            "|             8|Near North Side|11047839|   JA382325|07/13/2011 09:00:...|  002XX E ONTARIO ST|1153|DECEPTIVE PRACTICE|FINANCIAL IDENTIT...|                null| false|   false|1834|      18|  42|      11|        null|        null|2011|08/09/2017 03:51:...|    null|     null|    null|\n",
            "|             8|Near North Side|11232906|   JB154854|11/20/2017 08:00:...|     004XX E OHIO ST|1150|DECEPTIVE PRACTICE|   CREDIT CARD FRAUD|              STREET| false|   false|1834|      18|  42|      11|        null|        null|2017|02/17/2018 03:55:...|    null|     null|    null|\n",
            "|             8|Near North Side|11231204|   JB152754|11/27/2017 08:00:...|   001XX W NORTH AVE|1153|DECEPTIVE PRACTICE|FINANCIAL IDENTIT...|    DEPARTMENT STORE| false|   false|1821|      18|  42|      11|        null|        null|2017|02/15/2018 03:50:...|    null|     null|    null|\n",
            "+--------------+---------------+--------+-----------+--------------------+--------------------+----+------------------+--------------------+--------------------+------+--------+----+--------+----+--------+------------+------------+----+--------------------+--------+---------+--------+\n",
            "only showing top 10 rows\n",
            "\n"
          ],
          "name": "stdout"
        }
      ]
    },
    {
      "cell_type": "markdown",
      "metadata": {
        "id": "qwsjRygeMss5",
        "colab_type": "text"
      },
      "source": [
        "### Checking and Handling duplicates"
      ]
    },
    {
      "cell_type": "code",
      "metadata": {
        "id": "OJ6Y1We_06A9",
        "colab_type": "code",
        "outputId": "2ed09738-4195-4d21-c513-c2a9736d7a70",
        "colab": {
          "base_uri": "https://localhost:8080/",
          "height": 51
        }
      },
      "source": [
        "#Checking for Duplicates\n",
        "print('Count of rows: {0}'.format(PrepData.count()))\n",
        "print('Count of distinct rows: {0}'.format(PrepData.distinct().count()))"
      ],
      "execution_count": 13,
      "outputs": [
        {
          "output_type": "stream",
          "text": [
            "Count of rows: 7109698\n",
            "Count of distinct rows: 7109698\n"
          ],
          "name": "stdout"
        }
      ]
    },
    {
      "cell_type": "markdown",
      "metadata": {
        "id": "Y7T-zw391652",
        "colab_type": "text"
      },
      "source": [
        "There are no duplcates  based on ID"
      ]
    },
    {
      "cell_type": "markdown",
      "metadata": {
        "id": "6wnvvApmM24H",
        "colab_type": "text"
      },
      "source": [
        "### Checking For/dropping Missing Data"
      ]
    },
    {
      "cell_type": "code",
      "metadata": {
        "id": "ciQ4f8uJ2opy",
        "colab_type": "code",
        "outputId": "7e2accc4-33ba-451e-cf6e-ba433f223ae5",
        "colab": {
          "base_uri": "https://localhost:8080/",
          "height": 117
        }
      },
      "source": [
        "## Checking for Missing Data\n",
        "## This code check for missing Data per row\n",
        "from pyspark.sql.functions import isnull, when, count, col\n",
        "missData = PrepData.select([count(when(isnull(c), c)).alias(c) for c in PrepData.columns]).toPandas()\n",
        "missData"
      ],
      "execution_count": 14,
      "outputs": [
        {
          "output_type": "execute_result",
          "data": {
            "text/html": [
              "<div>\n",
              "<style scoped>\n",
              "    .dataframe tbody tr th:only-of-type {\n",
              "        vertical-align: middle;\n",
              "    }\n",
              "\n",
              "    .dataframe tbody tr th {\n",
              "        vertical-align: top;\n",
              "    }\n",
              "\n",
              "    .dataframe thead th {\n",
              "        text-align: right;\n",
              "    }\n",
              "</style>\n",
              "<table border=\"1\" class=\"dataframe\">\n",
              "  <thead>\n",
              "    <tr style=\"text-align: right;\">\n",
              "      <th></th>\n",
              "      <th>Community Area</th>\n",
              "      <th>Area Name</th>\n",
              "      <th>ID</th>\n",
              "      <th>Case Number</th>\n",
              "      <th>Date</th>\n",
              "      <th>Block</th>\n",
              "      <th>IUCR</th>\n",
              "      <th>Primary Type</th>\n",
              "      <th>Description</th>\n",
              "      <th>Location Description</th>\n",
              "      <th>Arrest</th>\n",
              "      <th>Domestic</th>\n",
              "      <th>Beat</th>\n",
              "      <th>District</th>\n",
              "      <th>Ward</th>\n",
              "      <th>FBI Code</th>\n",
              "      <th>X Coordinate</th>\n",
              "      <th>Y Coordinate</th>\n",
              "      <th>Year</th>\n",
              "      <th>Updated On</th>\n",
              "      <th>Latitude</th>\n",
              "      <th>Longitude</th>\n",
              "      <th>Location</th>\n",
              "    </tr>\n",
              "  </thead>\n",
              "  <tbody>\n",
              "    <tr>\n",
              "      <th>0</th>\n",
              "      <td>613493</td>\n",
              "      <td>613586</td>\n",
              "      <td>0</td>\n",
              "      <td>4</td>\n",
              "      <td>0</td>\n",
              "      <td>0</td>\n",
              "      <td>0</td>\n",
              "      <td>0</td>\n",
              "      <td>0</td>\n",
              "      <td>6565</td>\n",
              "      <td>0</td>\n",
              "      <td>0</td>\n",
              "      <td>0</td>\n",
              "      <td>47</td>\n",
              "      <td>614827</td>\n",
              "      <td>0</td>\n",
              "      <td>68313</td>\n",
              "      <td>68313</td>\n",
              "      <td>0</td>\n",
              "      <td>0</td>\n",
              "      <td>68313</td>\n",
              "      <td>68313</td>\n",
              "      <td>68313</td>\n",
              "    </tr>\n",
              "  </tbody>\n",
              "</table>\n",
              "</div>"
            ],
            "text/plain": [
              "   Community Area  Area Name  ID  ...  Latitude  Longitude  Location\n",
              "0          613493     613586   0  ...     68313      68313     68313\n",
              "\n",
              "[1 rows x 23 columns]"
            ]
          },
          "metadata": {
            "tags": []
          },
          "execution_count": 14
        }
      ]
    },
    {
      "cell_type": "code",
      "metadata": {
        "id": "NHOboaMRCA9i",
        "colab_type": "code",
        "colab": {}
      },
      "source": [
        "# droping the null values\n",
        "df = PrepData.dropna()"
      ],
      "execution_count": 0,
      "outputs": []
    },
    {
      "cell_type": "code",
      "metadata": {
        "id": "f5Y3qccBCQXR",
        "colab_type": "code",
        "outputId": "e95deb46-8d1d-4d3a-8b28-30c1507a2701",
        "colab": {
          "base_uri": "https://localhost:8080/",
          "height": 117
        }
      },
      "source": [
        "# Verifying our data for null\n",
        "missData = df.select([count(when(isnull(c), c)).alias(c) for c in df.columns]).toPandas()\n",
        "missData"
      ],
      "execution_count": 16,
      "outputs": [
        {
          "output_type": "execute_result",
          "data": {
            "text/html": [
              "<div>\n",
              "<style scoped>\n",
              "    .dataframe tbody tr th:only-of-type {\n",
              "        vertical-align: middle;\n",
              "    }\n",
              "\n",
              "    .dataframe tbody tr th {\n",
              "        vertical-align: top;\n",
              "    }\n",
              "\n",
              "    .dataframe thead th {\n",
              "        text-align: right;\n",
              "    }\n",
              "</style>\n",
              "<table border=\"1\" class=\"dataframe\">\n",
              "  <thead>\n",
              "    <tr style=\"text-align: right;\">\n",
              "      <th></th>\n",
              "      <th>Community Area</th>\n",
              "      <th>Area Name</th>\n",
              "      <th>ID</th>\n",
              "      <th>Case Number</th>\n",
              "      <th>Date</th>\n",
              "      <th>Block</th>\n",
              "      <th>IUCR</th>\n",
              "      <th>Primary Type</th>\n",
              "      <th>Description</th>\n",
              "      <th>Location Description</th>\n",
              "      <th>Arrest</th>\n",
              "      <th>Domestic</th>\n",
              "      <th>Beat</th>\n",
              "      <th>District</th>\n",
              "      <th>Ward</th>\n",
              "      <th>FBI Code</th>\n",
              "      <th>X Coordinate</th>\n",
              "      <th>Y Coordinate</th>\n",
              "      <th>Year</th>\n",
              "      <th>Updated On</th>\n",
              "      <th>Latitude</th>\n",
              "      <th>Longitude</th>\n",
              "      <th>Location</th>\n",
              "    </tr>\n",
              "  </thead>\n",
              "  <tbody>\n",
              "    <tr>\n",
              "      <th>0</th>\n",
              "      <td>0</td>\n",
              "      <td>0</td>\n",
              "      <td>0</td>\n",
              "      <td>0</td>\n",
              "      <td>0</td>\n",
              "      <td>0</td>\n",
              "      <td>0</td>\n",
              "      <td>0</td>\n",
              "      <td>0</td>\n",
              "      <td>0</td>\n",
              "      <td>0</td>\n",
              "      <td>0</td>\n",
              "      <td>0</td>\n",
              "      <td>0</td>\n",
              "      <td>0</td>\n",
              "      <td>0</td>\n",
              "      <td>0</td>\n",
              "      <td>0</td>\n",
              "      <td>0</td>\n",
              "      <td>0</td>\n",
              "      <td>0</td>\n",
              "      <td>0</td>\n",
              "      <td>0</td>\n",
              "    </tr>\n",
              "  </tbody>\n",
              "</table>\n",
              "</div>"
            ],
            "text/plain": [
              "   Community Area  Area Name  ID  ...  Latitude  Longitude  Location\n",
              "0               0          0   0  ...         0          0         0\n",
              "\n",
              "[1 rows x 23 columns]"
            ]
          },
          "metadata": {
            "tags": []
          },
          "execution_count": 16
        }
      ]
    },
    {
      "cell_type": "markdown",
      "metadata": {
        "id": "p0z_GmGQ2_cx",
        "colab_type": "text"
      },
      "source": [
        "### Data Exploration"
      ]
    },
    {
      "cell_type": "code",
      "metadata": {
        "id": "4seGEL392_dD",
        "colab_type": "code",
        "outputId": "43536335-f14e-4dfc-a6be-0fa632b8c39b",
        "colab": {
          "base_uri": "https://localhost:8080/",
          "height": 34
        }
      },
      "source": [
        "#Getting the shape of the data \n",
        "print((df.count(),len(df.columns)))"
      ],
      "execution_count": 17,
      "outputs": [
        {
          "output_type": "stream",
          "text": [
            "(6430255, 23)\n"
          ],
          "name": "stdout"
        }
      ]
    },
    {
      "cell_type": "code",
      "metadata": {
        "id": "g7RaZw4d2_dN",
        "colab_type": "code",
        "outputId": "46697fa4-2000-4424-e358-358e7f695db8",
        "colab": {
          "base_uri": "https://localhost:8080/",
          "height": 442
        }
      },
      "source": [
        "#display columns and column type in dataframe\n",
        "df.printSchema()"
      ],
      "execution_count": 18,
      "outputs": [
        {
          "output_type": "stream",
          "text": [
            "root\n",
            " |-- Community Area: integer (nullable = true)\n",
            " |-- Area Name: string (nullable = true)\n",
            " |-- ID: integer (nullable = true)\n",
            " |-- Case Number: string (nullable = true)\n",
            " |-- Date: string (nullable = true)\n",
            " |-- Block: string (nullable = true)\n",
            " |-- IUCR: string (nullable = true)\n",
            " |-- Primary Type: string (nullable = true)\n",
            " |-- Description: string (nullable = true)\n",
            " |-- Location Description: string (nullable = true)\n",
            " |-- Arrest: boolean (nullable = true)\n",
            " |-- Domestic: boolean (nullable = true)\n",
            " |-- Beat: integer (nullable = true)\n",
            " |-- District: integer (nullable = true)\n",
            " |-- Ward: integer (nullable = true)\n",
            " |-- FBI Code: string (nullable = true)\n",
            " |-- X Coordinate: integer (nullable = true)\n",
            " |-- Y Coordinate: integer (nullable = true)\n",
            " |-- Year: integer (nullable = true)\n",
            " |-- Updated On: string (nullable = true)\n",
            " |-- Latitude: double (nullable = true)\n",
            " |-- Longitude: double (nullable = true)\n",
            " |-- Location: string (nullable = true)\n",
            "\n"
          ],
          "name": "stdout"
        }
      ]
    },
    {
      "cell_type": "code",
      "metadata": {
        "id": "nLL_N9WR_ps2",
        "colab_type": "code",
        "outputId": "6f9948db-9094-4ec5-a5fa-0a64bdbd9e8e",
        "colab": {
          "base_uri": "https://localhost:8080/",
          "height": 207
        }
      },
      "source": [
        "#Descriptive Statistics\n",
        "# We will look into the statistics of numerical data,Ward,Community Area\n",
        "\n",
        "df.describe('Beat','District','Community Area','Ward').show()\n"
      ],
      "execution_count": 19,
      "outputs": [
        {
          "output_type": "stream",
          "text": [
            "+-------+------------------+------------------+------------------+------------------+\n",
            "|summary|              Beat|          District|    Community Area|              Ward|\n",
            "+-------+------------------+------------------+------------------+------------------+\n",
            "|  count|           6430255|           6430255|           6430255|           6430255|\n",
            "|   mean|1185.2886717556303|11.286307463700895|37.551363515132756|22.700418568159428|\n",
            "| stddev| 702.2491298169759|  6.93935402102268| 21.52466118058852|13.831924733566714|\n",
            "|    min|               111|                 1|                 1|                 1|\n",
            "|    max|              2535|                31|                77|                50|\n",
            "+-------+------------------+------------------+------------------+------------------+\n",
            "\n"
          ],
          "name": "stdout"
        }
      ]
    },
    {
      "cell_type": "markdown",
      "metadata": {
        "id": "k_a9UQSnwQne",
        "colab_type": "text"
      },
      "source": [
        "\n",
        "\n",
        "\n",
        "\n",
        "### Data Range\n",
        "- The span of our data"
      ]
    },
    {
      "cell_type": "code",
      "metadata": {
        "id": "iv0ZqgQrwPQj",
        "colab_type": "code",
        "outputId": "d6030dec-e5b4-4aa3-8f7b-77e0c0561811",
        "colab": {
          "base_uri": "https://localhost:8080/",
          "height": 119
        }
      },
      "source": [
        "import datetime\n",
        "from pyspark.sql.functions import *\n",
        "df.select(min('date').alias('first_record_date'), max('date').alias('latest_record_date')).show(truncate=False)"
      ],
      "execution_count": 20,
      "outputs": [
        {
          "output_type": "stream",
          "text": [
            "+----------------------+----------------------+\n",
            "|first_record_date     |latest_record_date    |\n",
            "+----------------------+----------------------+\n",
            "|01/01/2001 01:00:00 AM|12/31/2019 12:58:00 AM|\n",
            "+----------------------+----------------------+\n",
            "\n"
          ],
          "name": "stdout"
        }
      ]
    },
    {
      "cell_type": "markdown",
      "metadata": {
        "id": "Bl8-2V3Rw3-f",
        "colab_type": "text"
      },
      "source": [
        "### Converting our dates to a timestamp type"
      ]
    },
    {
      "cell_type": "code",
      "metadata": {
        "id": "k9c63FPfdvgj",
        "colab_type": "code",
        "colab": {}
      },
      "source": [
        "\n",
        "df = df.withColumn('date_time', to_timestamp('date', 'MM/dd/yyyy hh:mm:ss a'))\\\n",
        "       .withColumn('month', trunc('date_time', 'YYYY')) #adding a month column to be able to view stats on a monthly basis"
      ],
      "execution_count": 0,
      "outputs": []
    },
    {
      "cell_type": "code",
      "metadata": {
        "id": "QWMvTaDmeCWR",
        "colab_type": "code",
        "outputId": "5d4cf898-184b-464a-a33b-50a566af34ef",
        "colab": {
          "base_uri": "https://localhost:8080/",
          "height": 153
        }
      },
      "source": [
        "\n",
        "df.select(['date','date_time', 'month'])\\\n",
        "  .show(n=2, truncate=False)"
      ],
      "execution_count": 22,
      "outputs": [
        {
          "output_type": "stream",
          "text": [
            "+----------------------+-------------------+----------+\n",
            "|date                  |date_time          |month     |\n",
            "+----------------------+-------------------+----------+\n",
            "|05/04/2019 02:00:00 PM|2019-05-04 14:00:00|2019-01-01|\n",
            "|05/22/2019 01:30:00 AM|2019-05-22 01:30:00|2019-01-01|\n",
            "+----------------------+-------------------+----------+\n",
            "only showing top 2 rows\n",
            "\n"
          ],
          "name": "stdout"
        }
      ]
    },
    {
      "cell_type": "code",
      "metadata": {
        "id": "K_819B5n-cOI",
        "colab_type": "code",
        "colab": {}
      },
      "source": [
        "# Extract the \"hour\" field from the date into a separate column called \"hour\"\n",
        "df_hour = df.withColumn('hour', hour(df['date_time']))"
      ],
      "execution_count": 0,
      "outputs": []
    },
    {
      "cell_type": "code",
      "metadata": {
        "id": "UWCrXEPz9MM8",
        "colab_type": "code",
        "colab": {}
      },
      "source": [
        "df = df_hour.withColumn('day_week', dayofweek(df_hour['date_time']))\\\n",
        "                 .withColumn('month_year', month(df_hour['date_time']))\\\n",
        "                 .withColumn('day_month', dayofmonth(df_hour['date_time']))\\\n",
        "                 .withColumn('date_number', datediff(df['date_time'], to_date(lit('2001-01-01'), format='yyyy-MM-dd')))\\\n",
        "                 .cache()"
      ],
      "execution_count": 0,
      "outputs": []
    },
    {
      "cell_type": "code",
      "metadata": {
        "id": "R8y2FvLY9236",
        "colab_type": "code",
        "outputId": "e5e07fd1-db1e-4158-83f9-a4e906fdb9d4",
        "colab": {
          "base_uri": "https://localhost:8080/",
          "height": 479
        }
      },
      "source": [
        "df.select(['date', 'month', 'hour', 'day_week', 'year', 'month_year', 'day_month', 'date_number']).show(20, truncate=False)"
      ],
      "execution_count": 26,
      "outputs": [
        {
          "output_type": "stream",
          "text": [
            "+----------------------+----------+----+--------+----+----------+---------+-----------+\n",
            "|date                  |month     |hour|day_week|year|month_year|day_month|date_number|\n",
            "+----------------------+----------+----+--------+----+----------+---------+-----------+\n",
            "|05/04/2019 02:00:00 PM|2019-01-01|14  |7       |2019|5         |4        |6697       |\n",
            "|05/22/2019 01:30:00 AM|2019-01-01|1   |4       |2019|5         |22       |6715       |\n",
            "|05/22/2019 01:42:00 AM|2019-01-01|1   |4       |2019|5         |22       |6715       |\n",
            "|05/23/2019 03:30:00 PM|2019-01-01|15  |5       |2019|5         |23       |6716       |\n",
            "|05/24/2019 06:00:00 PM|2019-01-01|18  |6       |2019|5         |24       |6717       |\n",
            "|06/01/2019 03:00:00 PM|2019-01-01|15  |7       |2019|6         |1        |6725       |\n",
            "|05/24/2019 03:00:00 AM|2019-01-01|3   |6       |2019|5         |24       |6717       |\n",
            "|05/24/2019 12:52:00 AM|2019-01-01|0   |6       |2019|5         |24       |6717       |\n",
            "|05/24/2019 05:00:00 PM|2019-01-01|17  |6       |2019|5         |24       |6717       |\n",
            "|03/24/2015 07:30:00 PM|2015-01-01|19  |3       |2015|3         |24       |5195       |\n",
            "|05/21/2019 04:27:00 PM|2019-01-01|16  |3       |2019|5         |21       |6714       |\n",
            "|05/10/2019 02:00:00 PM|2019-01-01|14  |6       |2019|5         |10       |6703       |\n",
            "|05/21/2019 06:30:00 PM|2019-01-01|18  |3       |2019|5         |21       |6714       |\n",
            "|04/29/2019 02:47:00 PM|2019-01-01|14  |2       |2019|4         |29       |6692       |\n",
            "|05/21/2019 05:30:00 PM|2019-01-01|17  |3       |2019|5         |21       |6714       |\n",
            "|05/21/2019 01:19:00 PM|2019-01-01|13  |3       |2019|5         |21       |6714       |\n",
            "|04/30/2019 02:30:00 PM|2019-01-01|14  |3       |2019|4         |30       |6693       |\n",
            "|05/21/2019 12:00:00 PM|2019-01-01|12  |3       |2019|5         |21       |6714       |\n",
            "|05/14/2019 08:00:00 PM|2019-01-01|20  |3       |2019|5         |14       |6707       |\n",
            "|05/21/2019 07:30:00 PM|2019-01-01|19  |3       |2019|5         |21       |6714       |\n",
            "+----------------------+----------+----+--------+----+----------+---------+-----------+\n",
            "only showing top 20 rows\n",
            "\n"
          ],
          "name": "stdout"
        }
      ]
    },
    {
      "cell_type": "markdown",
      "metadata": {
        "id": "13Fazno6tkoY",
        "colab_type": "text"
      },
      "source": [
        "### Crime Types\n",
        "- ranking the various crimes\n",
        "- Answering the question , which crimes are the most frequent?\n",
        "\n"
      ]
    },
    {
      "cell_type": "code",
      "metadata": {
        "id": "wNlJBkg9kXRL",
        "colab_type": "code",
        "outputId": "12f8c225-a8e2-4ab2-9f1b-4f291b33c266",
        "colab": {
          "base_uri": "https://localhost:8080/",
          "height": 459
        }
      },
      "source": [
        "# Quantitative look into Crime Types\n",
        "crime_type= df.groupBy('primary Type').count().orderBy('count', ascending=False)\n",
        "crime_type.show()\n"
      ],
      "execution_count": 0,
      "outputs": [
        {
          "output_type": "stream",
          "text": [
            "+--------------------+-------+\n",
            "|        primary Type|  count|\n",
            "+--------------------+-------+\n",
            "|               THEFT|1365070|\n",
            "|             BATTERY|1177866|\n",
            "|     CRIMINAL DAMAGE| 733743|\n",
            "|           NARCOTICS| 654451|\n",
            "|             ASSAULT| 405617|\n",
            "|       OTHER OFFENSE| 399501|\n",
            "|            BURGLARY| 367677|\n",
            "| MOTOR VEHICLE THEFT| 291469|\n",
            "|  DECEPTIVE PRACTICE| 256881|\n",
            "|             ROBBERY| 242839|\n",
            "|   CRIMINAL TRESPASS| 184482|\n",
            "|   WEAPONS VIOLATION|  73569|\n",
            "|        PROSTITUTION|  60692|\n",
            "|PUBLIC PEACE VIOL...|  46199|\n",
            "|OFFENSE INVOLVING...|  43788|\n",
            "| CRIM SEXUAL ASSAULT|  25333|\n",
            "|         SEX OFFENSE|  23133|\n",
            "|INTERFERENCE WITH...|  16606|\n",
            "|            GAMBLING|  13362|\n",
            "|LIQUOR LAW VIOLATION|  12251|\n",
            "+--------------------+-------+\n",
            "only showing top 20 rows\n",
            "\n"
          ],
          "name": "stdout"
        }
      ]
    },
    {
      "cell_type": "code",
      "metadata": {
        "id": "_kHzKr3pqB0S",
        "colab_type": "code",
        "outputId": "0933d0a3-d1a5-4ac8-ea91-6d27f400e1bc",
        "colab": {
          "base_uri": "https://localhost:8080/",
          "height": 71
        }
      },
      "source": [
        "#Plot\n",
        "#We transform crimeType to pd datadrame to plot\n",
        "# imports\n",
        "import numpy as np\n",
        "import pandas as pd\n",
        "import seaborn as sns\n",
        "import matplotlib.pyplot as plt\n"
      ],
      "execution_count": 0,
      "outputs": [
        {
          "output_type": "stream",
          "text": [
            "/usr/local/lib/python3.6/dist-packages/statsmodels/tools/_testing.py:19: FutureWarning: pandas.util.testing is deprecated. Use the functions in the public API at pandas.testing instead.\n",
            "  import pandas.util.testing as tm\n"
          ],
          "name": "stderr"
        }
      ]
    },
    {
      "cell_type": "code",
      "metadata": {
        "id": "jVGLvAtuqaJy",
        "colab_type": "code",
        "outputId": "5014d4a8-44c8-442a-969a-72b457a39e7e",
        "colab": {
          "base_uri": "https://localhost:8080/",
          "height": 204
        }
      },
      "source": [
        "#Converting data to panda\n",
        "crime_type_df= crime_type.toPandas()\n",
        "crime_type_df.head(5)"
      ],
      "execution_count": 0,
      "outputs": [
        {
          "output_type": "execute_result",
          "data": {
            "text/html": [
              "<div>\n",
              "<style scoped>\n",
              "    .dataframe tbody tr th:only-of-type {\n",
              "        vertical-align: middle;\n",
              "    }\n",
              "\n",
              "    .dataframe tbody tr th {\n",
              "        vertical-align: top;\n",
              "    }\n",
              "\n",
              "    .dataframe thead th {\n",
              "        text-align: right;\n",
              "    }\n",
              "</style>\n",
              "<table border=\"1\" class=\"dataframe\">\n",
              "  <thead>\n",
              "    <tr style=\"text-align: right;\">\n",
              "      <th></th>\n",
              "      <th>primary Type</th>\n",
              "      <th>count</th>\n",
              "    </tr>\n",
              "  </thead>\n",
              "  <tbody>\n",
              "    <tr>\n",
              "      <th>0</th>\n",
              "      <td>THEFT</td>\n",
              "      <td>1365070</td>\n",
              "    </tr>\n",
              "    <tr>\n",
              "      <th>1</th>\n",
              "      <td>BATTERY</td>\n",
              "      <td>1177866</td>\n",
              "    </tr>\n",
              "    <tr>\n",
              "      <th>2</th>\n",
              "      <td>CRIMINAL DAMAGE</td>\n",
              "      <td>733743</td>\n",
              "    </tr>\n",
              "    <tr>\n",
              "      <th>3</th>\n",
              "      <td>NARCOTICS</td>\n",
              "      <td>654451</td>\n",
              "    </tr>\n",
              "    <tr>\n",
              "      <th>4</th>\n",
              "      <td>ASSAULT</td>\n",
              "      <td>405617</td>\n",
              "    </tr>\n",
              "  </tbody>\n",
              "</table>\n",
              "</div>"
            ],
            "text/plain": [
              "      primary Type    count\n",
              "0            THEFT  1365070\n",
              "1          BATTERY  1177866\n",
              "2  CRIMINAL DAMAGE   733743\n",
              "3        NARCOTICS   654451\n",
              "4          ASSAULT   405617"
            ]
          },
          "metadata": {
            "tags": []
          },
          "execution_count": 30
        }
      ]
    },
    {
      "cell_type": "code",
      "metadata": {
        "id": "rtFvjZZiqozF",
        "colab_type": "code",
        "outputId": "2c901e95-2ad6-4c33-c287-ae5b423ef4ef",
        "colab": {
          "base_uri": "https://localhost:8080/",
          "height": 256
        }
      },
      "source": [
        "#plots\n",
        "plt.rcParams[\"figure.figsize\"] = [20, 8]\n",
        "\n",
        "sns.set(style=\"whitegrid\")\n",
        "sns.set_color_codes(\"pastel\")\n",
        "\n",
        "#sns.despine(left=True, bottom=True)\n",
        "type_graph = sns.barplot(x='count', y='primary Type',data= crime_type_df)\n",
        "type_graph.set(ylabel=\"Primary Type\", xlabel=\"Crimes Record Count\")"
      ],
      "execution_count": 0,
      "outputs": [
        {
          "output_type": "execute_result",
          "data": {
            "text/plain": [
              "[Text(0, 0.5, 'Primary Type'), Text(0.5, 0, 'Crimes Record Count')]"
            ]
          },
          "metadata": {
            "tags": []
          },
          "execution_count": 31
        },
        {
          "output_type": "display_data",
          "data": {
            "image/png": "[encoded data removed]",
            "text/plain": [
              "<Figure size 1440x576 with 1 Axes>"
            ]
          },
          "metadata": {
            "tags": []
          }
        }
      ]
    },
    {
      "cell_type": "markdown",
      "metadata": {
        "id": "WsQDaV0Ox0xx",
        "colab_type": "text"
      },
      "source": [
        "### Percentage of reported crimes that results to an arrest\n",
        "- We answer the question\n",
        "-  What percentage of reported crimes that leads to an arrest ?"
      ]
    },
    {
      "cell_type": "code",
      "metadata": {
        "id": "BSFGzldxyAK8",
        "colab_type": "code",
        "outputId": "0d43d787-dd4a-455a-952b-db1643519362",
        "colab": {
          "base_uri": "https://localhost:8080/",
          "height": 136
        }
      },
      "source": [
        "# Boolean count of Arrests\n",
        "df.groupBy('Arrest').count().show()"
      ],
      "execution_count": 0,
      "outputs": [
        {
          "output_type": "stream",
          "text": [
            "+------+-------+\n",
            "|Arrest|  count|\n",
            "+------+-------+\n",
            "|  true|1750255|\n",
            "| false|4679563|\n",
            "+------+-------+\n",
            "\n"
          ],
          "name": "stdout"
        }
      ]
    },
    {
      "cell_type": "code",
      "metadata": {
        "id": "R3YXTfA5zUzg",
        "colab_type": "code",
        "outputId": "430647b4-6760-4ad8-b5c2-8ca149c8d3a4",
        "colab": {
          "base_uri": "https://localhost:8080/",
          "height": 34
        }
      },
      "source": [
        "# Percentage Of Aresst\n",
        "# succesfull arrest divided total arrest\n",
        "PerArrest=(df.filter(col('Arrest') == 'true').count() / df.select('Arrest').count())*100\n",
        "PerArrest"
      ],
      "execution_count": 0,
      "outputs": [
        {
          "output_type": "execute_result",
          "data": {
            "text/plain": [
              "27.220910451897705"
            ]
          },
          "metadata": {
            "tags": []
          },
          "execution_count": 33
        }
      ]
    },
    {
      "cell_type": "markdown",
      "metadata": {
        "id": "ylNF-cKm1Qsq",
        "colab_type": "text"
      },
      "source": [
        "### Location With Highest Number of repoported crimes\n",
        "- where are certain crimes common?"
      ]
    },
    {
      "cell_type": "code",
      "metadata": {
        "id": "C9_DXWYPcjPf",
        "colab_type": "code",
        "outputId": "30b5514c-ff38-4885-afad-30dd7f92e539",
        "colab": {
          "base_uri": "https://localhost:8080/",
          "height": 34
        }
      },
      "source": [
        "# Number of location recorded in the dataset\n",
        "df.select('location description').distinct().count()"
      ],
      "execution_count": 0,
      "outputs": [
        {
          "output_type": "execute_result",
          "data": {
            "text/plain": [
              "212"
            ]
          },
          "metadata": {
            "tags": []
          },
          "execution_count": 34
        }
      ]
    },
    {
      "cell_type": "code",
      "metadata": {
        "id": "6ZSCv6r_1iCx",
        "colab_type": "code",
        "outputId": "cf702dd6-cdab-4e22-9447-80e31b3de289",
        "colab": {
          "base_uri": "https://localhost:8080/",
          "height": 468
        }
      },
      "source": [
        "df.groupby('Location Description').count().orderBy('count', ascending=False).show(20)"
      ],
      "execution_count": 0,
      "outputs": [
        {
          "output_type": "stream",
          "text": [
            "+--------------------+-------+\n",
            "|Location Description|  count|\n",
            "+--------------------+-------+\n",
            "|              STREET|1648252|\n",
            "|           RESIDENCE|1067935|\n",
            "|           APARTMENT| 704455|\n",
            "|            SIDEWALK| 650881|\n",
            "|               OTHER| 239443|\n",
            "|PARKING LOT/GARAG...| 181905|\n",
            "|               ALLEY| 143608|\n",
            "|SCHOOL, PUBLIC, B...| 131436|\n",
            "|    RESIDENCE-GARAGE| 122221|\n",
            "|  SMALL RETAIL STORE| 118506|\n",
            "|RESIDENCE PORCH/H...| 112370|\n",
            "|VEHICLE NON-COMME...| 107828|\n",
            "|          RESTAURANT| 105463|\n",
            "|    DEPARTMENT STORE|  81635|\n",
            "|  GROCERY FOOD STORE|  80899|\n",
            "|RESIDENTIAL YARD ...|  74901|\n",
            "|         GAS STATION|  71048|\n",
            "|       PARK PROPERTY|  49422|\n",
            "|CHA PARKING LOT/G...|  44938|\n",
            "|COMMERCIAL / BUSI...|  44091|\n",
            "+--------------------+-------+\n",
            "only showing top 20 rows\n",
            "\n"
          ],
          "name": "stdout"
        }
      ]
    },
    {
      "cell_type": "markdown",
      "metadata": {
        "id": "p-aqujJcN4UX",
        "colab_type": "text"
      },
      "source": [
        "### Crime Location for certain crimes\n",
        "- Are there certain locations for certain crimes( eg theft,battery etc)?"
      ]
    },
    {
      "cell_type": "code",
      "metadata": {
        "colab_type": "code",
        "outputId": "f18c7b0a-9472-45ca-b19f-0c2d9209c602",
        "id": "Q-cWKRKkPQKZ",
        "colab": {
          "base_uri": "https://localhost:8080/",
          "height": 459
        }
      },
      "source": [
        "df.groupby('primary Type','Location Description').count().orderBy('count', ascending=False).show(20)"
      ],
      "execution_count": 0,
      "outputs": [
        {
          "output_type": "stream",
          "text": [
            "+-------------------+--------------------+------+\n",
            "|       primary Type|Location Description| count|\n",
            "+-------------------+--------------------+------+\n",
            "|              THEFT|              STREET|369334|\n",
            "|    CRIMINAL DAMAGE|              STREET|262022|\n",
            "|            BATTERY|           APARTMENT|246850|\n",
            "|            BATTERY|           RESIDENCE|239848|\n",
            "|MOTOR VEHICLE THEFT|              STREET|229903|\n",
            "|          NARCOTICS|              STREET|226168|\n",
            "|          NARCOTICS|            SIDEWALK|213090|\n",
            "|            BATTERY|              STREET|197789|\n",
            "|            BATTERY|            SIDEWALK|178873|\n",
            "|      OTHER OFFENSE|           RESIDENCE|178867|\n",
            "|    CRIMINAL DAMAGE|           RESIDENCE|137249|\n",
            "|              THEFT|           RESIDENCE|137134|\n",
            "|           BURGLARY|           RESIDENCE|124736|\n",
            "|           BURGLARY|           APARTMENT|110127|\n",
            "|            ASSAULT|              STREET| 80933|\n",
            "|    CRIMINAL DAMAGE|           APARTMENT| 80156|\n",
            "|            ROBBERY|            SIDEWALK| 77430|\n",
            "|              THEFT|               OTHER| 74880|\n",
            "| DECEPTIVE PRACTICE|           RESIDENCE| 72922|\n",
            "|            ROBBERY|              STREET| 71872|\n",
            "+-------------------+--------------------+------+\n",
            "only showing top 20 rows\n",
            "\n"
          ],
          "name": "stdout"
        }
      ]
    },
    {
      "cell_type": "markdown",
      "metadata": {
        "id": "rFW3MNVYQ8gH",
        "colab_type": "text"
      },
      "source": [
        "### Arrest over the years\n",
        "- How has the number of arrest corrsponding tie crimes change over time in chicago?"
      ]
    },
    {
      "cell_type": "code",
      "metadata": {
        "id": "1TegmS2NRXOA",
        "colab_type": "code",
        "outputId": "009ae60f-3e67-43ff-afa3-fdead98b557f",
        "colab": {
          "base_uri": "https://localhost:8080/",
          "height": 204
        }
      },
      "source": [
        "# arrest over years:\n",
        "arrest_date = df.groupBy(['arrest', 'month'])\\\n",
        "                     .count()\\\n",
        "                     .orderBy(['month', 'count'], ascending=[True, False])\n",
        "arrest_date.show(5)"
      ],
      "execution_count": 0,
      "outputs": [
        {
          "output_type": "stream",
          "text": [
            "+------+----------+------+\n",
            "|arrest|     month| count|\n",
            "+------+----------+------+\n",
            "| false|2001-01-01|  3167|\n",
            "|  true|2001-01-01|   715|\n",
            "| false|2002-01-01|248853|\n",
            "|  true|2002-01-01| 96165|\n",
            "| false|2003-01-01|331551|\n",
            "+------+----------+------+\n",
            "only showing top 5 rows\n",
            "\n"
          ],
          "name": "stdout"
        }
      ]
    },
    {
      "cell_type": "code",
      "metadata": {
        "id": "TlpKlsIIU7Cb",
        "colab_type": "code",
        "colab": {}
      },
      "source": [
        "arrest_date_df=arrest_date.toPandas()"
      ],
      "execution_count": 0,
      "outputs": []
    },
    {
      "cell_type": "code",
      "metadata": {
        "id": "mJgQyhaeUDjw",
        "colab_type": "code",
        "outputId": "70b6159b-643d-45a8-db68-695642c3f3d6",
        "colab": {
          "base_uri": "https://localhost:8080/",
          "height": 297
        }
      },
      "source": [
        "# Data for plotting\n",
        "arrested = arrest_date_df[arrest_date_df['arrest'] == True]\n",
        "not_arrested = arrest_date_df[arrest_date_df['arrest'] == False]\n",
        "\n",
        "# Note that using plt.subplots below is equivalent to using\n",
        "# fig = plt.figure() and then ax = fig.add_subplot(111)\n",
        "fig, ax = plt.subplots()\n",
        "ax.plot(arrested['month'], arrested['count'], label='Arrested')\n",
        "ax.plot(not_arrested['month'], not_arrested['count'], label='Not Arrested')\n",
        "\n",
        "ax.set(xlabel='Year - 2001-2019', ylabel='Total records',\n",
        "       title='Year-on-year crime records')\n",
        "ax.grid(b=True, which='both', axis='y')\n",
        "ax.legend()"
      ],
      "execution_count": 0,
      "outputs": [
        {
          "output_type": "execute_result",
          "data": {
            "text/plain": [
              "<matplotlib.legend.Legend at 0x7f4c71fc3a58>"
            ]
          },
          "metadata": {
            "tags": []
          },
          "execution_count": 38
        },
        {
          "output_type": "display_data",
          "data": {
            "image/png": "[encoded data removed]",
            "text/plain": [
              "<Figure size 1440x576 with 1 Axes>"
            ]
          },
          "metadata": {
            "tags": []
          }
        }
      ]
    },
    {
      "cell_type": "markdown",
      "metadata": {
        "id": "2kZO_WQt4w01",
        "colab_type": "text"
      },
      "source": [
        "### Time of the day with the highest crime rate\n",
        "- what time of the day are criminals busiest?"
      ]
    },
    {
      "cell_type": "code",
      "metadata": {
        "id": "HW_t64cr5CWd",
        "colab_type": "code",
        "colab": {}
      },
      "source": [
        "# Extract the \"hour\" field from the date into a separate column called \"hour\"\n",
        "df_hour = df.withColumn('hour', hour(df['date_time']))"
      ],
      "execution_count": 0,
      "outputs": []
    },
    {
      "cell_type": "code",
      "metadata": {
        "id": "IXuYAaG64vIX",
        "colab_type": "code",
        "colab": {}
      },
      "source": [
        "# Derive a data frame with crime counts per hour of the day:\n",
        "hourly_count = df_hour.groupBy(['primary type', 'hour']).count().cache()\n",
        "hourly_total_count = hourly_count.groupBy('hour').sum('count')"
      ],
      "execution_count": 0,
      "outputs": []
    },
    {
      "cell_type": "code",
      "metadata": {
        "id": "7ho6NhP-Bvgk",
        "colab_type": "code",
        "colab": {}
      },
      "source": [
        "hourly_count = pd.DataFrame(hourly_total_count.select(hourly_total_count['hour'], hourly_total_count['sum(count)'].alias('count'))\\\n",
        "                                .rdd.map(lambda l: l.asDict())\\\n",
        "                                 .collect())"
      ],
      "execution_count": 0,
      "outputs": []
    },
    {
      "cell_type": "code",
      "metadata": {
        "id": "ibt-jfXGB7Mq",
        "colab_type": "code",
        "outputId": "5586a46a-6c72-4b2d-d94f-061c04914df5",
        "colab": {
          "base_uri": "https://localhost:8080/",
          "height": 793
        }
      },
      "source": [
        "hourly_count_df = hourly_count.sort_values(by='hour')\n",
        "hourly_count_df "
      ],
      "execution_count": 0,
      "outputs": [
        {
          "output_type": "execute_result",
          "data": {
            "text/html": [
              "<div>\n",
              "<style scoped>\n",
              "    .dataframe tbody tr th:only-of-type {\n",
              "        vertical-align: middle;\n",
              "    }\n",
              "\n",
              "    .dataframe tbody tr th {\n",
              "        vertical-align: top;\n",
              "    }\n",
              "\n",
              "    .dataframe thead th {\n",
              "        text-align: right;\n",
              "    }\n",
              "</style>\n",
              "<table border=\"1\" class=\"dataframe\">\n",
              "  <thead>\n",
              "    <tr style=\"text-align: right;\">\n",
              "      <th></th>\n",
              "      <th>hour</th>\n",
              "      <th>count</th>\n",
              "    </tr>\n",
              "  </thead>\n",
              "  <tbody>\n",
              "    <tr>\n",
              "      <th>22</th>\n",
              "      <td>0</td>\n",
              "      <td>350625</td>\n",
              "    </tr>\n",
              "    <tr>\n",
              "      <th>2</th>\n",
              "      <td>1</td>\n",
              "      <td>203720</td>\n",
              "    </tr>\n",
              "    <tr>\n",
              "      <th>21</th>\n",
              "      <td>2</td>\n",
              "      <td>171520</td>\n",
              "    </tr>\n",
              "    <tr>\n",
              "      <th>6</th>\n",
              "      <td>3</td>\n",
              "      <td>138624</td>\n",
              "    </tr>\n",
              "    <tr>\n",
              "      <th>13</th>\n",
              "      <td>4</td>\n",
              "      <td>104532</td>\n",
              "    </tr>\n",
              "    <tr>\n",
              "      <th>8</th>\n",
              "      <td>5</td>\n",
              "      <td>87293</td>\n",
              "    </tr>\n",
              "    <tr>\n",
              "      <th>4</th>\n",
              "      <td>6</td>\n",
              "      <td>103070</td>\n",
              "    </tr>\n",
              "    <tr>\n",
              "      <th>16</th>\n",
              "      <td>7</td>\n",
              "      <td>147857</td>\n",
              "    </tr>\n",
              "    <tr>\n",
              "      <th>14</th>\n",
              "      <td>8</td>\n",
              "      <td>218272</td>\n",
              "    </tr>\n",
              "    <tr>\n",
              "      <th>11</th>\n",
              "      <td>9</td>\n",
              "      <td>276580</td>\n",
              "    </tr>\n",
              "    <tr>\n",
              "      <th>17</th>\n",
              "      <td>10</td>\n",
              "      <td>271160</td>\n",
              "    </tr>\n",
              "    <tr>\n",
              "      <th>19</th>\n",
              "      <td>11</td>\n",
              "      <td>285719</td>\n",
              "    </tr>\n",
              "    <tr>\n",
              "      <th>0</th>\n",
              "      <td>12</td>\n",
              "      <td>366541</td>\n",
              "    </tr>\n",
              "    <tr>\n",
              "      <th>3</th>\n",
              "      <td>13</td>\n",
              "      <td>306247</td>\n",
              "    </tr>\n",
              "    <tr>\n",
              "      <th>20</th>\n",
              "      <td>14</td>\n",
              "      <td>326018</td>\n",
              "    </tr>\n",
              "    <tr>\n",
              "      <th>10</th>\n",
              "      <td>15</td>\n",
              "      <td>343365</td>\n",
              "    </tr>\n",
              "    <tr>\n",
              "      <th>5</th>\n",
              "      <td>16</td>\n",
              "      <td>324502</td>\n",
              "    </tr>\n",
              "    <tr>\n",
              "      <th>12</th>\n",
              "      <td>17</td>\n",
              "      <td>329276</td>\n",
              "    </tr>\n",
              "    <tr>\n",
              "      <th>23</th>\n",
              "      <td>18</td>\n",
              "      <td>352694</td>\n",
              "    </tr>\n",
              "    <tr>\n",
              "      <th>9</th>\n",
              "      <td>19</td>\n",
              "      <td>366080</td>\n",
              "    </tr>\n",
              "    <tr>\n",
              "      <th>7</th>\n",
              "      <td>20</td>\n",
              "      <td>363825</td>\n",
              "    </tr>\n",
              "    <tr>\n",
              "      <th>18</th>\n",
              "      <td>21</td>\n",
              "      <td>354305</td>\n",
              "    </tr>\n",
              "    <tr>\n",
              "      <th>1</th>\n",
              "      <td>22</td>\n",
              "      <td>349214</td>\n",
              "    </tr>\n",
              "    <tr>\n",
              "      <th>15</th>\n",
              "      <td>23</td>\n",
              "      <td>288779</td>\n",
              "    </tr>\n",
              "  </tbody>\n",
              "</table>\n",
              "</div>"
            ],
            "text/plain": [
              "    hour   count\n",
              "22     0  350625\n",
              "2      1  203720\n",
              "21     2  171520\n",
              "6      3  138624\n",
              "13     4  104532\n",
              "8      5   87293\n",
              "4      6  103070\n",
              "16     7  147857\n",
              "14     8  218272\n",
              "11     9  276580\n",
              "17    10  271160\n",
              "19    11  285719\n",
              "0     12  366541\n",
              "3     13  306247\n",
              "20    14  326018\n",
              "10    15  343365\n",
              "5     16  324502\n",
              "12    17  329276\n",
              "23    18  352694\n",
              "9     19  366080\n",
              "7     20  363825\n",
              "18    21  354305\n",
              "1     22  349214\n",
              "15    23  288779"
            ]
          },
          "metadata": {
            "tags": []
          },
          "execution_count": 44
        }
      ]
    },
    {
      "cell_type": "code",
      "metadata": {
        "id": "6iX-rMt8CZEk",
        "colab_type": "code",
        "outputId": "8987f639-e396-466c-e8d5-941dd59e902e",
        "colab": {
          "base_uri": "https://localhost:8080/",
          "height": 297
        }
      },
      "source": [
        "#Plot\n",
        "fig, ax = plt.subplots()\n",
        "ax.plot(hourly_count_df['hour'], hourly_count_df['count'], label='Hourly Count')\n",
        "\n",
        "ax.set(xlabel='Hour of Day', ylabel='Total records',\n",
        "       title='Overall hourly crime numbers')\n",
        "ax.grid(b=True, which='both', axis='y')\n",
        "ax.legend()\n"
      ],
      "execution_count": 0,
      "outputs": [
        {
          "output_type": "execute_result",
          "data": {
            "text/plain": [
              "<matplotlib.legend.Legend at 0x7f4c71e9c2b0>"
            ]
          },
          "metadata": {
            "tags": []
          },
          "execution_count": 45
        },
        {
          "output_type": "display_data",
          "data": {
            "image/png": "[encoded data removed]",
            "text/plain": [
              "<Figure size 1440x576 with 1 Axes>"
            ]
          },
          "metadata": {
            "tags": []
          }
        }
      ]
    },
    {
      "cell_type": "markdown",
      "metadata": {
        "id": "4ccvruQ-ErQ7",
        "colab_type": "text"
      },
      "source": [
        "### Critical View in crime date and time\n",
        "- When is the peak of crimal activities?"
      ]
    },
    {
      "cell_type": "code",
      "metadata": {
        "id": "tMGpTDhTFUCl",
        "colab_type": "code",
        "colab": {}
      },
      "source": [
        "df_dates = df_hour.withColumn('week_day', dayofweek(df_hour['date_time']))\\\n",
        "                 .withColumn('year_month', month(df_hour['date_time']))\\\n",
        "                 .withColumn('month_day', dayofmonth(df_hour['date_time']))\\\n",
        "                 .withColumn('date_number', datediff(df['date_time'], to_date(lit('2001-01-01'), format='yyyy-MM-dd')))\\\n",
        "                 .cache()"
      ],
      "execution_count": 0,
      "outputs": []
    },
    {
      "cell_type": "code",
      "metadata": {
        "id": "9Pd9JntsFci4",
        "colab_type": "code",
        "outputId": "0e4cecb3-3942-4483-b75b-abe4753eed38",
        "colab": {
          "base_uri": "https://localhost:8080/",
          "height": 479
        }
      },
      "source": [
        "\n",
        "df_dates.select(['date', 'month', 'hour', 'week_day', 'year', 'year_month', 'month_day', 'date_number']).show(20, truncate=False)"
      ],
      "execution_count": 0,
      "outputs": [
        {
          "output_type": "stream",
          "text": [
            "+----------------------+----------+----+--------+----+----------+---------+-----------+\n",
            "|date                  |month     |hour|week_day|year|year_month|month_day|date_number|\n",
            "+----------------------+----------+----+--------+----+----------+---------+-----------+\n",
            "|07/19/2013 02:00:00 AM|2013-01-01|2   |6       |2013|7         |19       |4582       |\n",
            "|07/19/2013 02:00:00 AM|2013-01-01|2   |6       |2013|7         |19       |4582       |\n",
            "|07/22/2013 09:25:00 AM|2013-01-01|9   |2       |2013|7         |22       |4585       |\n",
            "|07/22/2013 12:00:00 PM|2013-01-01|12  |2       |2013|7         |22       |4585       |\n",
            "|07/22/2013 01:39:00 PM|2013-01-01|13  |2       |2013|7         |22       |4585       |\n",
            "|07/16/2013 08:00:00 AM|2013-01-01|8   |3       |2013|7         |16       |4579       |\n",
            "|07/22/2013 03:00:00 PM|2013-01-01|15  |2       |2013|7         |22       |4585       |\n",
            "|07/19/2013 04:30:00 PM|2013-01-01|16  |6       |2013|7         |19       |4582       |\n",
            "|07/22/2013 12:00:00 PM|2013-01-01|12  |2       |2013|7         |22       |4585       |\n",
            "|07/22/2013 07:49:00 PM|2013-01-01|19  |2       |2013|7         |22       |4585       |\n",
            "|07/22/2013 02:00:00 PM|2013-01-01|14  |2       |2013|7         |22       |4585       |\n",
            "|07/22/2013 02:30:00 AM|2013-01-01|2   |2       |2013|7         |22       |4585       |\n",
            "|07/22/2013 08:30:00 PM|2013-01-01|20  |2       |2013|7         |22       |4585       |\n",
            "|07/22/2013 01:30:00 PM|2013-01-01|13  |2       |2013|7         |22       |4585       |\n",
            "|07/21/2013 03:14:00 AM|2013-01-01|3   |1       |2013|7         |21       |4584       |\n",
            "|07/22/2013 11:19:00 PM|2013-01-01|23  |2       |2013|7         |22       |4585       |\n",
            "|07/22/2013 03:00:00 AM|2013-01-01|3   |2       |2013|7         |22       |4585       |\n",
            "|07/22/2013 03:00:00 AM|2013-01-01|3   |2       |2013|7         |22       |4585       |\n",
            "|07/23/2013 02:30:00 AM|2013-01-01|2   |3       |2013|7         |23       |4586       |\n",
            "|07/23/2013 06:05:00 AM|2013-01-01|6   |3       |2013|7         |23       |4586       |\n",
            "+----------------------+----------+----+--------+----+----------+---------+-----------+\n",
            "only showing top 20 rows\n",
            "\n"
          ],
          "name": "stdout"
        }
      ]
    },
    {
      "cell_type": "code",
      "metadata": {
        "id": "w2d1hoFpFuwp",
        "colab_type": "code",
        "outputId": "c4e11379-73ff-4a05-f3d7-dd7e9867be74",
        "colab": {
          "base_uri": "https://localhost:8080/",
          "height": 300
        }
      },
      "source": [
        "#Ploting the crime count accros days of the week\n",
        "week_day_crime_counts = df_dates.groupBy('week_day').count()\n",
        "week_day_crime_counts_pddf = pd.DataFrame(week_day_crime_counts.orderBy('week_day').rdd.map(lambda e: e.asDict()).collect())\n",
        "sns.barplot(data=week_day_crime_counts_pddf, x='week_day', y='count')"
      ],
      "execution_count": 0,
      "outputs": [
        {
          "output_type": "execute_result",
          "data": {
            "text/plain": [
              "<matplotlib.axes._subplots.AxesSubplot at 0x7f4c71e62438>"
            ]
          },
          "metadata": {
            "tags": []
          },
          "execution_count": 48
        },
        {
          "output_type": "display_data",
          "data": {
            "image/png": "[encoded data removed]",
            "text/plain": [
              "<Figure size 1440x576 with 1 Axes>"
            ]
          },
          "metadata": {
            "tags": []
          }
        }
      ]
    },
    {
      "cell_type": "code",
      "metadata": {
        "id": "1nuIcjJSKDBT",
        "colab_type": "code",
        "outputId": "b3f43499-5c3e-4920-92d9-1eeab8868301",
        "colab": {
          "base_uri": "https://localhost:8080/",
          "height": 359
        }
      },
      "source": [
        "# Ploting crime count across days of the month\n",
        "month_day_crime_counts = df_dates.groupBy('month_day').count()\n",
        "\n",
        "month_day_crime_counts_pddf = pd.DataFrame(month_day_crime_counts.orderBy('month_day').rdd.map(lambda e: e.asDict()).collect())\n",
        "month_day_crime_counts_pddf.sort_values(by='count', ascending=False).head(10)"
      ],
      "execution_count": 0,
      "outputs": [
        {
          "output_type": "execute_result",
          "data": {
            "text/html": [
              "<div>\n",
              "<style scoped>\n",
              "    .dataframe tbody tr th:only-of-type {\n",
              "        vertical-align: middle;\n",
              "    }\n",
              "\n",
              "    .dataframe tbody tr th {\n",
              "        vertical-align: top;\n",
              "    }\n",
              "\n",
              "    .dataframe thead th {\n",
              "        text-align: right;\n",
              "    }\n",
              "</style>\n",
              "<table border=\"1\" class=\"dataframe\">\n",
              "  <thead>\n",
              "    <tr style=\"text-align: right;\">\n",
              "      <th></th>\n",
              "      <th>month_day</th>\n",
              "      <th>count</th>\n",
              "    </tr>\n",
              "  </thead>\n",
              "  <tbody>\n",
              "    <tr>\n",
              "      <th>0</th>\n",
              "      <td>1</td>\n",
              "      <td>245727</td>\n",
              "    </tr>\n",
              "    <tr>\n",
              "      <th>14</th>\n",
              "      <td>15</td>\n",
              "      <td>217957</td>\n",
              "    </tr>\n",
              "    <tr>\n",
              "      <th>19</th>\n",
              "      <td>20</td>\n",
              "      <td>214767</td>\n",
              "    </tr>\n",
              "    <tr>\n",
              "      <th>16</th>\n",
              "      <td>17</td>\n",
              "      <td>212923</td>\n",
              "    </tr>\n",
              "    <tr>\n",
              "      <th>9</th>\n",
              "      <td>10</td>\n",
              "      <td>212164</td>\n",
              "    </tr>\n",
              "    <tr>\n",
              "      <th>13</th>\n",
              "      <td>14</td>\n",
              "      <td>211633</td>\n",
              "    </tr>\n",
              "    <tr>\n",
              "      <th>15</th>\n",
              "      <td>16</td>\n",
              "      <td>211389</td>\n",
              "    </tr>\n",
              "    <tr>\n",
              "      <th>20</th>\n",
              "      <td>21</td>\n",
              "      <td>210512</td>\n",
              "    </tr>\n",
              "    <tr>\n",
              "      <th>17</th>\n",
              "      <td>18</td>\n",
              "      <td>210493</td>\n",
              "    </tr>\n",
              "    <tr>\n",
              "      <th>11</th>\n",
              "      <td>12</td>\n",
              "      <td>210150</td>\n",
              "    </tr>\n",
              "  </tbody>\n",
              "</table>\n",
              "</div>"
            ],
            "text/plain": [
              "    month_day   count\n",
              "0           1  245727\n",
              "14         15  217957\n",
              "19         20  214767\n",
              "16         17  212923\n",
              "9          10  212164\n",
              "13         14  211633\n",
              "15         16  211389\n",
              "20         21  210512\n",
              "17         18  210493\n",
              "11         12  210150"
            ]
          },
          "metadata": {
            "tags": []
          },
          "execution_count": 49
        }
      ]
    },
    {
      "cell_type": "code",
      "metadata": {
        "id": "Hz9RkiiZKopP",
        "colab_type": "code",
        "outputId": "0403628a-f32e-4a66-d52a-67257c9d948b",
        "colab": {
          "base_uri": "https://localhost:8080/",
          "height": 283
        }
      },
      "source": [
        "#Plot\n",
        "month_day_crime_counts_pddf = month_day_crime_counts_pddf.sort_values(by='month_day', ascending=True)\n",
        "fg, ax = plt.subplots()\n",
        "\n",
        "ax.plot(month_day_crime_counts_pddf['month_day'], month_day_crime_counts_pddf['count'], label='Crimes over the month')\n",
        "\n",
        "ax.grid(b=True, which='both')\n",
        "ax.legend()"
      ],
      "execution_count": 0,
      "outputs": [
        {
          "output_type": "execute_result",
          "data": {
            "text/plain": [
              "<matplotlib.legend.Legend at 0x7f4c71d9b400>"
            ]
          },
          "metadata": {
            "tags": []
          },
          "execution_count": 50
        },
        {
          "output_type": "display_data",
          "data": {
            "image/png": "[encoded data removed]",
            "text/plain": [
              "<Figure size 1440x576 with 1 Axes>"
            ]
          },
          "metadata": {
            "tags": []
          }
        }
      ]
    },
    {
      "cell_type": "code",
      "metadata": {
        "id": "BqmPhVN6IUBp",
        "colab_type": "code",
        "outputId": "1e575a7f-d515-4ec1-e264-922b20c0c354",
        "colab": {
          "base_uri": "https://localhost:8080/",
          "height": 421
        }
      },
      "source": [
        "# Ploting the crime count accros the months of the year\n",
        "year_month_crime_counts = df_dates.groupBy('year_month').count()\n",
        "year_month_crime_counts_pddf = pd.DataFrame(year_month_crime_counts.orderBy('year_month').rdd.map(lambda e: e.asDict()).collect())\n",
        "year_month_crime_counts_pddf"
      ],
      "execution_count": 0,
      "outputs": [
        {
          "output_type": "execute_result",
          "data": {
            "text/html": [
              "<div>\n",
              "<style scoped>\n",
              "    .dataframe tbody tr th:only-of-type {\n",
              "        vertical-align: middle;\n",
              "    }\n",
              "\n",
              "    .dataframe tbody tr th {\n",
              "        vertical-align: top;\n",
              "    }\n",
              "\n",
              "    .dataframe thead th {\n",
              "        text-align: right;\n",
              "    }\n",
              "</style>\n",
              "<table border=\"1\" class=\"dataframe\">\n",
              "  <thead>\n",
              "    <tr style=\"text-align: right;\">\n",
              "      <th></th>\n",
              "      <th>year_month</th>\n",
              "      <th>count</th>\n",
              "    </tr>\n",
              "  </thead>\n",
              "  <tbody>\n",
              "    <tr>\n",
              "      <th>0</th>\n",
              "      <td>1</td>\n",
              "      <td>486636</td>\n",
              "    </tr>\n",
              "    <tr>\n",
              "      <th>1</th>\n",
              "      <td>2</td>\n",
              "      <td>429898</td>\n",
              "    </tr>\n",
              "    <tr>\n",
              "      <th>2</th>\n",
              "      <td>3</td>\n",
              "      <td>513401</td>\n",
              "    </tr>\n",
              "    <tr>\n",
              "      <th>3</th>\n",
              "      <td>4</td>\n",
              "      <td>519073</td>\n",
              "    </tr>\n",
              "    <tr>\n",
              "      <th>4</th>\n",
              "      <td>5</td>\n",
              "      <td>581020</td>\n",
              "    </tr>\n",
              "    <tr>\n",
              "      <th>5</th>\n",
              "      <td>6</td>\n",
              "      <td>577009</td>\n",
              "    </tr>\n",
              "    <tr>\n",
              "      <th>6</th>\n",
              "      <td>7</td>\n",
              "      <td>605746</td>\n",
              "    </tr>\n",
              "    <tr>\n",
              "      <th>7</th>\n",
              "      <td>8</td>\n",
              "      <td>599321</td>\n",
              "    </tr>\n",
              "    <tr>\n",
              "      <th>8</th>\n",
              "      <td>9</td>\n",
              "      <td>561540</td>\n",
              "    </tr>\n",
              "    <tr>\n",
              "      <th>9</th>\n",
              "      <td>10</td>\n",
              "      <td>565134</td>\n",
              "    </tr>\n",
              "    <tr>\n",
              "      <th>10</th>\n",
              "      <td>11</td>\n",
              "      <td>508117</td>\n",
              "    </tr>\n",
              "    <tr>\n",
              "      <th>11</th>\n",
              "      <td>12</td>\n",
              "      <td>482923</td>\n",
              "    </tr>\n",
              "  </tbody>\n",
              "</table>\n",
              "</div>"
            ],
            "text/plain": [
              "    year_month   count\n",
              "0            1  486636\n",
              "1            2  429898\n",
              "2            3  513401\n",
              "3            4  519073\n",
              "4            5  581020\n",
              "5            6  577009\n",
              "6            7  605746\n",
              "7            8  599321\n",
              "8            9  561540\n",
              "9           10  565134\n",
              "10          11  508117\n",
              "11          12  482923"
            ]
          },
          "metadata": {
            "tags": []
          },
          "execution_count": 51
        }
      ]
    },
    {
      "cell_type": "code",
      "metadata": {
        "id": "FcrFJxU5I_Jq",
        "colab_type": "code",
        "outputId": "24ff12b2-7a00-4626-ea12-1138f372aa75",
        "colab": {
          "base_uri": "https://localhost:8080/",
          "height": 289
        }
      },
      "source": [
        "#Plot\n",
        "sns.barplot(data=year_month_crime_counts_pddf, y='count', x='year_month')"
      ],
      "execution_count": 0,
      "outputs": [
        {
          "output_type": "execute_result",
          "data": {
            "text/plain": [
              "<matplotlib.axes._subplots.AxesSubplot at 0x7f4c71d4cf60>"
            ]
          },
          "metadata": {
            "tags": []
          },
          "execution_count": 52
        },
        {
          "output_type": "display_data",
          "data": {
            "image/png": "[encoded data removed]",
            "text/plain": [
              "<Figure size 1440x576 with 1 Axes>"
            ]
          },
          "metadata": {
            "tags": []
          }
        }
      ]
    },
    {
      "cell_type": "markdown",
      "metadata": {
        "id": "WqjCd6osMBC-",
        "colab_type": "text"
      },
      "source": [
        "### Comparing Chicago Community Areas\n",
        "- chicago has 77 community areas\n",
        "- we will use a count plot\n",
        "- Given that we added the area names we wil use to\n",
        "- Which Communities have the highest crime?\n",
        "- Which crimes are predominant in each community?\n"
      ]
    },
    {
      "cell_type": "code",
      "metadata": {
        "id": "0TXx2NBnL_xg",
        "colab_type": "code",
        "outputId": "22513f40-8adf-4207-e24c-0e1aaa711802",
        "colab": {
          "base_uri": "https://localhost:8080/",
          "height": 289
        }
      },
      "source": [
        "# Community Areas with highest crimes\n",
        "df_dates_community_areas = df.groupBy('community area','Area Name').count().orderBy('count', ascending=False).show(10)\n"
      ],
      "execution_count": 0,
      "outputs": [
        {
          "output_type": "stream",
          "text": [
            "+--------------+---------------+------+\n",
            "|community area|      Area Name| count|\n",
            "+--------------+---------------+------+\n",
            "|            25|         Austin|407620|\n",
            "|             8|Near North Side|222998|\n",
            "|            43|    South Shore|210745|\n",
            "|            23|  Humboldt Park|203091|\n",
            "|            28| Near West Side|190734|\n",
            "|            24|      West Town|189023|\n",
            "|            67| West Englewood|188102|\n",
            "|            29| North Lawndale|186736|\n",
            "|            71| Auburn Gresham|182694|\n",
            "|            49|       Roseland|171547|\n",
            "+--------------+---------------+------+\n",
            "only showing top 10 rows\n",
            "\n"
          ],
          "name": "stdout"
        }
      ]
    },
    {
      "cell_type": "code",
      "metadata": {
        "colab_type": "code",
        "outputId": "326f7831-bf7a-458b-d88b-a2a526229e4b",
        "id": "iym22Bv4ZRai",
        "colab": {
          "base_uri": "https://localhost:8080/",
          "height": 459
        }
      },
      "source": [
        "#Comparing community areas and their crime type\n",
        "crime_per_Area = df.groupBy('primary Type','community area','Area Name').count().sort('primary Type','community area','Area Name')\n",
        "crime_per_Area_counts = crime_per_Area.orderBy('count', ascending=False)\n",
        "crime_per_Area_counts.show(truncate=False)"
      ],
      "execution_count": 0,
      "outputs": [
        {
          "output_type": "stream",
          "text": [
            "+---------------+--------------+---------------+-----+\n",
            "|primary Type   |community area|Area Name      |count|\n",
            "+---------------+--------------+---------------+-----+\n",
            "|THEFT          |8             |Near North Side|93464|\n",
            "|NARCOTICS      |25            |Austin         |90877|\n",
            "|BATTERY        |25            |Austin         |82335|\n",
            "|THEFT          |32            |Loop           |81448|\n",
            "|THEFT          |28            |Near West Side |63158|\n",
            "|THEFT          |24            |West Town      |61742|\n",
            "|THEFT          |25            |Austin         |53377|\n",
            "|THEFT          |6             |Lakeview       |47731|\n",
            "|NARCOTICS      |23            |Humboldt Park  |47169|\n",
            "|BATTERY        |43            |South Shore    |46578|\n",
            "|THEFT          |7             |Lincoln Park   |45222|\n",
            "|BATTERY        |67            |West Englewood |44772|\n",
            "|BATTERY        |68            |Englewood      |42826|\n",
            "|NARCOTICS      |29            |North Lawndale |42435|\n",
            "|BATTERY        |29            |North Lawndale |41137|\n",
            "|BATTERY        |23            |Humboldt Park  |40410|\n",
            "|BATTERY        |71            |Auburn Gresham |39054|\n",
            "|THEFT          |22            |Logan Square   |38933|\n",
            "|BATTERY        |49            |Roseland       |36499|\n",
            "|CRIMINAL DAMAGE|25            |Austin         |36225|\n",
            "+---------------+--------------+---------------+-----+\n",
            "only showing top 20 rows\n",
            "\n"
          ],
          "name": "stdout"
        }
      ]
    },
    {
      "cell_type": "code",
      "metadata": {
        "id": "A9o2FFPRXA6P",
        "colab_type": "code",
        "outputId": "52d43686-e87b-4930-acd5-53c45666c304",
        "colab": {
          "base_uri": "https://localhost:8080/",
          "height": 459
        }
      },
      "source": [
        "# Comparing crime type in each location\n",
        "crime_per_location = df.groupBy('primary Type','Location Description').count().sort('primary Type','Location description')\n",
        "crime_per_location_counts = crime_per_location.orderBy('count', ascending=False)\n",
        "crime_per_location_counts.show(truncate=False)"
      ],
      "execution_count": 0,
      "outputs": [
        {
          "output_type": "stream",
          "text": [
            "+-------------------+--------------------+------+\n",
            "|primary Type       |Location Description|count |\n",
            "+-------------------+--------------------+------+\n",
            "|THEFT              |STREET              |369334|\n",
            "|CRIMINAL DAMAGE    |STREET              |262022|\n",
            "|BATTERY            |APARTMENT           |246850|\n",
            "|BATTERY            |RESIDENCE           |239848|\n",
            "|MOTOR VEHICLE THEFT|STREET              |229903|\n",
            "|NARCOTICS          |STREET              |226168|\n",
            "|NARCOTICS          |SIDEWALK            |213090|\n",
            "|BATTERY            |STREET              |197789|\n",
            "|BATTERY            |SIDEWALK            |178873|\n",
            "|OTHER OFFENSE      |RESIDENCE           |178867|\n",
            "|CRIMINAL DAMAGE    |RESIDENCE           |137249|\n",
            "|THEFT              |RESIDENCE           |137134|\n",
            "|BURGLARY           |RESIDENCE           |124736|\n",
            "|BURGLARY           |APARTMENT           |110127|\n",
            "|ASSAULT            |STREET              |80933 |\n",
            "|CRIMINAL DAMAGE    |APARTMENT           |80156 |\n",
            "|ROBBERY            |SIDEWALK            |77430 |\n",
            "|THEFT              |OTHER               |74880 |\n",
            "|DECEPTIVE PRACTICE |RESIDENCE           |72922 |\n",
            "|ROBBERY            |STREET              |71872 |\n",
            "+-------------------+--------------------+------+\n",
            "only showing top 20 rows\n",
            "\n"
          ],
          "name": "stdout"
        }
      ]
    },
    {
      "cell_type": "markdown",
      "metadata": {
        "id": "sk_GovJFoJEj",
        "colab_type": "text"
      },
      "source": [
        "### Domestic Crimes\n",
        "- How does domestic crime compare with other crimes?"
      ]
    },
    {
      "cell_type": "code",
      "metadata": {
        "id": "0lyGN0nXo8iD",
        "colab_type": "code",
        "outputId": "3120dc28-4da0-4e51-8c66-66b94ae60177",
        "colab": {
          "base_uri": "https://localhost:8080/",
          "height": 139
        }
      },
      "source": [
        "# Boolean count of Domestic Crimes\n",
        "df.groupBy('Domestic').count().show()"
      ],
      "execution_count": 0,
      "outputs": [
        {
          "output_type": "stream",
          "text": [
            "+--------+-------+\n",
            "|Domestic|  count|\n",
            "+--------+-------+\n",
            "|    true| 865499|\n",
            "|   false|5563785|\n",
            "+--------+-------+\n",
            "\n"
          ],
          "name": "stdout"
        }
      ]
    },
    {
      "cell_type": "markdown",
      "metadata": {
        "id": "5AK40R9unDAN",
        "colab_type": "text"
      },
      "source": [
        "### Amount Of Theft each Year"
      ]
    },
    {
      "cell_type": "code",
      "metadata": {
        "id": "y70UOo0jrn5y",
        "colab_type": "code",
        "outputId": "226bce84-46bb-412c-97fd-548edd3c5415",
        "colab": {
          "base_uri": "https://localhost:8080/",
          "height": 488
        }
      },
      "source": [
        "# Select DataFrame approach\n",
        "new_df=df.filter(col('primary Type') == 'THEFT')\n",
        "new_df.show()"
      ],
      "execution_count": 0,
      "outputs": [
        {
          "output_type": "stream",
          "text": [
            "+--------------+---------------+--------+-----------+--------------------+--------------------+----+------------+--------------+--------------------+------+--------+----+--------+----+--------+------------+------------+----+--------------------+------------+-------------+--------------------+-------------------+----------+----+--------+----------+---------+-----------+\n",
            "|Community Area|      Area Name|      ID|Case Number|                Date|               Block|IUCR|Primary Type|   Description|Location Description|Arrest|Domestic|Beat|District|Ward|FBI Code|X Coordinate|Y Coordinate|Year|          Updated On|    Latitude|    Longitude|            Location|          date_time|     month|hour|day_week|month_year|day_month|date_number|\n",
            "+--------------+---------------+--------+-----------+--------------------+--------------------+----+------------+--------------+--------------------+------+--------+----+--------+----+--------+------------+------------+----+--------------------+------------+-------------+--------------------+-------------------+----------+----+--------+----------+---------+-----------+\n",
            "|             8|Near North Side|11688302|   JC263817|04/01/2019 08:45:...| 001XX W DIVISION ST|0870|       THEFT|POCKET-PICKING|           CTA TRAIN| false|   false|1821|      18|   2|      06|     1175219|     1908350|2019|06/30/2019 03:56:...|41.903894777|-87.631814251|(41.903894777, -8...|2019-04-01 08:45:00|2019-01-01|   8|       2|         4|        1|       6664|\n",
            "|             8|Near North Side|11676085|   JC249714|05/04/2019 02:00:...|  001XX E PEARSON ST|0820|       THEFT|$500 AND UNDER|         HOTEL/MOTEL| false|   false|1833|      18|   2|      06|     1177578|     1906074|2019|06/30/2019 03:56:...|41.897596067|-87.623218373|(41.897596067, -8...|2019-05-04 14:00:00|2019-01-01|  14|       7|         5|        4|       6697|\n",
            "|             8|Near North Side|11697227|   JC275463|05/23/2019 03:30:...|    011XX N CLARK ST|0870|       THEFT|POCKET-PICKING|            SIDEWALK| false|   false|1824|      18|   2|      06|     1175324|     1908199|2019|06/30/2019 03:56:...|41.903478069|-87.631433102|(41.903478069, -8...|2019-05-23 15:30:00|2019-01-01|  15|       5|         5|       23|       6716|\n",
            "|             8|Near North Side|11662740|   JC233526|04/22/2019 09:07:...| 004XX W DIVISION ST|0860|       THEFT|  RETAIL THEFT|  GROCERY FOOD STORE|  true|   false|1821|      18|  27|      06|     1173175|     1908290|2019|06/03/2019 04:14:...|41.903775756|-87.639324074|(41.903775756, -8...|2019-04-22 09:07:00|2019-01-01|   9|       2|         4|       22|       6685|\n",
            "|             8|Near North Side|11703359|   JC282768|05/29/2019 02:40:...|    006XX N CLARK ST|0860|       THEFT|  RETAIL THEFT|          DRUG STORE| false|   false|1832|      18|  42|      06|     1175423|     1904617|2019|06/30/2019 03:56:...|41.893646656|-87.631177143|(41.893646656, -8...|2019-05-29 02:40:00|2019-01-01|   2|       4|         5|       29|       6722|\n",
            "|             8|Near North Side|11704459|   JC284043|05/29/2019 07:30:...|     002XX E OHIO ST|0870|       THEFT|POCKET-PICKING|              STREET| false|   false|1834|      18|  42|      06|     1177903|     1904245|2019|06/30/2019 03:56:...|41.892569818| -87.62208039|(41.892569818, -8...|2019-05-29 19:30:00|2019-01-01|  19|       4|         5|       29|       6722|\n",
            "|             8|Near North Side|11672741|   JC245477|05/01/2019 01:00:...|     0000X E OHIO ST|0890|       THEFT| FROM BUILDING|          RESTAURANT|  true|   false|1834|      18|  42|      06|     1176817|     1904214|2019|06/06/2019 04:02:...|41.892509386|-87.626069718|(41.892509386, -8...|2019-05-01 13:00:00|2019-01-01|  13|       4|         5|        1|       6694|\n",
            "|             8|Near North Side|11683202|   JC258264|05/10/2019 08:43:...|  014XX N HALSTED ST|0820|       THEFT|$500 AND UNDER|    DEPARTMENT STORE|  true|   false|1822|      18|  27|      06|     1170748|     1909783|2019|06/06/2019 04:02:...|41.907926167| -87.64819515|(41.907926167, -8...|2019-05-10 20:43:00|2019-01-01|  20|       6|         5|       10|       6703|\n",
            "|             8|Near North Side|11685219|   JC260838|04/06/2019 02:10:...|014XX N KINGSBURY ST|0810|       THEFT|     OVER $500|  SMALL RETAIL STORE| false|   false|1822|      18|  27|      06|     1170125|     1909275|2019|06/06/2019 04:02:...|41.906545818|-87.650498565|(41.906545818, -8...|2019-04-06 14:10:00|2019-01-01|  14|       7|         4|        6|       6669|\n",
            "|             8|Near North Side|11711787|   JC292876|05/24/2019 03:00:...| 011XX N DEARBORN ST|0810|       THEFT|     OVER $500|               OTHER| false|   false|1824|      18|   2|      06|     1175734|     1907790|2019|06/30/2019 03:56:...|41.902346538|-87.629939417|(41.902346538, -8...|2019-05-24 15:00:00|2019-01-01|  15|       6|         5|       24|       6717|\n",
            "|             8|Near North Side|11712142|   JC293423|06/05/2019 03:00:...| 003XX E ILLINOIS ST|0860|       THEFT|  RETAIL THEFT|               OTHER| false|   false|1834|      18|  42|      06|     1179032|     1903699|2019|06/30/2019 03:56:...|41.891045813|-87.617950803|(41.891045813, -8...|2019-06-05 15:00:00|2019-01-01|  15|       4|         6|        5|       6729|\n",
            "|             8|Near North Side|11707075|   JC287315|06/01/2019 02:30:...|    011XX N STATE ST|0810|       THEFT|     OVER $500|              STREET| false|   false|1824|      18|   2|      06|     1176077|     1908201|2019|06/30/2019 03:56:...|41.903466617|-87.628667138|(41.903466617, -8...|2019-06-01 02:30:00|2019-01-01|   2|       7|         6|        1|       6725|\n",
            "|             8|Near North Side|11645061|   JC212254|04/04/2019 11:52:...| 0000X E CHICAGO AVE|0810|       THEFT|     OVER $500|               OTHER|  true|   false|1833|      18|  42|      06|     1176365|     1905732|2019|06/11/2019 04:08:...|41.896685066|-87.627683859|(41.896685066, -8...|2019-04-04 23:52:00|2019-01-01|  23|       5|         4|        4|       6667|\n",
            "|             8|Near North Side|11697765|   JC276088|05/24/2019 12:45:...|004XX W EVERGREEN...|0810|       THEFT|     OVER $500|              STREET| false|   false|1821|      18|  27|      06|     1172827|     1909275|2019|06/30/2019 03:56:...|41.906486367|-87.640573129|(41.906486367, -8...|2019-05-24 00:45:00|2019-01-01|   0|       6|         5|       24|       6717|\n",
            "|             8|Near North Side|11698150|   JC276486|05/24/2019 03:00:...|  001XX W HUBBARD ST|0820|       THEFT|$500 AND UNDER|              STREET| false|   false|1831|      18|  42|      06|     1175301|     1903292|2019|06/30/2019 03:56:...|41.890013524|-87.631664996|(41.890013524, -8...|2019-05-24 03:00:00|2019-01-01|   3|       6|         5|       24|       6717|\n",
            "|             8|Near North Side|11721015|   JC304240|06/05/2019 02:30:...|   014XX N OGDEN AVE|0890|       THEFT| FROM BUILDING|SCHOOL, PUBLIC, B...| false|   false|1822|      18|  27|      06|     1171353|     1909648|2019|06/30/2019 03:56:...|41.907542438|-87.645976688|(41.907542438, -8...|2019-06-05 14:30:00|2019-01-01|  14|       4|         6|        5|       6729|\n",
            "|             8|Near North Side|11621624|   JC183977|03/13/2019 11:15:...| 004XX W SUPERIOR ST|0890|       THEFT| FROM BUILDING|GOVERNMENT BUILDI...|  true|   false|1831|      18|  42|      06|     1173308|     1905286|2019|06/14/2019 03:58:...|41.895529663|-87.638924852|(41.895529663, -8...|2019-03-13 11:15:00|2019-01-01|  11|       4|         3|       13|       6645|\n",
            "|             8|Near North Side|11668575|   JC240436|04/27/2019 02:00:...|    011XX N CLARK ST|0810|       THEFT|     OVER $500|VEHICLE NON-COMME...| false|   false|1824|      18|   2|      06|     1175334|     1907851|2019|06/30/2019 03:56:...|41.902522915| -87.63140683|(41.902522915, -8...|2019-04-27 02:00:00|2019-01-01|   2|       7|         4|       27|       6690|\n",
            "|             8|Near North Side|11717349|   JC299844|06/08/2019 10:00:...| 0000X E DIVISION ST|0820|       THEFT|$500 AND UNDER|              STREET| false|   false|1824|      18|  43|      06|     1176365|     1908383|2019|06/30/2019 03:56:...|41.903959536|-87.627603763|(41.903959536, -8...|2019-06-08 22:00:00|2019-01-01|  22|       7|         6|        8|       6732|\n",
            "|             8|Near North Side|11704399|   JC284040|05/29/2019 06:30:...|    003XX N CLARK ST|0890|       THEFT| FROM BUILDING|          RESTAURANT| false|   false|1831|      18|  42|      06|     1175479|     1902542|2019|06/30/2019 03:56:...|41.887951486| -87.63103385|(41.887951486, -8...|2019-05-29 18:30:00|2019-01-01|  18|       4|         5|       29|       6722|\n",
            "+--------------+---------------+--------+-----------+--------------------+--------------------+----+------------+--------------+--------------------+------+--------+----+--------+----+--------+------------+------------+----+--------------------+------------+-------------+--------------------+-------------------+----------+----+--------+----------+---------+-----------+\n",
            "only showing top 20 rows\n",
            "\n"
          ],
          "name": "stdout"
        }
      ]
    },
    {
      "cell_type": "code",
      "metadata": {
        "id": "QJX4XHsNnQPR",
        "colab_type": "code",
        "outputId": "5b2bdfd6-7d23-49fa-a7b3-4ae6ff14658e",
        "colab": {
          "base_uri": "https://localhost:8080/",
          "height": 451
        }
      },
      "source": [
        "# Amount of Theft each Year\n",
        "Theft_per_year = new_df.groupBy('primary Type','Year').count().sort('primary Type','Year')\n",
        "Theft_per_year_counts = Theft_per_year.orderBy('count', ascending=False)\n",
        "Theft_per_year_counts.show(truncate=False)"
      ],
      "execution_count": 0,
      "outputs": [
        {
          "output_type": "stream",
          "text": [
            "+------------+----+-----+\n",
            "|primary Type|Year|count|\n",
            "+------------+----+-----+\n",
            "|THEFT       |2003|97795|\n",
            "|THEFT       |2004|94631|\n",
            "|THEFT       |2008|86340|\n",
            "|THEFT       |2006|85222|\n",
            "|THEFT       |2007|84557|\n",
            "|THEFT       |2005|84298|\n",
            "|THEFT       |2009|79246|\n",
            "|THEFT       |2010|76684|\n",
            "|THEFT       |2012|75115|\n",
            "|THEFT       |2011|74853|\n",
            "|THEFT       |2002|71726|\n",
            "|THEFT       |2013|71457|\n",
            "|THEFT       |2018|64024|\n",
            "|THEFT       |2017|63584|\n",
            "|THEFT       |2019|61614|\n",
            "|THEFT       |2014|61350|\n",
            "|THEFT       |2016|61039|\n",
            "|THEFT       |2015|56696|\n",
            "|THEFT       |2020|13480|\n",
            "|THEFT       |2001|1232 |\n",
            "+------------+----+-----+\n",
            "\n"
          ],
          "name": "stdout"
        }
      ]
    },
    {
      "cell_type": "code",
      "metadata": {
        "id": "m1QhrYah3A_y",
        "colab_type": "code",
        "outputId": "3e672431-a922-4b81-c764-1ed1f27cdc7f",
        "colab": {
          "base_uri": "https://localhost:8080/",
          "height": 326
        }
      },
      "source": [
        "# Plotting\n",
        "Theft_Year_df=Theft_per_year_counts.toPandas()\n",
        "\n",
        "plt.rcParams[\"figure.figsize\"] = [64, 16]\n",
        "sns.barplot(x='Year', y='count',data=Theft_Year_df)\n",
        "\n"
      ],
      "execution_count": 0,
      "outputs": [
        {
          "output_type": "execute_result",
          "data": {
            "text/plain": [
              "<matplotlib.axes._subplots.AxesSubplot at 0x7f0abcc2a080>"
            ]
          },
          "metadata": {
            "tags": []
          },
          "execution_count": 61
        },
        {
          "output_type": "display_data",
          "data": {
            "image/png": "[encoded data removed]",
            "text/plain": [
              "<Figure size 4608x1152 with 1 Axes>"
            ]
          },
          "metadata": {
            "tags": []
          }
        }
      ]
    },
    {
      "cell_type": "markdown",
      "metadata": {
        "id": "naV5I9YsG_9Z",
        "colab_type": "text"
      },
      "source": [
        "## Conclusion\n",
        "We will deduce a conclusion backed by data , as we have used data analysis to answer our questions from the problem statement."
      ]
    },
    {
      "cell_type": "markdown",
      "metadata": {
        "id": "CqJddhamHiXj",
        "colab_type": "text"
      },
      "source": [
        "## Machine Learning\n",
        "we will use machine learning to predict what crime will be commited\n",
        "This will involve:\n",
        "- Feature Engineering\n",
        "- Training \n",
        "- Predictions\n",
        "- Testing\n",
        "NB.We will test on multiple algorythms to select the best for production\n"
      ]
    },
    {
      "cell_type": "markdown",
      "metadata": {
        "id": "RFu4BG8YIQgt",
        "colab_type": "text"
      },
      "source": [
        "### Feature Engineering\n",
        "- Select required feature\n",
        "- encode the categorical feaures\n",
        "- Splitting the data into training and testing  data set."
      ]
    },
    {
      "cell_type": "code",
      "metadata": {
        "id": "5WHx9jxnIv4-",
        "colab_type": "code",
        "outputId": "392eca0c-8e35-4c9d-814f-49023306d030",
        "colab": {
          "base_uri": "https://localhost:8080/",
          "height": 306
        }
      },
      "source": [
        "# Creating a new dataframe with the necessary columns\n",
        "# List of selected columns\n",
        "selected_features = [\n",
        " 'location description',\n",
        " 'arrest',\n",
        " 'domestic',\n",
        " 'beat',\n",
        " 'district',\n",
        " 'ward',\n",
        " 'community area',\n",
        " 'fbi code',\n",
        " 'hour',\n",
        " 'day_month',\n",
        " 'month_year',\n",
        " 'day_week',\n",
        " 'Year',\n",
        " 'date_number',\n",
        " 'primary Type'\n",
        " ]\n",
        " # Creating our new dataframe\n",
        "new_df=df.select(selected_features)\n",
        "new_df.printSchema()"
      ],
      "execution_count": 43,
      "outputs": [
        {
          "output_type": "stream",
          "text": [
            "root\n",
            " |-- location description: string (nullable = true)\n",
            " |-- arrest: boolean (nullable = true)\n",
            " |-- domestic: boolean (nullable = true)\n",
            " |-- beat: integer (nullable = true)\n",
            " |-- district: integer (nullable = true)\n",
            " |-- ward: integer (nullable = true)\n",
            " |-- community area: integer (nullable = true)\n",
            " |-- fbi code: string (nullable = true)\n",
            " |-- hour: integer (nullable = true)\n",
            " |-- day_month: integer (nullable = true)\n",
            " |-- month_year: integer (nullable = true)\n",
            " |-- day_week: integer (nullable = true)\n",
            " |-- Year: integer (nullable = true)\n",
            " |-- date_number: integer (nullable = true)\n",
            " |-- primary Type: string (nullable = true)\n",
            "\n"
          ],
          "name": "stdout"
        }
      ]
    },
    {
      "cell_type": "code",
      "metadata": {
        "id": "j5XM0Au4ODF-",
        "colab_type": "code",
        "outputId": "7919e678-8108-4e5a-8ea4-67562435c555",
        "colab": {
          "base_uri": "https://localhost:8080/",
          "height": 34
        }
      },
      "source": [
        "#Getting the shape of our new data\n",
        "print(new_df.count(),len(new_df.columns))"
      ],
      "execution_count": 32,
      "outputs": [
        {
          "output_type": "stream",
          "text": [
            "6430255 14\n"
          ],
          "name": "stdout"
        }
      ]
    },
    {
      "cell_type": "code",
      "metadata": {
        "id": "06b_a6FROalD",
        "colab_type": "code",
        "outputId": "f7c0955d-5862-469a-b6f0-4b89c6fe2b00",
        "colab": {
          "base_uri": "https://localhost:8080/",
          "height": 207
        }
      },
      "source": [
        "# Statistical measures of the dataset\n",
        "new_df.describe().show(5)\n"
      ],
      "execution_count": 33,
      "outputs": [
        {
          "output_type": "stream",
          "text": [
            "+-------+--------------------+------------------+------------------+------------------+------------------+------------------+------------------+------------------+-----------------+------------------+------------------+------------------+\n",
            "|summary|location description|              beat|          district|              ward|    community area|          fbi code|              hour|         day_month|       month_year|          day_week|              Year|       date_number|\n",
            "+-------+--------------------+------------------+------------------+------------------+------------------+------------------+------------------+------------------+-----------------+------------------+------------------+------------------+\n",
            "|  count|             6430255|           6430255|           6430255|           6430255|           6430255|           6430255|           6430255|           6430255|          6430255|           6430255|           6430255|           6430255|\n",
            "|   mean|                null|1185.2886717556303|11.286307463700895|22.700418568159428|37.551363515132756|12.177925157507167|13.186997560749923|15.657079695906305| 6.60256412848324| 4.041136937804177|2009.5865115769125| 3320.273561468402|\n",
            "| stddev|                null| 702.2491298169806| 6.939354021022671|13.831924733566671| 21.52466118058852| 7.375570056935862| 6.725028746717992|  8.83083201227646|3.327011226421163|1.9899945511379795| 5.099827948198081|1859.0440666082536|\n",
            "|    min|\"CTA \"\"L\"\" PLATFORM\"|               111|                 1|                 1|                 1|               01A|                 0|                 1|                1|                 1|              2001|                 0|\n",
            "|    max|                YMCA|              2535|                31|                50|                77|                26|                23|                31|               12|                 7|              2020|              7052|\n",
            "+-------+--------------------+------------------+------------------+------------------+------------------+------------------+------------------+------------------+-----------------+------------------+------------------+------------------+\n",
            "\n"
          ],
          "name": "stdout"
        }
      ]
    },
    {
      "cell_type": "markdown",
      "metadata": {
        "id": "jplzw6Y-XJZx",
        "colab_type": "text"
      },
      "source": [
        "### feature Extraction\n",
        "- We will use FeatureHasher for our features.\n",
        "- oneHotEncording for our label"
      ]
    },
    {
      "cell_type": "code",
      "metadata": {
        "id": "zy9tfdUgTKsc",
        "colab_type": "code",
        "outputId": "e9adc394-841d-42a2-b17e-fbfa448c6e55",
        "colab": {
          "base_uri": "https://localhost:8080/",
          "height": 224
        }
      },
      "source": [
        "# Dealing with categorical data\n",
        "# We use featureHasher\n",
        "from pyspark.ml.feature import FeatureHasher,VectorAssembler\n",
        "\n",
        "hasher = FeatureHasher(inputCols=['location description',\n",
        " 'arrest',\n",
        " 'domestic',\n",
        " 'beat',\n",
        " 'district',\n",
        " 'ward',\n",
        " 'community area',\n",
        " 'fbi code',\n",
        " 'hour',\n",
        " 'day_month',\n",
        " 'month_year',\n",
        " 'day_week',\n",
        " 'Year',\n",
        " 'date_number'],\n",
        "                       outputCol='Hfeatures')\n",
        "\n",
        "featurized = hasher.transform(new_df)\n",
        "featurized.show(5,truncate=False)\n",
        "\n"
      ],
      "execution_count": 53,
      "outputs": [
        {
          "output_type": "stream",
          "text": [
            "+-------------------------+------+--------+----+--------+----+--------------+--------+----+---------+----------+--------+----+-----------+------------------+------------------------------------------------------------------------------------------------------------------------------------------------------------------------------+\n",
            "|location description     |arrest|domestic|beat|district|ward|community area|fbi code|hour|day_month|month_year|day_week|Year|date_number|primary Type      |Hfeatures                                                                                                                                                                     |\n",
            "+-------------------------+------+--------+----+--------+----+--------------+--------+----+---------+----------+--------+----+-----------+------------------+------------------------------------------------------------------------------------------------------------------------------------------------------------------------------+\n",
            "|HOTEL/MOTEL              |false |false   |1833|18      |2   |8             |06      |14  |4        |5         |7       |2019|6697       |THEFT             |(262144,[23762,47171,49458,74383,98431,116750,165202,181001,188662,229020,237446,237494,257972,260069],[8.0,18.0,5.0,1.0,14.0,2019.0,1.0,1833.0,1.0,4.0,6697.0,1.0,7.0,2.0])  |\n",
            "|SIDEWALK                 |false |false   |1832|18      |2   |8             |03      |1   |22       |5         |4       |2019|6715       |ROBBERY           |(262144,[23762,47171,49458,98431,114592,116750,181001,188662,224706,229020,237446,237494,257972,260069],[8.0,18.0,5.0,1.0,1.0,2019.0,1832.0,1.0,1.0,22.0,6715.0,1.0,4.0,2.0]) |\n",
            "|HOSPITAL BUILDING/GROUNDS|true  |false   |1834|18      |42  |8             |26      |1   |22       |5         |4       |2019|6715       |CRIMINAL TRESPASS |(262144,[23762,47171,49458,86459,98431,116750,181001,188662,227514,229020,230491,237446,257972,260069],[8.0,18.0,5.0,1.0,1.0,2019.0,1834.0,1.0,1.0,22.0,1.0,6715.0,4.0,42.0]) |\n",
            "|SIDEWALK                 |false |false   |1824|18      |2   |8             |06      |15  |23       |5         |5       |2019|6716       |THEFT             |(262144,[23762,47171,49458,74383,98431,116750,181001,188662,224706,229020,237446,237494,257972,260069],[8.0,18.0,5.0,1.0,15.0,2019.0,1824.0,1.0,1.0,23.0,6716.0,1.0,5.0,2.0]) |\n",
            "|RESIDENCE                |false |false   |1824|18      |2   |8             |11      |18  |24       |5         |6       |2019|6717       |DECEPTIVE PRACTICE|(262144,[23762,47171,49458,98431,104346,116750,129438,181001,188662,229020,237446,237494,257972,260069],[8.0,18.0,5.0,18.0,1.0,2019.0,1.0,1824.0,1.0,24.0,6717.0,1.0,6.0,2.0])|\n",
            "+-------------------------+------+--------+----+--------+----+--------------+--------+----+---------+----------+--------+----+-----------+------------------+------------------------------------------------------------------------------------------------------------------------------------------------------------------------------+\n",
            "only showing top 5 rows\n",
            "\n"
          ],
          "name": "stdout"
        }
      ]
    },
    {
      "cell_type": "code",
      "metadata": {
        "id": "zzReBRmgp4VZ",
        "colab_type": "code",
        "colab": {
          "base_uri": "https://localhost:8080/",
          "height": 224
        },
        "outputId": "46d72134-c75f-4dd8-8ed0-8b302b03e7a4"
      },
      "source": [
        "#Assemble our features\n",
        "assembler = VectorAssembler(\n",
        "    inputCols=['Hfeatures'],\n",
        "    outputCol='features')\n",
        "\n",
        "output = assembler.transform(featurized)\n",
        "output.show(5,truncate=False)"
      ],
      "execution_count": 54,
      "outputs": [
        {
          "output_type": "stream",
          "text": [
            "+-------------------------+------+--------+----+--------+----+--------------+--------+----+---------+----------+--------+----+-----------+------------------+------------------------------------------------------------------------------------------------------------------------------------------------------------------------------+------------------------------------------------------------------------------------------------------------------------------------------------------------------------------+\n",
            "|location description     |arrest|domestic|beat|district|ward|community area|fbi code|hour|day_month|month_year|day_week|Year|date_number|primary Type      |Hfeatures                                                                                                                                                                     |features                                                                                                                                                                      |\n",
            "+-------------------------+------+--------+----+--------+----+--------------+--------+----+---------+----------+--------+----+-----------+------------------+------------------------------------------------------------------------------------------------------------------------------------------------------------------------------+------------------------------------------------------------------------------------------------------------------------------------------------------------------------------+\n",
            "|HOTEL/MOTEL              |false |false   |1833|18      |2   |8             |06      |14  |4        |5         |7       |2019|6697       |THEFT             |(262144,[23762,47171,49458,74383,98431,116750,165202,181001,188662,229020,237446,237494,257972,260069],[8.0,18.0,5.0,1.0,14.0,2019.0,1.0,1833.0,1.0,4.0,6697.0,1.0,7.0,2.0])  |(262144,[23762,47171,49458,74383,98431,116750,165202,181001,188662,229020,237446,237494,257972,260069],[8.0,18.0,5.0,1.0,14.0,2019.0,1.0,1833.0,1.0,4.0,6697.0,1.0,7.0,2.0])  |\n",
            "|SIDEWALK                 |false |false   |1832|18      |2   |8             |03      |1   |22       |5         |4       |2019|6715       |ROBBERY           |(262144,[23762,47171,49458,98431,114592,116750,181001,188662,224706,229020,237446,237494,257972,260069],[8.0,18.0,5.0,1.0,1.0,2019.0,1832.0,1.0,1.0,22.0,6715.0,1.0,4.0,2.0]) |(262144,[23762,47171,49458,98431,114592,116750,181001,188662,224706,229020,237446,237494,257972,260069],[8.0,18.0,5.0,1.0,1.0,2019.0,1832.0,1.0,1.0,22.0,6715.0,1.0,4.0,2.0]) |\n",
            "|HOSPITAL BUILDING/GROUNDS|true  |false   |1834|18      |42  |8             |26      |1   |22       |5         |4       |2019|6715       |CRIMINAL TRESPASS |(262144,[23762,47171,49458,86459,98431,116750,181001,188662,227514,229020,230491,237446,257972,260069],[8.0,18.0,5.0,1.0,1.0,2019.0,1834.0,1.0,1.0,22.0,1.0,6715.0,4.0,42.0]) |(262144,[23762,47171,49458,86459,98431,116750,181001,188662,227514,229020,230491,237446,257972,260069],[8.0,18.0,5.0,1.0,1.0,2019.0,1834.0,1.0,1.0,22.0,1.0,6715.0,4.0,42.0]) |\n",
            "|SIDEWALK                 |false |false   |1824|18      |2   |8             |06      |15  |23       |5         |5       |2019|6716       |THEFT             |(262144,[23762,47171,49458,74383,98431,116750,181001,188662,224706,229020,237446,237494,257972,260069],[8.0,18.0,5.0,1.0,15.0,2019.0,1824.0,1.0,1.0,23.0,6716.0,1.0,5.0,2.0]) |(262144,[23762,47171,49458,74383,98431,116750,181001,188662,224706,229020,237446,237494,257972,260069],[8.0,18.0,5.0,1.0,15.0,2019.0,1824.0,1.0,1.0,23.0,6716.0,1.0,5.0,2.0]) |\n",
            "|RESIDENCE                |false |false   |1824|18      |2   |8             |11      |18  |24       |5         |6       |2019|6717       |DECEPTIVE PRACTICE|(262144,[23762,47171,49458,98431,104346,116750,129438,181001,188662,229020,237446,237494,257972,260069],[8.0,18.0,5.0,18.0,1.0,2019.0,1.0,1824.0,1.0,24.0,6717.0,1.0,6.0,2.0])|(262144,[23762,47171,49458,98431,104346,116750,129438,181001,188662,229020,237446,237494,257972,260069],[8.0,18.0,5.0,18.0,1.0,2019.0,1.0,1824.0,1.0,24.0,6717.0,1.0,6.0,2.0])|\n",
            "+-------------------------+------+--------+----+--------+----+--------------+--------+----+---------+----------+--------+----+-----------+------------------+------------------------------------------------------------------------------------------------------------------------------------------------------------------------------+------------------------------------------------------------------------------------------------------------------------------------------------------------------------------+\n",
            "only showing top 5 rows\n",
            "\n"
          ],
          "name": "stdout"
        }
      ]
    },
    {
      "cell_type": "code",
      "metadata": {
        "id": "SnGFBb1lkzGH",
        "colab_type": "code",
        "colab": {
          "base_uri": "https://localhost:8080/",
          "height": 224
        },
        "outputId": "a0f96a02-9db6-4b21-f90f-6064671e79fa"
      },
      "source": [
        "# Feature_engineering our ground truth\n",
        "\n",
        "from pyspark.ml.feature import StringIndexer, VectorAssembler,OneHotEncoderEstimator\n",
        "\n",
        "indexer = StringIndexer(inputCol='primary Type', outputCol='primaryTypeIndex')\n",
        "indexed = indexer.fit(output).transform(output)\n",
        "indexed.show(5)\n",
        "\n",
        "#oneHotEncoding\n",
        "#encoder = OneHotEncoderEstimator(inputCols=['primaryTypeIndex'],\n",
        "#                                 outputCols=['label'])\n",
        "#model = encoder.fit(indexed)\n",
        "#encoded = model.transform(indexed)\n",
        "#encoded.show(5)\n"
      ],
      "execution_count": 70,
      "outputs": [
        {
          "output_type": "stream",
          "text": [
            "+--------------------+------+--------+----+--------+----+--------------+--------+----+---------+----------+--------+----+-----------+------------------+--------------------+--------------------+----------------+\n",
            "|location description|arrest|domestic|beat|district|ward|community area|fbi code|hour|day_month|month_year|day_week|Year|date_number|      primary Type|           Hfeatures|            features|primaryTypeIndex|\n",
            "+--------------------+------+--------+----+--------+----+--------------+--------+----+---------+----------+--------+----+-----------+------------------+--------------------+--------------------+----------------+\n",
            "|         HOTEL/MOTEL| false|   false|1833|      18|   2|             8|      06|  14|        4|         5|       7|2019|       6697|             THEFT|(262144,[23762,47...|(262144,[23762,47...|             0.0|\n",
            "|            SIDEWALK| false|   false|1832|      18|   2|             8|      03|   1|       22|         5|       4|2019|       6715|           ROBBERY|(262144,[23762,47...|(262144,[23762,47...|             9.0|\n",
            "|HOSPITAL BUILDING...|  true|   false|1834|      18|  42|             8|      26|   1|       22|         5|       4|2019|       6715| CRIMINAL TRESPASS|(262144,[23762,47...|(262144,[23762,47...|            10.0|\n",
            "|            SIDEWALK| false|   false|1824|      18|   2|             8|      06|  15|       23|         5|       5|2019|       6716|             THEFT|(262144,[23762,47...|(262144,[23762,47...|             0.0|\n",
            "|           RESIDENCE| false|   false|1824|      18|   2|             8|      11|  18|       24|         5|       6|2019|       6717|DECEPTIVE PRACTICE|(262144,[23762,47...|(262144,[23762,47...|             8.0|\n",
            "+--------------------+------+--------+----+--------+----+--------------+--------+----+---------+----------+--------+----+-----------+------------------+--------------------+--------------------+----------------+\n",
            "only showing top 5 rows\n",
            "\n"
          ],
          "name": "stdout"
        }
      ]
    },
    {
      "cell_type": "code",
      "metadata": {
        "id": "d2SOhDbDLzLI",
        "colab_type": "code",
        "outputId": "26feccd8-f3ad-4992-8ac2-86771070c2c0",
        "colab": {
          "base_uri": "https://localhost:8080/",
          "height": 204
        }
      },
      "source": [
        "#Creating  model data set\n",
        "model_df=encoded.select(['features','primaryTypeIndex'])\n",
        "model_df.show(5)\n"
      ],
      "execution_count": 71,
      "outputs": [
        {
          "output_type": "stream",
          "text": [
            "+--------------------+----------------+\n",
            "|            features|primaryTypeIndex|\n",
            "+--------------------+----------------+\n",
            "|(262144,[23762,47...|             0.0|\n",
            "|(262144,[23762,47...|             9.0|\n",
            "|(262144,[23762,47...|            10.0|\n",
            "|(262144,[23762,47...|             0.0|\n",
            "|(262144,[23762,47...|             8.0|\n",
            "+--------------------+----------------+\n",
            "only showing top 5 rows\n",
            "\n"
          ],
          "name": "stdout"
        }
      ]
    },
    {
      "cell_type": "code",
      "metadata": {
        "id": "-lLhgFwucwOG",
        "colab_type": "code",
        "colab": {
          "base_uri": "https://localhost:8080/",
          "height": 564
        },
        "outputId": "d4e62756-decc-4b3a-ec3e-a8d6519d142b"
      },
      "source": [
        "#Creating trainning and testing dataset\n",
        "#Split the data(75/25)\n",
        "train, test = model_df.randomSplit([0.6, 0.4])"
      ],
      "execution_count": 74,
      "outputs": [
        {
          "output_type": "stream",
          "text": [
            "ERROR:root:Exception while sending command.\n",
            "Traceback (most recent call last):\n",
            "  File \"/content/spark-2.4.5-bin-hadoop2.7/python/lib/py4j-0.10.7-src.zip/py4j/java_gateway.py\", line 1159, in send_command\n",
            "    raise Py4JNetworkError(\"Answer from Java side is empty\")\n",
            "py4j.protocol.Py4JNetworkError: Answer from Java side is empty\n",
            "\n",
            "During handling of the above exception, another exception occurred:\n",
            "\n",
            "Traceback (most recent call last):\n",
            "  File \"/content/spark-2.4.5-bin-hadoop2.7/python/lib/py4j-0.10.7-src.zip/py4j/java_gateway.py\", line 985, in send_command\n",
            "    response = connection.send_command(command)\n",
            "  File \"/content/spark-2.4.5-bin-hadoop2.7/python/lib/py4j-0.10.7-src.zip/py4j/java_gateway.py\", line 1164, in send_command\n",
            "    \"Error while receiving\", e, proto.ERROR_ON_RECEIVE)\n",
            "py4j.protocol.Py4JNetworkError: Error while receiving\n"
          ],
          "name": "stderr"
        },
        {
          "output_type": "error",
          "ename": "Py4JError",
          "evalue": "ignored",
          "traceback": [
            "\u001b[0;31m---------------------------------------------------------------------------\u001b[0m",
            "\u001b[0;31mPy4JError\u001b[0m                                 Traceback (most recent call last)",
            "\u001b[0;32m<ipython-input-74-413e9db50732>\u001b[0m in \u001b[0;36m<module>\u001b[0;34m()\u001b[0m\n\u001b[0;32m----> 1\u001b[0;31m \u001b[0mtrain\u001b[0m\u001b[0;34m,\u001b[0m \u001b[0mtest\u001b[0m \u001b[0;34m=\u001b[0m \u001b[0mmodel_df\u001b[0m\u001b[0;34m.\u001b[0m\u001b[0mrandomSplit\u001b[0m\u001b[0;34m(\u001b[0m\u001b[0;34m[\u001b[0m\u001b[0;36m0.6\u001b[0m\u001b[0;34m,\u001b[0m \u001b[0;36m0.4\u001b[0m\u001b[0;34m]\u001b[0m\u001b[0;34m)\u001b[0m\u001b[0;34m\u001b[0m\u001b[0;34m\u001b[0m\u001b[0m\n\u001b[0m",
            "\u001b[0;32m/content/spark-2.4.5-bin-hadoop2.7/python/pyspark/sql/dataframe.py\u001b[0m in \u001b[0;36mrandomSplit\u001b[0;34m(self, weights, seed)\u001b[0m\n\u001b[1;32m    915\u001b[0m                 \u001b[0;32mraise\u001b[0m \u001b[0mValueError\u001b[0m\u001b[0;34m(\u001b[0m\u001b[0;34m\"Weights must be positive. Found weight value: %s\"\u001b[0m \u001b[0;34m%\u001b[0m \u001b[0mw\u001b[0m\u001b[0;34m)\u001b[0m\u001b[0;34m\u001b[0m\u001b[0;34m\u001b[0m\u001b[0m\n\u001b[1;32m    916\u001b[0m         \u001b[0mseed\u001b[0m \u001b[0;34m=\u001b[0m \u001b[0mseed\u001b[0m \u001b[0;32mif\u001b[0m \u001b[0mseed\u001b[0m \u001b[0;32mis\u001b[0m \u001b[0;32mnot\u001b[0m \u001b[0;32mNone\u001b[0m \u001b[0;32melse\u001b[0m \u001b[0mrandom\u001b[0m\u001b[0;34m.\u001b[0m\u001b[0mrandint\u001b[0m\u001b[0;34m(\u001b[0m\u001b[0;36m0\u001b[0m\u001b[0;34m,\u001b[0m \u001b[0msys\u001b[0m\u001b[0;34m.\u001b[0m\u001b[0mmaxsize\u001b[0m\u001b[0;34m)\u001b[0m\u001b[0;34m\u001b[0m\u001b[0;34m\u001b[0m\u001b[0m\n\u001b[0;32m--> 917\u001b[0;31m         \u001b[0mrdd_array\u001b[0m \u001b[0;34m=\u001b[0m \u001b[0mself\u001b[0m\u001b[0;34m.\u001b[0m\u001b[0m_jdf\u001b[0m\u001b[0;34m.\u001b[0m\u001b[0mrandomSplit\u001b[0m\u001b[0;34m(\u001b[0m\u001b[0m_to_list\u001b[0m\u001b[0;34m(\u001b[0m\u001b[0mself\u001b[0m\u001b[0;34m.\u001b[0m\u001b[0msql_ctx\u001b[0m\u001b[0;34m.\u001b[0m\u001b[0m_sc\u001b[0m\u001b[0;34m,\u001b[0m \u001b[0mweights\u001b[0m\u001b[0;34m)\u001b[0m\u001b[0;34m,\u001b[0m \u001b[0mlong\u001b[0m\u001b[0;34m(\u001b[0m\u001b[0mseed\u001b[0m\u001b[0;34m)\u001b[0m\u001b[0;34m)\u001b[0m\u001b[0;34m\u001b[0m\u001b[0;34m\u001b[0m\u001b[0m\n\u001b[0m\u001b[1;32m    918\u001b[0m         \u001b[0;32mreturn\u001b[0m \u001b[0;34m[\u001b[0m\u001b[0mDataFrame\u001b[0m\u001b[0;34m(\u001b[0m\u001b[0mrdd\u001b[0m\u001b[0;34m,\u001b[0m \u001b[0mself\u001b[0m\u001b[0;34m.\u001b[0m\u001b[0msql_ctx\u001b[0m\u001b[0;34m)\u001b[0m \u001b[0;32mfor\u001b[0m \u001b[0mrdd\u001b[0m \u001b[0;32min\u001b[0m \u001b[0mrdd_array\u001b[0m\u001b[0;34m]\u001b[0m\u001b[0;34m\u001b[0m\u001b[0;34m\u001b[0m\u001b[0m\n\u001b[1;32m    919\u001b[0m \u001b[0;34m\u001b[0m\u001b[0m\n",
            "\u001b[0;32m/content/spark-2.4.5-bin-hadoop2.7/python/pyspark/sql/column.py\u001b[0m in \u001b[0;36m_to_list\u001b[0;34m(sc, cols, converter)\u001b[0m\n\u001b[1;32m     76\u001b[0m     \u001b[0;32mif\u001b[0m \u001b[0mconverter\u001b[0m\u001b[0;34m:\u001b[0m\u001b[0;34m\u001b[0m\u001b[0;34m\u001b[0m\u001b[0m\n\u001b[1;32m     77\u001b[0m         \u001b[0mcols\u001b[0m \u001b[0;34m=\u001b[0m \u001b[0;34m[\u001b[0m\u001b[0mconverter\u001b[0m\u001b[0;34m(\u001b[0m\u001b[0mc\u001b[0m\u001b[0;34m)\u001b[0m \u001b[0;32mfor\u001b[0m \u001b[0mc\u001b[0m \u001b[0;32min\u001b[0m \u001b[0mcols\u001b[0m\u001b[0;34m]\u001b[0m\u001b[0;34m\u001b[0m\u001b[0;34m\u001b[0m\u001b[0m\n\u001b[0;32m---> 78\u001b[0;31m     \u001b[0;32mreturn\u001b[0m \u001b[0msc\u001b[0m\u001b[0;34m.\u001b[0m\u001b[0m_jvm\u001b[0m\u001b[0;34m.\u001b[0m\u001b[0mPythonUtils\u001b[0m\u001b[0;34m.\u001b[0m\u001b[0mtoList\u001b[0m\u001b[0;34m(\u001b[0m\u001b[0mcols\u001b[0m\u001b[0;34m)\u001b[0m\u001b[0;34m\u001b[0m\u001b[0;34m\u001b[0m\u001b[0m\n\u001b[0m\u001b[1;32m     79\u001b[0m \u001b[0;34m\u001b[0m\u001b[0m\n\u001b[1;32m     80\u001b[0m \u001b[0;34m\u001b[0m\u001b[0m\n",
            "\u001b[0;32m/content/spark-2.4.5-bin-hadoop2.7/python/lib/py4j-0.10.7-src.zip/py4j/java_gateway.py\u001b[0m in \u001b[0;36m__getattr__\u001b[0;34m(self, name)\u001b[0m\n\u001b[1;32m   1657\u001b[0m             message = compute_exception_message(\n\u001b[1;32m   1658\u001b[0m                 \"{0} does not exist in the JVM\".format(name), error_message)\n\u001b[0;32m-> 1659\u001b[0;31m             \u001b[0;32mraise\u001b[0m \u001b[0mPy4JError\u001b[0m\u001b[0;34m(\u001b[0m\u001b[0mmessage\u001b[0m\u001b[0;34m)\u001b[0m\u001b[0;34m\u001b[0m\u001b[0;34m\u001b[0m\u001b[0m\n\u001b[0m\u001b[1;32m   1660\u001b[0m \u001b[0;34m\u001b[0m\u001b[0m\n\u001b[1;32m   1661\u001b[0m \u001b[0;34m\u001b[0m\u001b[0m\n",
            "\u001b[0;31mPy4JError\u001b[0m: PythonUtils does not exist in the JVM"
          ]
        }
      ]
    },
    {
      "cell_type": "code",
      "metadata": {
        "id": "A0roS1dkNQqJ",
        "colab_type": "code",
        "outputId": "9caef05b-ba52-4e9e-9635-687d8231f359",
        "colab": {
          "base_uri": "https://localhost:8080/",
          "height": 34
        }
      },
      "source": [
        "#number of training data\n",
        "print(train.count())"
      ],
      "execution_count": 61,
      "outputs": [
        {
          "output_type": "stream",
          "text": [
            "4821790\n"
          ],
          "name": "stdout"
        }
      ]
    },
    {
      "cell_type": "code",
      "metadata": {
        "id": "DORPJFmmNpSO",
        "colab_type": "code",
        "outputId": "56e2ae6b-0de3-49fa-af0c-00be26e9656d",
        "colab": {
          "base_uri": "https://localhost:8080/",
          "height": 459
        }
      },
      "source": [
        "# Checking features against label\n",
        "train.groupBy('primaryTypeIndex').count().show()"
      ],
      "execution_count": 62,
      "outputs": [
        {
          "output_type": "stream",
          "text": [
            "+---------------+------+\n",
            "|          label| count|\n",
            "+---------------+------+\n",
            "|(34,[22],[1.0])|  4288|\n",
            "| (34,[3],[1.0])|490505|\n",
            "|(34,[29],[1.0])|   119|\n",
            "|(34,[18],[1.0])|  9993|\n",
            "| (34,[7],[1.0])|218557|\n",
            "| (34,[2],[1.0])|550612|\n",
            "|(34,[23],[1.0])|  2859|\n",
            "|(34,[11],[1.0])| 55187|\n",
            "| (34,[1],[1.0])|882838|\n",
            "|(34,[32],[1.0])|    29|\n",
            "| (34,[9],[1.0])|182255|\n",
            "|(34,[24],[1.0])|  2499|\n",
            "|(34,[21],[1.0])|  7340|\n",
            "|(34,[15],[1.0])| 18893|\n",
            "|(34,[10],[1.0])|138175|\n",
            "|(34,[30],[1.0])|    83|\n",
            "|(34,[19],[1.0])|  9219|\n",
            "|(34,[12],[1.0])| 45523|\n",
            "|(34,[20],[1.0])|  7743|\n",
            "| (34,[4],[1.0])|304337|\n",
            "+---------------+------+\n",
            "only showing top 20 rows\n",
            "\n"
          ],
          "name": "stdout"
        }
      ]
    },
    {
      "cell_type": "code",
      "metadata": {
        "id": "Qlrkau0pOlt7",
        "colab_type": "code",
        "outputId": "4e035e9c-a2be-4ead-dd29-14d405405e7b",
        "colab": {
          "base_uri": "https://localhost:8080/",
          "height": 34
        }
      },
      "source": [
        "#number of test data\n",
        "print(test.count())"
      ],
      "execution_count": 63,
      "outputs": [
        {
          "output_type": "stream",
          "text": [
            "1608465\n"
          ],
          "name": "stdout"
        }
      ]
    },
    {
      "cell_type": "code",
      "metadata": {
        "id": "iAlONr4_O1tX",
        "colab_type": "code",
        "outputId": "1a63c9d4-df8a-4c3c-f0a4-9ae5ef20739b",
        "colab": {
          "base_uri": "https://localhost:8080/",
          "height": 459
        }
      },
      "source": [
        "# Checking test against label\n",
        "test.groupBy('label').count().show()"
      ],
      "execution_count": 64,
      "outputs": [
        {
          "output_type": "stream",
          "text": [
            "+---------------+------+\n",
            "|          label| count|\n",
            "+---------------+------+\n",
            "|(34,[22],[1.0])|  1403|\n",
            "| (34,[3],[1.0])|163954|\n",
            "|(34,[29],[1.0])|    43|\n",
            "|(34,[18],[1.0])|  3369|\n",
            "| (34,[7],[1.0])| 72947|\n",
            "| (34,[2],[1.0])|183181|\n",
            "|(34,[23],[1.0])|   902|\n",
            "|(34,[11],[1.0])| 18396|\n",
            "| (34,[1],[1.0])|295089|\n",
            "|(34,[32],[1.0])|     9|\n",
            "| (34,[9],[1.0])| 60602|\n",
            "|(34,[24],[1.0])|   873|\n",
            "|(34,[21],[1.0])|  2471|\n",
            "|(34,[15],[1.0])|  6434|\n",
            "|(34,[10],[1.0])| 46315|\n",
            "|(34,[30],[1.0])|    42|\n",
            "|(34,[19],[1.0])|  3032|\n",
            "|(34,[12],[1.0])| 15169|\n",
            "|(34,[20],[1.0])|  2567|\n",
            "| (34,[4],[1.0])|101320|\n",
            "+---------------+------+\n",
            "only showing top 20 rows\n",
            "\n"
          ],
          "name": "stdout"
        }
      ]
    },
    {
      "cell_type": "markdown",
      "metadata": {
        "id": "tqgPGoNSQzQ1",
        "colab_type": "text"
      },
      "source": [
        "### Linear Regression"
      ]
    },
    {
      "cell_type": "code",
      "metadata": {
        "id": "OXzHD6ORQNY2",
        "colab_type": "code",
        "outputId": "6c1427e3-c41c-4b8d-a962-6abbffceb3ee",
        "colab": {
          "base_uri": "https://localhost:8080/",
          "height": 1000
        }
      },
      "source": [
        "from pyspark.ml.classification import LogisticRegression\n",
        "\n",
        "lr = LogisticRegression(labelCol='primaryTypeIndex',featuresCol='features',maxIter=10, regParam=0.3, elasticNetParam=0.8)\n",
        "\n",
        "# Fit the model\n",
        "lrModel = lr.fit(train)\n",
        "\n",
        "# Print the coefficients and intercept for multinomial logistic regression\n",
        "print(\"Coefficients: \\n\" + str(lrModel.coefficientMatrix))\n",
        "print(\"Intercept: \" + str(lrModel.interceptVector))\n",
        "\n",
        "trainingSummary = lrModel.summary\n",
        "\n",
        "# Obtain the objective per iteration\n",
        "objectiveHistory = trainingSummary.objectiveHistory\n",
        "print(\"objectiveHistory:\")\n",
        "for objective in objectiveHistory:\n",
        "    print(objective)\n",
        "\n",
        "# for multiclass, we can inspect metrics on a per-label basis\n",
        "print(\"False positive rate by label:\")\n",
        "for i, rate in enumerate(trainingSummary.falsePositiveRateByLabel):\n",
        "    print(\"label %d: %s\" % (i, rate))\n",
        "\n",
        "print(\"True positive rate by label:\")\n",
        "for i, rate in enumerate(trainingSummary.truePositiveRateByLabel):\n",
        "    print(\"label %d: %s\" % (i, rate))\n",
        "\n",
        "print(\"Precision by label:\")\n",
        "for i, prec in enumerate(trainingSummary.precisionByLabel):\n",
        "    print(\"label %d: %s\" % (i, prec))\n",
        "\n",
        "print(\"Recall by label:\")\n",
        "for i, rec in enumerate(trainingSummary.recallByLabel):\n",
        "    print(\"label %d: %s\" % (i, rec))\n",
        "\n",
        "print(\"F-measure by label:\")\n",
        "for i, f in enumerate(trainingSummary.fMeasureByLabel()):\n",
        "    print(\"label %d: %s\" % (i, f))\n",
        "\n",
        "accuracy = trainingSummary.accuracy\n",
        "falsePositiveRate = trainingSummary.weightedFalsePositiveRate\n",
        "truePositiveRate = trainingSummary.weightedTruePositiveRate\n",
        "fMeasure = trainingSummary.weightedFMeasure()\n",
        "precision = trainingSummary.weightedPrecision\n",
        "recall = trainingSummary.weightedRecall\n",
        "print(\"Accuracy: %s\\nFPR: %s\\nTPR: %s\\nF-measure: %s\\nPrecision: %s\\nRecall: %s\"\n",
        "      % (accuracy, falsePositiveRate, truePositiveRate, fMeasure, precision, recall))"
      ],
      "execution_count": 73,
      "outputs": [
        {
          "output_type": "error",
          "ename": "Py4JJavaError",
          "evalue": "ignored",
          "traceback": [
            "\u001b[0;31m---------------------------------------------------------------------------\u001b[0m",
            "\u001b[0;31mPy4JJavaError\u001b[0m                             Traceback (most recent call last)",
            "\u001b[0;32m<ipython-input-73-925fb6b25317>\u001b[0m in \u001b[0;36m<module>\u001b[0;34m()\u001b[0m\n\u001b[1;32m      4\u001b[0m \u001b[0;34m\u001b[0m\u001b[0m\n\u001b[1;32m      5\u001b[0m \u001b[0;31m# Fit the model\u001b[0m\u001b[0;34m\u001b[0m\u001b[0;34m\u001b[0m\u001b[0;34m\u001b[0m\u001b[0m\n\u001b[0;32m----> 6\u001b[0;31m \u001b[0mlrModel\u001b[0m \u001b[0;34m=\u001b[0m \u001b[0mlr\u001b[0m\u001b[0;34m.\u001b[0m\u001b[0mfit\u001b[0m\u001b[0;34m(\u001b[0m\u001b[0mtrain\u001b[0m\u001b[0;34m)\u001b[0m\u001b[0;34m\u001b[0m\u001b[0;34m\u001b[0m\u001b[0m\n\u001b[0m\u001b[1;32m      7\u001b[0m \u001b[0;34m\u001b[0m\u001b[0m\n\u001b[1;32m      8\u001b[0m \u001b[0;31m# Print the coefficients and intercept for multinomial logistic regression\u001b[0m\u001b[0;34m\u001b[0m\u001b[0;34m\u001b[0m\u001b[0;34m\u001b[0m\u001b[0m\n",
            "\u001b[0;32m/content/spark-2.4.5-bin-hadoop2.7/python/pyspark/ml/base.py\u001b[0m in \u001b[0;36mfit\u001b[0;34m(self, dataset, params)\u001b[0m\n\u001b[1;32m    130\u001b[0m                 \u001b[0;32mreturn\u001b[0m \u001b[0mself\u001b[0m\u001b[0;34m.\u001b[0m\u001b[0mcopy\u001b[0m\u001b[0;34m(\u001b[0m\u001b[0mparams\u001b[0m\u001b[0;34m)\u001b[0m\u001b[0;34m.\u001b[0m\u001b[0m_fit\u001b[0m\u001b[0;34m(\u001b[0m\u001b[0mdataset\u001b[0m\u001b[0;34m)\u001b[0m\u001b[0;34m\u001b[0m\u001b[0;34m\u001b[0m\u001b[0m\n\u001b[1;32m    131\u001b[0m             \u001b[0;32melse\u001b[0m\u001b[0;34m:\u001b[0m\u001b[0;34m\u001b[0m\u001b[0;34m\u001b[0m\u001b[0m\n\u001b[0;32m--> 132\u001b[0;31m                 \u001b[0;32mreturn\u001b[0m \u001b[0mself\u001b[0m\u001b[0;34m.\u001b[0m\u001b[0m_fit\u001b[0m\u001b[0;34m(\u001b[0m\u001b[0mdataset\u001b[0m\u001b[0;34m)\u001b[0m\u001b[0;34m\u001b[0m\u001b[0;34m\u001b[0m\u001b[0m\n\u001b[0m\u001b[1;32m    133\u001b[0m         \u001b[0;32melse\u001b[0m\u001b[0;34m:\u001b[0m\u001b[0;34m\u001b[0m\u001b[0;34m\u001b[0m\u001b[0m\n\u001b[1;32m    134\u001b[0m             raise ValueError(\"Params must be either a param map or a list/tuple of param maps, \"\n",
            "\u001b[0;32m/content/spark-2.4.5-bin-hadoop2.7/python/pyspark/ml/wrapper.py\u001b[0m in \u001b[0;36m_fit\u001b[0;34m(self, dataset)\u001b[0m\n\u001b[1;32m    293\u001b[0m \u001b[0;34m\u001b[0m\u001b[0m\n\u001b[1;32m    294\u001b[0m     \u001b[0;32mdef\u001b[0m \u001b[0m_fit\u001b[0m\u001b[0;34m(\u001b[0m\u001b[0mself\u001b[0m\u001b[0;34m,\u001b[0m \u001b[0mdataset\u001b[0m\u001b[0;34m)\u001b[0m\u001b[0;34m:\u001b[0m\u001b[0;34m\u001b[0m\u001b[0;34m\u001b[0m\u001b[0m\n\u001b[0;32m--> 295\u001b[0;31m         \u001b[0mjava_model\u001b[0m \u001b[0;34m=\u001b[0m \u001b[0mself\u001b[0m\u001b[0;34m.\u001b[0m\u001b[0m_fit_java\u001b[0m\u001b[0;34m(\u001b[0m\u001b[0mdataset\u001b[0m\u001b[0;34m)\u001b[0m\u001b[0;34m\u001b[0m\u001b[0;34m\u001b[0m\u001b[0m\n\u001b[0m\u001b[1;32m    296\u001b[0m         \u001b[0mmodel\u001b[0m \u001b[0;34m=\u001b[0m \u001b[0mself\u001b[0m\u001b[0;34m.\u001b[0m\u001b[0m_create_model\u001b[0m\u001b[0;34m(\u001b[0m\u001b[0mjava_model\u001b[0m\u001b[0;34m)\u001b[0m\u001b[0;34m\u001b[0m\u001b[0;34m\u001b[0m\u001b[0m\n\u001b[1;32m    297\u001b[0m         \u001b[0;32mreturn\u001b[0m \u001b[0mself\u001b[0m\u001b[0;34m.\u001b[0m\u001b[0m_copyValues\u001b[0m\u001b[0;34m(\u001b[0m\u001b[0mmodel\u001b[0m\u001b[0;34m)\u001b[0m\u001b[0;34m\u001b[0m\u001b[0;34m\u001b[0m\u001b[0m\n",
            "\u001b[0;32m/content/spark-2.4.5-bin-hadoop2.7/python/pyspark/ml/wrapper.py\u001b[0m in \u001b[0;36m_fit_java\u001b[0;34m(self, dataset)\u001b[0m\n\u001b[1;32m    290\u001b[0m         \"\"\"\n\u001b[1;32m    291\u001b[0m         \u001b[0mself\u001b[0m\u001b[0;34m.\u001b[0m\u001b[0m_transfer_params_to_java\u001b[0m\u001b[0;34m(\u001b[0m\u001b[0;34m)\u001b[0m\u001b[0;34m\u001b[0m\u001b[0;34m\u001b[0m\u001b[0m\n\u001b[0;32m--> 292\u001b[0;31m         \u001b[0;32mreturn\u001b[0m \u001b[0mself\u001b[0m\u001b[0;34m.\u001b[0m\u001b[0m_java_obj\u001b[0m\u001b[0;34m.\u001b[0m\u001b[0mfit\u001b[0m\u001b[0;34m(\u001b[0m\u001b[0mdataset\u001b[0m\u001b[0;34m.\u001b[0m\u001b[0m_jdf\u001b[0m\u001b[0;34m)\u001b[0m\u001b[0;34m\u001b[0m\u001b[0;34m\u001b[0m\u001b[0m\n\u001b[0m\u001b[1;32m    293\u001b[0m \u001b[0;34m\u001b[0m\u001b[0m\n\u001b[1;32m    294\u001b[0m     \u001b[0;32mdef\u001b[0m \u001b[0m_fit\u001b[0m\u001b[0;34m(\u001b[0m\u001b[0mself\u001b[0m\u001b[0;34m,\u001b[0m \u001b[0mdataset\u001b[0m\u001b[0;34m)\u001b[0m\u001b[0;34m:\u001b[0m\u001b[0;34m\u001b[0m\u001b[0;34m\u001b[0m\u001b[0m\n",
            "\u001b[0;32m/content/spark-2.4.5-bin-hadoop2.7/python/lib/py4j-0.10.7-src.zip/py4j/java_gateway.py\u001b[0m in \u001b[0;36m__call__\u001b[0;34m(self, *args)\u001b[0m\n\u001b[1;32m   1255\u001b[0m         \u001b[0manswer\u001b[0m \u001b[0;34m=\u001b[0m \u001b[0mself\u001b[0m\u001b[0;34m.\u001b[0m\u001b[0mgateway_client\u001b[0m\u001b[0;34m.\u001b[0m\u001b[0msend_command\u001b[0m\u001b[0;34m(\u001b[0m\u001b[0mcommand\u001b[0m\u001b[0;34m)\u001b[0m\u001b[0;34m\u001b[0m\u001b[0;34m\u001b[0m\u001b[0m\n\u001b[1;32m   1256\u001b[0m         return_value = get_return_value(\n\u001b[0;32m-> 1257\u001b[0;31m             answer, self.gateway_client, self.target_id, self.name)\n\u001b[0m\u001b[1;32m   1258\u001b[0m \u001b[0;34m\u001b[0m\u001b[0m\n\u001b[1;32m   1259\u001b[0m         \u001b[0;32mfor\u001b[0m \u001b[0mtemp_arg\u001b[0m \u001b[0;32min\u001b[0m \u001b[0mtemp_args\u001b[0m\u001b[0;34m:\u001b[0m\u001b[0;34m\u001b[0m\u001b[0;34m\u001b[0m\u001b[0m\n",
            "\u001b[0;32m/content/spark-2.4.5-bin-hadoop2.7/python/pyspark/sql/utils.py\u001b[0m in \u001b[0;36mdeco\u001b[0;34m(*a, **kw)\u001b[0m\n\u001b[1;32m     61\u001b[0m     \u001b[0;32mdef\u001b[0m \u001b[0mdeco\u001b[0m\u001b[0;34m(\u001b[0m\u001b[0;34m*\u001b[0m\u001b[0ma\u001b[0m\u001b[0;34m,\u001b[0m \u001b[0;34m**\u001b[0m\u001b[0mkw\u001b[0m\u001b[0;34m)\u001b[0m\u001b[0;34m:\u001b[0m\u001b[0;34m\u001b[0m\u001b[0;34m\u001b[0m\u001b[0m\n\u001b[1;32m     62\u001b[0m         \u001b[0;32mtry\u001b[0m\u001b[0;34m:\u001b[0m\u001b[0;34m\u001b[0m\u001b[0;34m\u001b[0m\u001b[0m\n\u001b[0;32m---> 63\u001b[0;31m             \u001b[0;32mreturn\u001b[0m \u001b[0mf\u001b[0m\u001b[0;34m(\u001b[0m\u001b[0;34m*\u001b[0m\u001b[0ma\u001b[0m\u001b[0;34m,\u001b[0m \u001b[0;34m**\u001b[0m\u001b[0mkw\u001b[0m\u001b[0;34m)\u001b[0m\u001b[0;34m\u001b[0m\u001b[0;34m\u001b[0m\u001b[0m\n\u001b[0m\u001b[1;32m     64\u001b[0m         \u001b[0;32mexcept\u001b[0m \u001b[0mpy4j\u001b[0m\u001b[0;34m.\u001b[0m\u001b[0mprotocol\u001b[0m\u001b[0;34m.\u001b[0m\u001b[0mPy4JJavaError\u001b[0m \u001b[0;32mas\u001b[0m \u001b[0me\u001b[0m\u001b[0;34m:\u001b[0m\u001b[0;34m\u001b[0m\u001b[0;34m\u001b[0m\u001b[0m\n\u001b[1;32m     65\u001b[0m             \u001b[0ms\u001b[0m \u001b[0;34m=\u001b[0m \u001b[0me\u001b[0m\u001b[0;34m.\u001b[0m\u001b[0mjava_exception\u001b[0m\u001b[0;34m.\u001b[0m\u001b[0mtoString\u001b[0m\u001b[0;34m(\u001b[0m\u001b[0;34m)\u001b[0m\u001b[0;34m\u001b[0m\u001b[0;34m\u001b[0m\u001b[0m\n",
            "\u001b[0;32m/content/spark-2.4.5-bin-hadoop2.7/python/lib/py4j-0.10.7-src.zip/py4j/protocol.py\u001b[0m in \u001b[0;36mget_return_value\u001b[0;34m(answer, gateway_client, target_id, name)\u001b[0m\n\u001b[1;32m    326\u001b[0m                 raise Py4JJavaError(\n\u001b[1;32m    327\u001b[0m                     \u001b[0;34m\"An error occurred while calling {0}{1}{2}.\\n\"\u001b[0m\u001b[0;34m.\u001b[0m\u001b[0;34m\u001b[0m\u001b[0;34m\u001b[0m\u001b[0m\n\u001b[0;32m--> 328\u001b[0;31m                     format(target_id, \".\", name), value)\n\u001b[0m\u001b[1;32m    329\u001b[0m             \u001b[0;32melse\u001b[0m\u001b[0;34m:\u001b[0m\u001b[0;34m\u001b[0m\u001b[0;34m\u001b[0m\u001b[0m\n\u001b[1;32m    330\u001b[0m                 raise Py4JError(\n",
            "\u001b[0;31mPy4JJavaError\u001b[0m: An error occurred while calling o1480.fit.\n: org.apache.spark.SparkException: Job aborted due to stage failure: Task 3 in stage 214.0 failed 1 times, most recent failure: Lost task 3.0 in stage 214.0 (TID 5942, localhost, executor driver): java.lang.OutOfMemoryError: GC overhead limit exceeded\n\nDriver stacktrace:\n\tat org.apache.spark.scheduler.DAGScheduler.org$apache$spark$scheduler$DAGScheduler$$failJobAndIndependentStages(DAGScheduler.scala:1891)\n\tat org.apache.spark.scheduler.DAGScheduler$$anonfun$abortStage$1.apply(DAGScheduler.scala:1879)\n\tat org.apache.spark.scheduler.DAGScheduler$$anonfun$abortStage$1.apply(DAGScheduler.scala:1878)\n\tat scala.collection.mutable.ResizableArray$class.foreach(ResizableArray.scala:59)\n\tat scala.collection.mutable.ArrayBuffer.foreach(ArrayBuffer.scala:48)\n\tat org.apache.spark.scheduler.DAGScheduler.abortStage(DAGScheduler.scala:1878)\n\tat org.apache.spark.scheduler.DAGScheduler$$anonfun$handleTaskSetFailed$1.apply(DAGScheduler.scala:927)\n\tat org.apache.spark.scheduler.DAGScheduler$$anonfun$handleTaskSetFailed$1.apply(DAGScheduler.scala:927)\n\tat scala.Option.foreach(Option.scala:257)\n\tat org.apache.spark.scheduler.DAGScheduler.handleTaskSetFailed(DAGScheduler.scala:927)\n\tat org.apache.spark.scheduler.DAGSchedulerEventProcessLoop.doOnReceive(DAGScheduler.scala:2112)\n\tat org.apache.spark.scheduler.DAGSchedulerEventProcessLoop.onReceive(DAGScheduler.scala:2061)\n\tat org.apache.spark.scheduler.DAGSchedulerEventProcessLoop.onReceive(DAGScheduler.scala:2050)\n\tat org.apache.spark.util.EventLoop$$anon$1.run(EventLoop.scala:49)\n\tat org.apache.spark.scheduler.DAGScheduler.runJob(DAGScheduler.scala:738)\n\tat org.apache.spark.SparkContext.runJob(SparkContext.scala:2061)\n\tat org.apache.spark.SparkContext.runJob(SparkContext.scala:2158)\n\tat org.apache.spark.rdd.RDD$$anonfun$fold$1.apply(RDD.scala:1143)\n\tat org.apache.spark.rdd.RDDOperationScope$.withScope(RDDOperationScope.scala:151)\n\tat org.apache.spark.rdd.RDDOperationScope$.withScope(RDDOperationScope.scala:112)\n\tat org.apache.spark.rdd.RDD.withScope(RDD.scala:385)\n\tat org.apache.spark.rdd.RDD.fold(RDD.scala:1137)\n\tat org.apache.spark.rdd.RDD$$anonfun$treeAggregate$1.apply(RDD.scala:1206)\n\tat org.apache.spark.rdd.RDDOperationScope$.withScope(RDDOperationScope.scala:151)\n\tat org.apache.spark.rdd.RDDOperationScope$.withScope(RDDOperationScope.scala:112)\n\tat org.apache.spark.rdd.RDD.withScope(RDD.scala:385)\n\tat org.apache.spark.rdd.RDD.treeAggregate(RDD.scala:1182)\n\tat org.apache.spark.ml.optim.loss.RDDLossFunction.calculate(RDDLossFunction.scala:61)\n\tat org.apache.spark.ml.optim.loss.RDDLossFunction.calculate(RDDLossFunction.scala:47)\n\tat breeze.optimize.CachedDiffFunction.calculate(CachedDiffFunction.scala:23)\n\tat breeze.optimize.FirstOrderMinimizer.calculateObjective(FirstOrderMinimizer.scala:55)\n\tat breeze.optimize.FirstOrderMinimizer.initialState(FirstOrderMinimizer.scala:48)\n\tat breeze.optimize.FirstOrderMinimizer.iterations(FirstOrderMinimizer.scala:89)\n\tat org.apache.spark.ml.classification.LogisticRegression$$anonfun$train$1.apply(LogisticRegression.scala:803)\n\tat org.apache.spark.ml.classification.LogisticRegression$$anonfun$train$1.apply(LogisticRegression.scala:494)\n\tat org.apache.spark.ml.util.Instrumentation$$anonfun$11.apply(Instrumentation.scala:185)\n\tat scala.util.Try$.apply(Try.scala:192)\n\tat org.apache.spark.ml.util.Instrumentation$.instrumented(Instrumentation.scala:185)\n\tat org.apache.spark.ml.classification.LogisticRegression.train(LogisticRegression.scala:494)\n\tat org.apache.spark.ml.classification.LogisticRegression.train(LogisticRegression.scala:489)\n\tat org.apache.spark.ml.classification.LogisticRegression.train(LogisticRegression.scala:279)\n\tat org.apache.spark.ml.Predictor.fit(Predictor.scala:118)\n\tat sun.reflect.NativeMethodAccessorImpl.invoke0(Native Method)\n\tat sun.reflect.NativeMethodAccessorImpl.invoke(NativeMethodAccessorImpl.java:62)\n\tat sun.reflect.DelegatingMethodAccessorImpl.invoke(DelegatingMethodAccessorImpl.java:43)\n\tat java.lang.reflect.Method.invoke(Method.java:498)\n\tat py4j.reflection.MethodInvoker.invoke(MethodInvoker.java:244)\n\tat py4j.reflection.ReflectionEngine.invoke(ReflectionEngine.java:357)\n\tat py4j.Gateway.invoke(Gateway.java:282)\n\tat py4j.commands.AbstractCommand.invokeMethod(AbstractCommand.java:132)\n\tat py4j.commands.CallCommand.execute(CallCommand.java:79)\n\tat py4j.GatewayConnection.run(GatewayConnection.java:238)\n\tat java.lang.Thread.run(Thread.java:748)\nCaused by: java.lang.OutOfMemoryError: GC overhead limit exceeded\n"
          ]
        }
      ]
    },
    {
      "cell_type": "markdown",
      "metadata": {
        "id": "TXOwVwY9EYW-",
        "colab_type": "text"
      },
      "source": [
        "### References\n",
        "- https://chrispfchung.github.io/import%20data/pyspark-by-example/\n",
        "- https://github.com/ernest-kiwele/chicago-crime-analysis-apache-spark/blob/master/spark-ml/chicago-crime-data-on-spark.ipynb\n",
        "- https://medium.com/@stafa002/my-notes-on-chicago-crime-data-analysis-ed66915dbb20\n",
        "-https://hackingandslacking.com/pyspark-macro-dataframe-methods-join-and-groupby-477a57836ff\n",
        "-https://databricks-prod-cloudfront.cloud.databricks.com/public/4027ec902e239c93eaaa8714f173bcfc/6231273882341974/3878104757667614/987168565515839/latest.html"
      ]
    }
  ]
}